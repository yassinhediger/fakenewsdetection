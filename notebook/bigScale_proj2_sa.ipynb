{
  "nbformat": 4,
  "nbformat_minor": 0,
  "metadata": {
    "colab": {
      "name": "bigScale-proj2-sa.ipynb",
      "provenance": []
    },
    "kernelspec": {
      "name": "python3",
      "display_name": "Python 3"
    }
  },
  "cells": [
    {
      "cell_type": "code",
      "metadata": {
        "id": "jBFbTdPfwo1Q",
        "colab_type": "code",
        "outputId": "495e4ded-7d95-48b0-865f-850594d799de",
        "colab": {
          "base_uri": "https://localhost:8080/",
          "height": 141
        }
      },
      "source": [
        "#import of important libraries\n",
        "import numpy as np \n",
        "import pandas as pd \n",
        "\n",
        "# text processing libraries\n",
        "import re\n",
        "import string\n",
        "import nltk\n",
        "nltk.download('stopwords')\n",
        "nltk.download('wordnet')\n",
        "from nltk.corpus import stopwords\n",
        "from nltk.tokenize import RegexpTokenizer\n",
        "\n",
        "# sklearn \n",
        "from sklearn import model_selection\n",
        "from sklearn.feature_extraction.text import CountVectorizer,TfidfVectorizer\n",
        "from sklearn.model_selection import train_test_split\n",
        "from sklearn.linear_model import LogisticRegression\n",
        "from sklearn.naive_bayes import MultinomialNB\n",
        "from sklearn.metrics import f1_score\n",
        "from sklearn import preprocessing, decomposition, model_selection, metrics, pipeline\n",
        "from sklearn.model_selection import GridSearchCV,StratifiedKFold,RandomizedSearchCV\n",
        "\n",
        "# matplotlib and seaborn for plotting\n",
        "import matplotlib.pyplot as plt\n",
        "import seaborn as sns\n",
        "\n",
        "# File system manangement\n",
        "import os\n",
        "\n",
        "# Suppress warnings \n",
        "import warnings\n",
        "warnings.filterwarnings('ignore')"
      ],
      "execution_count": 1,
      "outputs": [
        {
          "output_type": "stream",
          "text": [
            "[nltk_data] Downloading package stopwords to /root/nltk_data...\n",
            "[nltk_data]   Unzipping corpora/stopwords.zip.\n",
            "[nltk_data] Downloading package wordnet to /root/nltk_data...\n",
            "[nltk_data]   Unzipping corpora/wordnet.zip.\n"
          ],
          "name": "stdout"
        },
        {
          "output_type": "stream",
          "text": [
            "/usr/local/lib/python3.6/dist-packages/statsmodels/tools/_testing.py:19: FutureWarning: pandas.util.testing is deprecated. Use the functions in the public API at pandas.testing instead.\n",
            "  import pandas.util.testing as tm\n"
          ],
          "name": "stderr"
        }
      ]
    },
    {
      "cell_type": "code",
      "metadata": {
        "id": "JlFIZjbawq9v",
        "colab_type": "code",
        "colab": {}
      },
      "source": [
        "#import train and test data sets\n",
        "train_df = pd.read_csv(\"https://raw.githubusercontent.com/yassinhediger/fakenewsdetection/master/data/train.csv\")\n",
        "test_df = pd.read_csv(\"https://raw.githubusercontent.com/yassinhediger/fakenewsdetection/master/data/test.csv\")"
      ],
      "execution_count": 0,
      "outputs": []
    },
    {
      "cell_type": "code",
      "metadata": {
        "id": "3iavAOFtw5zj",
        "colab_type": "code",
        "outputId": "708938d4-b9b8-411c-bae6-831e03a44bd1",
        "colab": {
          "base_uri": "https://localhost:8080/",
          "height": 415
        }
      },
      "source": [
        "train_df"
      ],
      "execution_count": 3,
      "outputs": [
        {
          "output_type": "execute_result",
          "data": {
            "text/html": [
              "<div>\n",
              "<style scoped>\n",
              "    .dataframe tbody tr th:only-of-type {\n",
              "        vertical-align: middle;\n",
              "    }\n",
              "\n",
              "    .dataframe tbody tr th {\n",
              "        vertical-align: top;\n",
              "    }\n",
              "\n",
              "    .dataframe thead th {\n",
              "        text-align: right;\n",
              "    }\n",
              "</style>\n",
              "<table border=\"1\" class=\"dataframe\">\n",
              "  <thead>\n",
              "    <tr style=\"text-align: right;\">\n",
              "      <th></th>\n",
              "      <th>id</th>\n",
              "      <th>keyword</th>\n",
              "      <th>location</th>\n",
              "      <th>text</th>\n",
              "      <th>target</th>\n",
              "    </tr>\n",
              "  </thead>\n",
              "  <tbody>\n",
              "    <tr>\n",
              "      <th>0</th>\n",
              "      <td>1</td>\n",
              "      <td>NaN</td>\n",
              "      <td>NaN</td>\n",
              "      <td>Our Deeds are the Reason of this #earthquake M...</td>\n",
              "      <td>1</td>\n",
              "    </tr>\n",
              "    <tr>\n",
              "      <th>1</th>\n",
              "      <td>4</td>\n",
              "      <td>NaN</td>\n",
              "      <td>NaN</td>\n",
              "      <td>Forest fire near La Ronge Sask. Canada</td>\n",
              "      <td>1</td>\n",
              "    </tr>\n",
              "    <tr>\n",
              "      <th>2</th>\n",
              "      <td>5</td>\n",
              "      <td>NaN</td>\n",
              "      <td>NaN</td>\n",
              "      <td>All residents asked to 'shelter in place' are ...</td>\n",
              "      <td>1</td>\n",
              "    </tr>\n",
              "    <tr>\n",
              "      <th>3</th>\n",
              "      <td>6</td>\n",
              "      <td>NaN</td>\n",
              "      <td>NaN</td>\n",
              "      <td>13,000 people receive #wildfires evacuation or...</td>\n",
              "      <td>1</td>\n",
              "    </tr>\n",
              "    <tr>\n",
              "      <th>4</th>\n",
              "      <td>7</td>\n",
              "      <td>NaN</td>\n",
              "      <td>NaN</td>\n",
              "      <td>Just got sent this photo from Ruby #Alaska as ...</td>\n",
              "      <td>1</td>\n",
              "    </tr>\n",
              "    <tr>\n",
              "      <th>...</th>\n",
              "      <td>...</td>\n",
              "      <td>...</td>\n",
              "      <td>...</td>\n",
              "      <td>...</td>\n",
              "      <td>...</td>\n",
              "    </tr>\n",
              "    <tr>\n",
              "      <th>7608</th>\n",
              "      <td>10869</td>\n",
              "      <td>NaN</td>\n",
              "      <td>NaN</td>\n",
              "      <td>Two giant cranes holding a bridge collapse int...</td>\n",
              "      <td>1</td>\n",
              "    </tr>\n",
              "    <tr>\n",
              "      <th>7609</th>\n",
              "      <td>10870</td>\n",
              "      <td>NaN</td>\n",
              "      <td>NaN</td>\n",
              "      <td>@aria_ahrary @TheTawniest The out of control w...</td>\n",
              "      <td>1</td>\n",
              "    </tr>\n",
              "    <tr>\n",
              "      <th>7610</th>\n",
              "      <td>10871</td>\n",
              "      <td>NaN</td>\n",
              "      <td>NaN</td>\n",
              "      <td>M1.94 [01:04 UTC]?5km S of Volcano Hawaii. htt...</td>\n",
              "      <td>1</td>\n",
              "    </tr>\n",
              "    <tr>\n",
              "      <th>7611</th>\n",
              "      <td>10872</td>\n",
              "      <td>NaN</td>\n",
              "      <td>NaN</td>\n",
              "      <td>Police investigating after an e-bike collided ...</td>\n",
              "      <td>1</td>\n",
              "    </tr>\n",
              "    <tr>\n",
              "      <th>7612</th>\n",
              "      <td>10873</td>\n",
              "      <td>NaN</td>\n",
              "      <td>NaN</td>\n",
              "      <td>The Latest: More Homes Razed by Northern Calif...</td>\n",
              "      <td>1</td>\n",
              "    </tr>\n",
              "  </tbody>\n",
              "</table>\n",
              "<p>7613 rows × 5 columns</p>\n",
              "</div>"
            ],
            "text/plain": [
              "         id keyword  ...                                               text target\n",
              "0         1     NaN  ...  Our Deeds are the Reason of this #earthquake M...      1\n",
              "1         4     NaN  ...             Forest fire near La Ronge Sask. Canada      1\n",
              "2         5     NaN  ...  All residents asked to 'shelter in place' are ...      1\n",
              "3         6     NaN  ...  13,000 people receive #wildfires evacuation or...      1\n",
              "4         7     NaN  ...  Just got sent this photo from Ruby #Alaska as ...      1\n",
              "...     ...     ...  ...                                                ...    ...\n",
              "7608  10869     NaN  ...  Two giant cranes holding a bridge collapse int...      1\n",
              "7609  10870     NaN  ...  @aria_ahrary @TheTawniest The out of control w...      1\n",
              "7610  10871     NaN  ...  M1.94 [01:04 UTC]?5km S of Volcano Hawaii. htt...      1\n",
              "7611  10872     NaN  ...  Police investigating after an e-bike collided ...      1\n",
              "7612  10873     NaN  ...  The Latest: More Homes Razed by Northern Calif...      1\n",
              "\n",
              "[7613 rows x 5 columns]"
            ]
          },
          "metadata": {
            "tags": []
          },
          "execution_count": 3
        }
      ]
    },
    {
      "cell_type": "code",
      "metadata": {
        "id": "Fe7M7EXhxMQP",
        "colab_type": "code",
        "outputId": "6210b394-6c3e-459a-d7db-cb27203a3d05",
        "colab": {
          "base_uri": "https://localhost:8080/",
          "height": 415
        }
      },
      "source": [
        "test_df"
      ],
      "execution_count": 4,
      "outputs": [
        {
          "output_type": "execute_result",
          "data": {
            "text/html": [
              "<div>\n",
              "<style scoped>\n",
              "    .dataframe tbody tr th:only-of-type {\n",
              "        vertical-align: middle;\n",
              "    }\n",
              "\n",
              "    .dataframe tbody tr th {\n",
              "        vertical-align: top;\n",
              "    }\n",
              "\n",
              "    .dataframe thead th {\n",
              "        text-align: right;\n",
              "    }\n",
              "</style>\n",
              "<table border=\"1\" class=\"dataframe\">\n",
              "  <thead>\n",
              "    <tr style=\"text-align: right;\">\n",
              "      <th></th>\n",
              "      <th>id</th>\n",
              "      <th>keyword</th>\n",
              "      <th>location</th>\n",
              "      <th>text</th>\n",
              "    </tr>\n",
              "  </thead>\n",
              "  <tbody>\n",
              "    <tr>\n",
              "      <th>0</th>\n",
              "      <td>0</td>\n",
              "      <td>NaN</td>\n",
              "      <td>NaN</td>\n",
              "      <td>Just happened a terrible car crash</td>\n",
              "    </tr>\n",
              "    <tr>\n",
              "      <th>1</th>\n",
              "      <td>2</td>\n",
              "      <td>NaN</td>\n",
              "      <td>NaN</td>\n",
              "      <td>Heard about #earthquake is different cities, s...</td>\n",
              "    </tr>\n",
              "    <tr>\n",
              "      <th>2</th>\n",
              "      <td>3</td>\n",
              "      <td>NaN</td>\n",
              "      <td>NaN</td>\n",
              "      <td>there is a forest fire at spot pond, geese are...</td>\n",
              "    </tr>\n",
              "    <tr>\n",
              "      <th>3</th>\n",
              "      <td>9</td>\n",
              "      <td>NaN</td>\n",
              "      <td>NaN</td>\n",
              "      <td>Apocalypse lighting. #Spokane #wildfires</td>\n",
              "    </tr>\n",
              "    <tr>\n",
              "      <th>4</th>\n",
              "      <td>11</td>\n",
              "      <td>NaN</td>\n",
              "      <td>NaN</td>\n",
              "      <td>Typhoon Soudelor kills 28 in China and Taiwan</td>\n",
              "    </tr>\n",
              "    <tr>\n",
              "      <th>...</th>\n",
              "      <td>...</td>\n",
              "      <td>...</td>\n",
              "      <td>...</td>\n",
              "      <td>...</td>\n",
              "    </tr>\n",
              "    <tr>\n",
              "      <th>3258</th>\n",
              "      <td>10861</td>\n",
              "      <td>NaN</td>\n",
              "      <td>NaN</td>\n",
              "      <td>EARTHQUAKE SAFETY LOS ANGELES ÛÒ SAFETY FASTE...</td>\n",
              "    </tr>\n",
              "    <tr>\n",
              "      <th>3259</th>\n",
              "      <td>10865</td>\n",
              "      <td>NaN</td>\n",
              "      <td>NaN</td>\n",
              "      <td>Storm in RI worse than last hurricane. My city...</td>\n",
              "    </tr>\n",
              "    <tr>\n",
              "      <th>3260</th>\n",
              "      <td>10868</td>\n",
              "      <td>NaN</td>\n",
              "      <td>NaN</td>\n",
              "      <td>Green Line derailment in Chicago http://t.co/U...</td>\n",
              "    </tr>\n",
              "    <tr>\n",
              "      <th>3261</th>\n",
              "      <td>10874</td>\n",
              "      <td>NaN</td>\n",
              "      <td>NaN</td>\n",
              "      <td>MEG issues Hazardous Weather Outlook (HWO) htt...</td>\n",
              "    </tr>\n",
              "    <tr>\n",
              "      <th>3262</th>\n",
              "      <td>10875</td>\n",
              "      <td>NaN</td>\n",
              "      <td>NaN</td>\n",
              "      <td>#CityofCalgary has activated its Municipal Eme...</td>\n",
              "    </tr>\n",
              "  </tbody>\n",
              "</table>\n",
              "<p>3263 rows × 4 columns</p>\n",
              "</div>"
            ],
            "text/plain": [
              "         id keyword location                                               text\n",
              "0         0     NaN      NaN                 Just happened a terrible car crash\n",
              "1         2     NaN      NaN  Heard about #earthquake is different cities, s...\n",
              "2         3     NaN      NaN  there is a forest fire at spot pond, geese are...\n",
              "3         9     NaN      NaN           Apocalypse lighting. #Spokane #wildfires\n",
              "4        11     NaN      NaN      Typhoon Soudelor kills 28 in China and Taiwan\n",
              "...     ...     ...      ...                                                ...\n",
              "3258  10861     NaN      NaN  EARTHQUAKE SAFETY LOS ANGELES ÛÒ SAFETY FASTE...\n",
              "3259  10865     NaN      NaN  Storm in RI worse than last hurricane. My city...\n",
              "3260  10868     NaN      NaN  Green Line derailment in Chicago http://t.co/U...\n",
              "3261  10874     NaN      NaN  MEG issues Hazardous Weather Outlook (HWO) htt...\n",
              "3262  10875     NaN      NaN  #CityofCalgary has activated its Municipal Eme...\n",
              "\n",
              "[3263 rows x 4 columns]"
            ]
          },
          "metadata": {
            "tags": []
          },
          "execution_count": 4
        }
      ]
    },
    {
      "cell_type": "code",
      "metadata": {
        "id": "xXkdbh5-xXl3",
        "colab_type": "code",
        "outputId": "160c92ba-83b0-4d93-d41a-2393578856b0",
        "colab": {
          "base_uri": "https://localhost:8080/",
          "height": 121
        }
      },
      "source": [
        "#Missing values in training set\n",
        "train_df.isnull().sum()"
      ],
      "execution_count": 5,
      "outputs": [
        {
          "output_type": "execute_result",
          "data": {
            "text/plain": [
              "id             0\n",
              "keyword       61\n",
              "location    2533\n",
              "text           0\n",
              "target         0\n",
              "dtype: int64"
            ]
          },
          "metadata": {
            "tags": []
          },
          "execution_count": 5
        }
      ]
    },
    {
      "cell_type": "code",
      "metadata": {
        "id": "yWCu76k-xfSO",
        "colab_type": "code",
        "outputId": "4f9ee922-569e-42e9-9d68-e5ea37bb14f4",
        "colab": {
          "base_uri": "https://localhost:8080/",
          "height": 104
        }
      },
      "source": [
        "#Missing values in test set\n",
        "test_df.isnull().sum()"
      ],
      "execution_count": 6,
      "outputs": [
        {
          "output_type": "execute_result",
          "data": {
            "text/plain": [
              "id             0\n",
              "keyword       26\n",
              "location    1105\n",
              "text           0\n",
              "dtype: int64"
            ]
          },
          "metadata": {
            "tags": []
          },
          "execution_count": 6
        }
      ]
    },
    {
      "cell_type": "markdown",
      "metadata": {
        "id": "zwCkSTROxxuo",
        "colab_type": "text"
      },
      "source": [
        "A lot of values are missing in both train and test set."
      ]
    },
    {
      "cell_type": "markdown",
      "metadata": {
        "id": "JmrjWA_8x-aI",
        "colab_type": "text"
      },
      "source": [
        "#Exploring the target column\n",
        "\n",
        "\n",
        "\n",
        "*   Distribution of the target column\n",
        "\n"
      ]
    },
    {
      "cell_type": "code",
      "metadata": {
        "id": "mdbnuF92x5fU",
        "colab_type": "code",
        "outputId": "64bb980f-f58f-47b1-e630-1c25adeba8d1",
        "colab": {
          "base_uri": "https://localhost:8080/",
          "height": 69
        }
      },
      "source": [
        "train_df['target'].value_counts()"
      ],
      "execution_count": 7,
      "outputs": [
        {
          "output_type": "execute_result",
          "data": {
            "text/plain": [
              "0    4342\n",
              "1    3271\n",
              "Name: target, dtype: int64"
            ]
          },
          "metadata": {
            "tags": []
          },
          "execution_count": 7
        }
      ]
    },
    {
      "cell_type": "code",
      "metadata": {
        "id": "MTrNVemuyQyK",
        "colab_type": "code",
        "outputId": "4eb0f92e-5633-4cf9-a370-a369d4e65573",
        "colab": {
          "base_uri": "https://localhost:8080/",
          "height": 283
        }
      },
      "source": [
        "#let's visualize the distribution of target value \n",
        "sns.barplot(train_df['target'].value_counts().index,train_df['target'].value_counts())"
      ],
      "execution_count": 8,
      "outputs": [
        {
          "output_type": "execute_result",
          "data": {
            "text/plain": [
              "<matplotlib.axes._subplots.AxesSubplot at 0x7faa9bf09390>"
            ]
          },
          "metadata": {
            "tags": []
          },
          "execution_count": 8
        },
        {
          "output_type": "display_data",
          "data": {
            "image/png": "[encoded data removed]",
            "text/plain": [
              "<Figure size 432x288 with 1 Axes>"
            ]
          },
          "metadata": {
            "tags": [],
            "needs_background": "light"
          }
        }
      ]
    },
    {
      "cell_type": "markdown",
      "metadata": {
        "id": "d9-_9G5KypMl",
        "colab_type": "text"
      },
      "source": [
        "\n",
        "\n",
        "*   Exploring the Target Column :  Let's look at what the disaster and the non disaster tweets look like\n",
        "\n"
      ]
    },
    {
      "cell_type": "code",
      "metadata": {
        "id": "fuE4Zd1-ywoE",
        "colab_type": "code",
        "outputId": "78ae0aed-7f0d-4766-bf5e-cd744395d525",
        "colab": {
          "base_uri": "https://localhost:8080/",
          "height": 35
        }
      },
      "source": [
        "# A disaster tweet\n",
        "disaster_tweets = train_df[train_df['target']==1]['text']\n",
        "disaster_tweets.values[0]"
      ],
      "execution_count": 9,
      "outputs": [
        {
          "output_type": "execute_result",
          "data": {
            "text/plain": [
              "'Our Deeds are the Reason of this #earthquake May ALLAH Forgive us all'"
            ]
          },
          "metadata": {
            "tags": []
          },
          "execution_count": 9
        }
      ]
    },
    {
      "cell_type": "code",
      "metadata": {
        "id": "AkQrUjCozIBi",
        "colab_type": "code",
        "outputId": "1e8d1df6-2532-45b2-b3d9-efcf42642d71",
        "colab": {
          "base_uri": "https://localhost:8080/",
          "height": 35
        }
      },
      "source": [
        "#not a disaster tweet\n",
        "non_disaster_tweets = train_df[train_df['target']==0]['text']\n",
        "non_disaster_tweets.values[0]"
      ],
      "execution_count": 10,
      "outputs": [
        {
          "output_type": "execute_result",
          "data": {
            "text/plain": [
              "\"What's up man?\""
            ]
          },
          "metadata": {
            "tags": []
          },
          "execution_count": 10
        }
      ]
    },
    {
      "cell_type": "markdown",
      "metadata": {
        "id": "ApCyPSyizlK7",
        "colab_type": "text"
      },
      "source": [
        "\n",
        "# Exploring the 'keyword' column\n",
        "\n",
        "The keyword column contains a keyword from the tweet. Let's look at the top keywords in the training data\n"
      ]
    },
    {
      "cell_type": "code",
      "metadata": {
        "id": "4y5ntalvzsy7",
        "colab_type": "code",
        "outputId": "f4f5f760-48ee-4427-f646-de770c4b247f",
        "colab": {
          "base_uri": "https://localhost:8080/",
          "height": 297
        }
      },
      "source": [
        "sns.barplot(y=train_df['keyword'].value_counts()[:15].index,x=train_df['keyword'].value_counts()[:15],\n",
        "            orient='h')"
      ],
      "execution_count": 11,
      "outputs": [
        {
          "output_type": "execute_result",
          "data": {
            "text/plain": [
              "<matplotlib.axes._subplots.AxesSubplot at 0x7faa9bf00828>"
            ]
          },
          "metadata": {
            "tags": []
          },
          "execution_count": 11
        },
        {
          "output_type": "display_data",
          "data": {
            "image/png": "[encoded data removed]",
            "text/plain": [
              "<Figure size 432x288 with 1 Axes>"
            ]
          },
          "metadata": {
            "tags": [],
            "needs_background": "light"
          }
        }
      ]
    },
    {
      "cell_type": "markdown",
      "metadata": {
        "id": "qMOlp_q50FRE",
        "colab_type": "text"
      },
      "source": [
        "Let's see how often the word 'disaster' come in the dataset and whether this help us in determining whether a tweet belongs to a disaster category or not."
      ]
    },
    {
      "cell_type": "code",
      "metadata": {
        "id": "8pZQHZoa0GoG",
        "colab_type": "code",
        "outputId": "9ff89048-88df-48bf-b0a2-9d4965884d19",
        "colab": {
          "base_uri": "https://localhost:8080/",
          "height": 69
        }
      },
      "source": [
        "train_df.loc[train_df['text'].str.contains('disaster', na=False, case=False)].target.value_counts()"
      ],
      "execution_count": 12,
      "outputs": [
        {
          "output_type": "execute_result",
          "data": {
            "text/plain": [
              "1    102\n",
              "0     40\n",
              "Name: target, dtype: int64"
            ]
          },
          "metadata": {
            "tags": []
          },
          "execution_count": 12
        }
      ]
    },
    {
      "cell_type": "markdown",
      "metadata": {
        "id": "lKpkWn3j0ZFV",
        "colab_type": "text"
      },
      "source": [
        "# Text Data preprocessing\n",
        "\n",
        "## 1. Data cleaning\n"
      ]
    },
    {
      "cell_type": "code",
      "metadata": {
        "id": "EC0xXweF0hlL",
        "colab_type": "code",
        "outputId": "bec40f1c-1734-47c2-a65b-d66b32d5139a",
        "colab": {
          "base_uri": "https://localhost:8080/",
          "height": 381
        }
      },
      "source": [
        "# A quick glance over the existing data\n",
        "train_df['text'][:20]"
      ],
      "execution_count": 13,
      "outputs": [
        {
          "output_type": "execute_result",
          "data": {
            "text/plain": [
              "0     Our Deeds are the Reason of this #earthquake M...\n",
              "1                Forest fire near La Ronge Sask. Canada\n",
              "2     All residents asked to 'shelter in place' are ...\n",
              "3     13,000 people receive #wildfires evacuation or...\n",
              "4     Just got sent this photo from Ruby #Alaska as ...\n",
              "5     #RockyFire Update => California Hwy. 20 closed...\n",
              "6     #flood #disaster Heavy rain causes flash flood...\n",
              "7     I'm on top of the hill and I can see a fire in...\n",
              "8     There's an emergency evacuation happening now ...\n",
              "9     I'm afraid that the tornado is coming to our a...\n",
              "10          Three people died from the heat wave so far\n",
              "11    Haha South Tampa is getting flooded hah- WAIT ...\n",
              "12    #raining #flooding #Florida #TampaBay #Tampa 1...\n",
              "13              #Flood in Bago Myanmar #We arrived Bago\n",
              "14    Damage to school bus on 80 in multi car crash ...\n",
              "15                                       What's up man?\n",
              "16                                        I love fruits\n",
              "17                                     Summer is lovely\n",
              "18                                    My car is so fast\n",
              "19                         What a goooooooaaaaaal!!!!!!\n",
              "Name: text, dtype: object"
            ]
          },
          "metadata": {
            "tags": []
          },
          "execution_count": 13
        }
      ]
    },
    {
      "cell_type": "code",
      "metadata": {
        "id": "BVwIX_xP1RGD",
        "colab_type": "code",
        "outputId": "8669df64-54fd-4dc9-f043-2c0d74b0fe49",
        "colab": {
          "base_uri": "https://localhost:8080/",
          "height": 381
        }
      },
      "source": [
        "# Applying a first round of text cleaning techniques\n",
        "\n",
        "def clean_text(text):\n",
        "    '''Make text lowercase, remove text in square brackets,remove links,remove punctuation\n",
        "    and remove words containing numbers.'''\n",
        "    text = text.lower()\n",
        "    text = re.sub('\\[.*?\\]', '', text)\n",
        "    text = re.sub('https?://\\S+|www\\.\\S+', '', text)\n",
        "    text = re.sub('<.*?>+', '', text)\n",
        "    text = re.sub('[%s]' % re.escape(string.punctuation), '', text)\n",
        "    text = re.sub('\\n', '', text)\n",
        "    text = re.sub('\\w*\\d\\w*', '', text)\n",
        "    return text\n",
        "\n",
        "# Applying the cleaning function to both test and training datasets\n",
        "train_df['text'] = train_df['text'].apply(lambda x: clean_text(x))\n",
        "test_df['text'] = test_df['text'].apply(lambda x: clean_text(x))\n",
        "\n",
        "# Let's take a look at the updated text\n",
        "train_df['text'].head(20)"
      ],
      "execution_count": 14,
      "outputs": [
        {
          "output_type": "execute_result",
          "data": {
            "text/plain": [
              "0     our deeds are the reason of this earthquake ma...\n",
              "1                 forest fire near la ronge sask canada\n",
              "2     all residents asked to shelter in place are be...\n",
              "3      people receive wildfires evacuation orders in...\n",
              "4     just got sent this photo from ruby alaska as s...\n",
              "5     rockyfire update  california hwy  closed in bo...\n",
              "6     flood disaster heavy rain causes flash floodin...\n",
              "7     im on top of the hill and i can see a fire in ...\n",
              "8     theres an emergency evacuation happening now i...\n",
              "9      im afraid that the tornado is coming to our area\n",
              "10          three people died from the heat wave so far\n",
              "11    haha south tampa is getting flooded hah wait a...\n",
              "12    raining flooding florida tampabay tampa  or  d...\n",
              "13                flood in bago myanmar we arrived bago\n",
              "14    damage to school bus on  in multi car crash br...\n",
              "15                                         whats up man\n",
              "16                                        i love fruits\n",
              "17                                     summer is lovely\n",
              "18                                    my car is so fast\n",
              "19                               what a goooooooaaaaaal\n",
              "Name: text, dtype: object"
            ]
          },
          "metadata": {
            "tags": []
          },
          "execution_count": 14
        }
      ]
    },
    {
      "cell_type": "markdown",
      "metadata": {
        "id": "1HG-FuMD2lSf",
        "colab_type": "text"
      },
      "source": [
        "\n",
        "## 2. Stopwords Removal\n",
        "\n",
        "Now, let's get rid of the stopwords i.e words which occur very frequently but have no possible value like a, an, the, are etc.\n"
      ]
    },
    {
      "cell_type": "code",
      "metadata": {
        "id": "jcy3ZqcP2n6T",
        "colab_type": "code",
        "colab": {}
      },
      "source": [
        "def remove_stopwords(text):\n",
        "    \"\"\"\n",
        "    Removing stopwords belonging to english language\n",
        "    \n",
        "    \"\"\"\n",
        "    words = [w for w in text if w not in stopwords.words('english')]\n",
        "    return words\n"
      ],
      "execution_count": 0,
      "outputs": []
    },
    {
      "cell_type": "code",
      "metadata": {
        "id": "2y__-7f2E03I",
        "colab_type": "code",
        "colab": {}
      },
      "source": [
        "def text_preprocessing(text):\n",
        "    \"\"\"\n",
        "    Cleaning and parsing the text.\n",
        "\n",
        "    \"\"\"\n",
        "    tokenizer = nltk.tokenize.RegexpTokenizer(r'\\w+')\n",
        "    \n",
        "    nopunc = clean_text(text)\n",
        "    tokenized_text = tokenizer.tokenize(nopunc)\n",
        "    remove_stopwords = [w for w in tokenized_text if w not in stopwords.words('english')]\n",
        "    combined_text = ' '.join(remove_stopwords)\n",
        "    return combined_text"
      ],
      "execution_count": 0,
      "outputs": []
    },
    {
      "cell_type": "markdown",
      "metadata": {
        "id": "cROXLVSt1uxW",
        "colab_type": "text"
      },
      "source": [
        "## 3. Tokenization\n",
        "\n",
        "Tokenization is a process that splits an input sequence into so-called tokens where the tokens can be a word, sentence, paragraph etc. Base upon the type of tokens we want, tokenization can be of various types, for instance by white space or punctuation etc."
      ]
    },
    {
      "cell_type": "code",
      "metadata": {
        "id": "0lnf8pMt1wtH",
        "colab_type": "code",
        "outputId": "84d14c31-b54b-4777-9c68-52b7179563f1",
        "colab": {
          "base_uri": "https://localhost:8080/",
          "height": 662
        }
      },
      "source": [
        "# Tokenizing the training and the test set\n",
        "tokenizer = RegexpTokenizer(r'\\w+')\n",
        "train_df['tokens'] = train_df['text'].apply(tokenizer.tokenize)\n",
        "test_df['tokens'] = test_df['text'].apply(tokenizer.tokenize)\n",
        "train_df.head(20)\n"
      ],
      "execution_count": 17,
      "outputs": [
        {
          "output_type": "execute_result",
          "data": {
            "text/html": [
              "<div>\n",
              "<style scoped>\n",
              "    .dataframe tbody tr th:only-of-type {\n",
              "        vertical-align: middle;\n",
              "    }\n",
              "\n",
              "    .dataframe tbody tr th {\n",
              "        vertical-align: top;\n",
              "    }\n",
              "\n",
              "    .dataframe thead th {\n",
              "        text-align: right;\n",
              "    }\n",
              "</style>\n",
              "<table border=\"1\" class=\"dataframe\">\n",
              "  <thead>\n",
              "    <tr style=\"text-align: right;\">\n",
              "      <th></th>\n",
              "      <th>id</th>\n",
              "      <th>keyword</th>\n",
              "      <th>location</th>\n",
              "      <th>text</th>\n",
              "      <th>target</th>\n",
              "      <th>tokens</th>\n",
              "    </tr>\n",
              "  </thead>\n",
              "  <tbody>\n",
              "    <tr>\n",
              "      <th>0</th>\n",
              "      <td>1</td>\n",
              "      <td>NaN</td>\n",
              "      <td>NaN</td>\n",
              "      <td>our deeds are the reason of this earthquake ma...</td>\n",
              "      <td>1</td>\n",
              "      <td>[our, deeds, are, the, reason, of, this, earth...</td>\n",
              "    </tr>\n",
              "    <tr>\n",
              "      <th>1</th>\n",
              "      <td>4</td>\n",
              "      <td>NaN</td>\n",
              "      <td>NaN</td>\n",
              "      <td>forest fire near la ronge sask canada</td>\n",
              "      <td>1</td>\n",
              "      <td>[forest, fire, near, la, ronge, sask, canada]</td>\n",
              "    </tr>\n",
              "    <tr>\n",
              "      <th>2</th>\n",
              "      <td>5</td>\n",
              "      <td>NaN</td>\n",
              "      <td>NaN</td>\n",
              "      <td>all residents asked to shelter in place are be...</td>\n",
              "      <td>1</td>\n",
              "      <td>[all, residents, asked, to, shelter, in, place...</td>\n",
              "    </tr>\n",
              "    <tr>\n",
              "      <th>3</th>\n",
              "      <td>6</td>\n",
              "      <td>NaN</td>\n",
              "      <td>NaN</td>\n",
              "      <td>people receive wildfires evacuation orders in...</td>\n",
              "      <td>1</td>\n",
              "      <td>[people, receive, wildfires, evacuation, order...</td>\n",
              "    </tr>\n",
              "    <tr>\n",
              "      <th>4</th>\n",
              "      <td>7</td>\n",
              "      <td>NaN</td>\n",
              "      <td>NaN</td>\n",
              "      <td>just got sent this photo from ruby alaska as s...</td>\n",
              "      <td>1</td>\n",
              "      <td>[just, got, sent, this, photo, from, ruby, ala...</td>\n",
              "    </tr>\n",
              "    <tr>\n",
              "      <th>5</th>\n",
              "      <td>8</td>\n",
              "      <td>NaN</td>\n",
              "      <td>NaN</td>\n",
              "      <td>rockyfire update  california hwy  closed in bo...</td>\n",
              "      <td>1</td>\n",
              "      <td>[rockyfire, update, california, hwy, closed, i...</td>\n",
              "    </tr>\n",
              "    <tr>\n",
              "      <th>6</th>\n",
              "      <td>10</td>\n",
              "      <td>NaN</td>\n",
              "      <td>NaN</td>\n",
              "      <td>flood disaster heavy rain causes flash floodin...</td>\n",
              "      <td>1</td>\n",
              "      <td>[flood, disaster, heavy, rain, causes, flash, ...</td>\n",
              "    </tr>\n",
              "    <tr>\n",
              "      <th>7</th>\n",
              "      <td>13</td>\n",
              "      <td>NaN</td>\n",
              "      <td>NaN</td>\n",
              "      <td>im on top of the hill and i can see a fire in ...</td>\n",
              "      <td>1</td>\n",
              "      <td>[im, on, top, of, the, hill, and, i, can, see,...</td>\n",
              "    </tr>\n",
              "    <tr>\n",
              "      <th>8</th>\n",
              "      <td>14</td>\n",
              "      <td>NaN</td>\n",
              "      <td>NaN</td>\n",
              "      <td>theres an emergency evacuation happening now i...</td>\n",
              "      <td>1</td>\n",
              "      <td>[theres, an, emergency, evacuation, happening,...</td>\n",
              "    </tr>\n",
              "    <tr>\n",
              "      <th>9</th>\n",
              "      <td>15</td>\n",
              "      <td>NaN</td>\n",
              "      <td>NaN</td>\n",
              "      <td>im afraid that the tornado is coming to our area</td>\n",
              "      <td>1</td>\n",
              "      <td>[im, afraid, that, the, tornado, is, coming, t...</td>\n",
              "    </tr>\n",
              "    <tr>\n",
              "      <th>10</th>\n",
              "      <td>16</td>\n",
              "      <td>NaN</td>\n",
              "      <td>NaN</td>\n",
              "      <td>three people died from the heat wave so far</td>\n",
              "      <td>1</td>\n",
              "      <td>[three, people, died, from, the, heat, wave, s...</td>\n",
              "    </tr>\n",
              "    <tr>\n",
              "      <th>11</th>\n",
              "      <td>17</td>\n",
              "      <td>NaN</td>\n",
              "      <td>NaN</td>\n",
              "      <td>haha south tampa is getting flooded hah wait a...</td>\n",
              "      <td>1</td>\n",
              "      <td>[haha, south, tampa, is, getting, flooded, hah...</td>\n",
              "    </tr>\n",
              "    <tr>\n",
              "      <th>12</th>\n",
              "      <td>18</td>\n",
              "      <td>NaN</td>\n",
              "      <td>NaN</td>\n",
              "      <td>raining flooding florida tampabay tampa  or  d...</td>\n",
              "      <td>1</td>\n",
              "      <td>[raining, flooding, florida, tampabay, tampa, ...</td>\n",
              "    </tr>\n",
              "    <tr>\n",
              "      <th>13</th>\n",
              "      <td>19</td>\n",
              "      <td>NaN</td>\n",
              "      <td>NaN</td>\n",
              "      <td>flood in bago myanmar we arrived bago</td>\n",
              "      <td>1</td>\n",
              "      <td>[flood, in, bago, myanmar, we, arrived, bago]</td>\n",
              "    </tr>\n",
              "    <tr>\n",
              "      <th>14</th>\n",
              "      <td>20</td>\n",
              "      <td>NaN</td>\n",
              "      <td>NaN</td>\n",
              "      <td>damage to school bus on  in multi car crash br...</td>\n",
              "      <td>1</td>\n",
              "      <td>[damage, to, school, bus, on, in, multi, car, ...</td>\n",
              "    </tr>\n",
              "    <tr>\n",
              "      <th>15</th>\n",
              "      <td>23</td>\n",
              "      <td>NaN</td>\n",
              "      <td>NaN</td>\n",
              "      <td>whats up man</td>\n",
              "      <td>0</td>\n",
              "      <td>[whats, up, man]</td>\n",
              "    </tr>\n",
              "    <tr>\n",
              "      <th>16</th>\n",
              "      <td>24</td>\n",
              "      <td>NaN</td>\n",
              "      <td>NaN</td>\n",
              "      <td>i love fruits</td>\n",
              "      <td>0</td>\n",
              "      <td>[i, love, fruits]</td>\n",
              "    </tr>\n",
              "    <tr>\n",
              "      <th>17</th>\n",
              "      <td>25</td>\n",
              "      <td>NaN</td>\n",
              "      <td>NaN</td>\n",
              "      <td>summer is lovely</td>\n",
              "      <td>0</td>\n",
              "      <td>[summer, is, lovely]</td>\n",
              "    </tr>\n",
              "    <tr>\n",
              "      <th>18</th>\n",
              "      <td>26</td>\n",
              "      <td>NaN</td>\n",
              "      <td>NaN</td>\n",
              "      <td>my car is so fast</td>\n",
              "      <td>0</td>\n",
              "      <td>[my, car, is, so, fast]</td>\n",
              "    </tr>\n",
              "    <tr>\n",
              "      <th>19</th>\n",
              "      <td>28</td>\n",
              "      <td>NaN</td>\n",
              "      <td>NaN</td>\n",
              "      <td>what a goooooooaaaaaal</td>\n",
              "      <td>0</td>\n",
              "      <td>[what, a, goooooooaaaaaal]</td>\n",
              "    </tr>\n",
              "  </tbody>\n",
              "</table>\n",
              "</div>"
            ],
            "text/plain": [
              "    id keyword  ... target                                             tokens\n",
              "0    1     NaN  ...      1  [our, deeds, are, the, reason, of, this, earth...\n",
              "1    4     NaN  ...      1      [forest, fire, near, la, ronge, sask, canada]\n",
              "2    5     NaN  ...      1  [all, residents, asked, to, shelter, in, place...\n",
              "3    6     NaN  ...      1  [people, receive, wildfires, evacuation, order...\n",
              "4    7     NaN  ...      1  [just, got, sent, this, photo, from, ruby, ala...\n",
              "5    8     NaN  ...      1  [rockyfire, update, california, hwy, closed, i...\n",
              "6   10     NaN  ...      1  [flood, disaster, heavy, rain, causes, flash, ...\n",
              "7   13     NaN  ...      1  [im, on, top, of, the, hill, and, i, can, see,...\n",
              "8   14     NaN  ...      1  [theres, an, emergency, evacuation, happening,...\n",
              "9   15     NaN  ...      1  [im, afraid, that, the, tornado, is, coming, t...\n",
              "10  16     NaN  ...      1  [three, people, died, from, the, heat, wave, s...\n",
              "11  17     NaN  ...      1  [haha, south, tampa, is, getting, flooded, hah...\n",
              "12  18     NaN  ...      1  [raining, flooding, florida, tampabay, tampa, ...\n",
              "13  19     NaN  ...      1      [flood, in, bago, myanmar, we, arrived, bago]\n",
              "14  20     NaN  ...      1  [damage, to, school, bus, on, in, multi, car, ...\n",
              "15  23     NaN  ...      0                                   [whats, up, man]\n",
              "16  24     NaN  ...      0                                  [i, love, fruits]\n",
              "17  25     NaN  ...      0                               [summer, is, lovely]\n",
              "18  26     NaN  ...      0                            [my, car, is, so, fast]\n",
              "19  28     NaN  ...      0                         [what, a, goooooooaaaaaal]\n",
              "\n",
              "[20 rows x 6 columns]"
            ]
          },
          "metadata": {
            "tags": []
          },
          "execution_count": 17
        }
      ]
    },
    {
      "cell_type": "markdown",
      "metadata": {
        "id": "cnWzMTohVt1Z",
        "colab_type": "text"
      },
      "source": [
        "### Inspecting our dataset a little more"
      ]
    },
    {
      "cell_type": "code",
      "metadata": {
        "id": "Qhi_wxRCVziJ",
        "colab_type": "code",
        "outputId": "cfa679f7-4cf4-4df9-ada2-95c607f483ac",
        "colab": {
          "base_uri": "https://localhost:8080/",
          "height": 69
        }
      },
      "source": [
        "from keras.preprocessing.text import Tokenizer\n",
        "from keras.preprocessing.sequence import pad_sequences\n",
        "from keras.utils import to_categorical\n",
        "\n",
        "all_words = [word for tokens in train_df[\"tokens\"] for word in tokens]\n",
        "sentence_lengths = [len(tokens) for tokens in train_df[\"tokens\"]]\n",
        "VOCAB = sorted(list(set(all_words)))\n",
        "print(\"%s words total, with a vocabulary size of %s\" % (len(all_words), len(VOCAB)))\n",
        "print(\"Max sentence length is %s\" % max(sentence_lengths))"
      ],
      "execution_count": 18,
      "outputs": [
        {
          "output_type": "stream",
          "text": [
            "Using TensorFlow backend.\n"
          ],
          "name": "stderr"
        },
        {
          "output_type": "stream",
          "text": [
            "103441 words total, with a vocabulary size of 16573\n",
            "Max sentence length is 31\n"
          ],
          "name": "stdout"
        }
      ]
    },
    {
      "cell_type": "code",
      "metadata": {
        "id": "f6GVGq-cWNff",
        "colab_type": "code",
        "outputId": "f821c3f9-1a16-4bd7-e68f-b9e65fce815a",
        "colab": {
          "base_uri": "https://localhost:8080/",
          "height": 606
        }
      },
      "source": [
        "fig = plt.figure(figsize=(10, 10)) \n",
        "plt.xlabel('Sentence length')\n",
        "plt.ylabel('Number of sentences')\n",
        "plt.hist(sentence_lengths)\n",
        "plt.show()"
      ],
      "execution_count": 19,
      "outputs": [
        {
          "output_type": "display_data",
          "data": {
            "image/png": "[encoded data removed]",
            "text/plain": [
              "<Figure size 720x720 with 1 Axes>"
            ]
          },
          "metadata": {
            "tags": [],
            "needs_background": "light"
          }
        }
      ]
    },
    {
      "cell_type": "markdown",
      "metadata": {
        "id": "-mmYEoTXBVxf",
        "colab_type": "text"
      },
      "source": [
        "## 4. Transforming tokens to a vector"
      ]
    },
    {
      "cell_type": "markdown",
      "metadata": {
        "id": "ZiiAmA7dZeeV",
        "colab_type": "text"
      },
      "source": [
        "\n",
        "### **Enter embeddings**\n",
        "\n",
        "A natural way to represent text for computers is to encode each character individually, this seems quite inadequate to represent and understand language. Our goal is to first create a useful embedding for each sentence (or tweet) in our dataset, and then use these embeddings to accurately predict the relevant category.\n",
        "\n",
        "The simplest approach we can start with is to use a bag of words model, and apply a logistic regression on top. A bag of words just associates an index to each word in our vocabulary, and embeds each sentence as a list of 0s, with a 1 at each index corresponding to a word present in the sentence.\n"
      ]
    },
    {
      "cell_type": "markdown",
      "metadata": {
        "id": "lQP5Kg2xXLAx",
        "colab_type": "text"
      },
      "source": [
        "### **Bags of words**"
      ]
    },
    {
      "cell_type": "code",
      "metadata": {
        "id": "3RUOUcysXSZy",
        "colab_type": "code",
        "colab": {}
      },
      "source": [
        "def cv(data):\n",
        "    count_vectorizer = CountVectorizer(preprocessor=text_preprocessing)\n",
        "\n",
        "    emb = count_vectorizer.fit_transform(data)\n",
        "\n",
        "    return emb, count_vectorizer\n",
        "\n",
        "list_text = train_df[\"text\"].tolist()\n",
        "list_labels = train_df[\"target\"].tolist()\n",
        "\n",
        "X_train, X_test, y_train, y_test = train_test_split(list_text, list_labels, test_size=0.2, \n",
        "                                                                                random_state=40)\n",
        "\n",
        "X_train_counts, count_vectorizer = cv(X_train)\n",
        "X_test_counts = count_vectorizer.transform(X_test)\n",
        "\n"
      ],
      "execution_count": 0,
      "outputs": []
    },
    {
      "cell_type": "markdown",
      "metadata": {
        "id": "APcJpb2jZtF4",
        "colab_type": "text"
      },
      "source": [
        "\n",
        "### **Visualizing the embeddings**\n",
        "\n",
        "Now that we've created embeddings, let's visualize them and see if we can identify some structure. In a perfect world, our embeddings would be so distinct that are two classes would be perfectly separated. Since visualizing data in 20k dimensions is hard, let's project it down to 2.\n"
      ]
    },
    {
      "cell_type": "code",
      "metadata": {
        "id": "jj_QClULZ6Ji",
        "colab_type": "code",
        "outputId": "55d40f0e-3946-4250-df76-b50041ef01f9",
        "colab": {
          "base_uri": "https://localhost:8080/",
          "height": 918
        }
      },
      "source": [
        "from sklearn.decomposition import PCA, TruncatedSVD\n",
        "import matplotlib\n",
        "import matplotlib.patches as mpatches\n",
        "\n",
        "\n",
        "def plot_LSA(test_data, test_labels, plot=True):\n",
        "        lsa = TruncatedSVD(n_components=2)\n",
        "        lsa.fit(test_data)\n",
        "        lsa_scores = lsa.transform(test_data)\n",
        "        color_mapper = {label:idx for idx,label in enumerate(set(test_labels))}\n",
        "        color_column = [color_mapper[label] for label in test_labels]\n",
        "        colors = ['orange','blue','blue']\n",
        "        if plot:\n",
        "            plt.scatter(lsa_scores[:,0], lsa_scores[:,1], s=8, alpha=.8, c=test_labels, cmap=matplotlib.colors.ListedColormap(colors))\n",
        "            red_patch = mpatches.Patch(color='orange', label='0')\n",
        "            green_patch = mpatches.Patch(color='blue', label='1')\n",
        "            plt.legend(handles=[red_patch, green_patch], prop={'size': 30})\n",
        "\n",
        "\n",
        "fig = plt.figure(figsize=(16, 16))          \n",
        "plot_LSA(X_train_counts, y_train)\n",
        "plt.show()"
      ],
      "execution_count": 21,
      "outputs": [
        {
          "output_type": "display_data",
          "data": {
            "image/png": "[encoded data removed]",
            "text/plain": [
              "<Figure size 1152x1152 with 1 Axes>"
            ]
          },
          "metadata": {
            "tags": [],
            "needs_background": "light"
          }
        }
      ]
    },
    {
      "cell_type": "markdown",
      "metadata": {
        "id": "0s_Sb31FaMVG",
        "colab_type": "text"
      },
      "source": [
        "These embeddings don't look very cleanly separated. Let's see if we can still fit a useful model on them."
      ]
    },
    {
      "cell_type": "markdown",
      "metadata": {
        "id": "K8hngd4iaNV3",
        "colab_type": "text"
      },
      "source": [
        "\n",
        "### **Fitting a classifier**\n",
        "\n",
        "Starting with a logistic regression is a good idea. It is simple and easy to interpret.\n"
      ]
    },
    {
      "cell_type": "code",
      "metadata": {
        "id": "F8e_Fq3iaXki",
        "colab_type": "code",
        "colab": {}
      },
      "source": [
        "#C=1, class_weight='balanced', solver='newton-cg', multi_class='multinomial', n_jobs=-1, random_state=40\n",
        "clf = LogisticRegression()\n",
        "clf.fit(X_train_counts, y_train)\n",
        "\n",
        "y_predicted_counts = clf.predict(X_test_counts)"
      ],
      "execution_count": 0,
      "outputs": []
    },
    {
      "cell_type": "markdown",
      "metadata": {
        "id": "k52w4ozgambv",
        "colab_type": "text"
      },
      "source": [
        "\n",
        "### **Evaluation**\n",
        "\n",
        "Let's start by looking at some metrics to see if our classifier performed well at all.\n"
      ]
    },
    {
      "cell_type": "code",
      "metadata": {
        "id": "CUOCIf9IaphY",
        "colab_type": "code",
        "outputId": "a8a91588-81e9-49e4-ddff-fc5c3538bce8",
        "colab": {
          "base_uri": "https://localhost:8080/",
          "height": 35
        }
      },
      "source": [
        "from sklearn.metrics import accuracy_score, f1_score, precision_score, recall_score, classification_report\n",
        "\n",
        "def get_metrics(y_test, y_predicted):  \n",
        "    # true positives / (true positives+false positives)\n",
        "    precision = precision_score(y_test, y_predicted, pos_label=None,\n",
        "                                    average='weighted')             \n",
        "    # true positives / (true positives + false negatives)\n",
        "    recall = recall_score(y_test, y_predicted, pos_label=None,\n",
        "                              average='weighted')\n",
        "    \n",
        "    # harmonic mean of precision and recall\n",
        "    f1 = f1_score(y_test, y_predicted, pos_label=None, average='weighted')\n",
        "    \n",
        "    # true positives + true negatives/ total\n",
        "    accuracy = accuracy_score(y_test, y_predicted)\n",
        "    return accuracy, precision, recall, f1\n",
        "\n",
        "accuracy, precision, recall, f1 = get_metrics(y_test, y_predicted_counts)\n",
        "print(\"accuracy = %.3f, precision = %.3f, recall = %.3f, f1 = %.3f\" % (accuracy, precision, recall, f1))"
      ],
      "execution_count": 23,
      "outputs": [
        {
          "output_type": "stream",
          "text": [
            "accuracy = 0.809, precision = 0.811, recall = 0.809, f1 = 0.807\n"
          ],
          "name": "stdout"
        }
      ]
    },
    {
      "cell_type": "markdown",
      "metadata": {
        "id": "X5qECp4_rahl",
        "colab_type": "text"
      },
      "source": [
        "### **Inspection**\n",
        "\n",
        "A metric is one thing, but in order to make an actionnable decision, we need to actually inspect the kind of mistakes our classifier is making. Let's start by looking at the confusion matrix."
      ]
    },
    {
      "cell_type": "code",
      "metadata": {
        "id": "5NTt4RYTrjUF",
        "colab_type": "code",
        "colab": {}
      },
      "source": [
        "import itertools\n",
        "from sklearn.metrics import confusion_matrix\n",
        "\n",
        "def plot_confusion_matrix(cm, classes,\n",
        "                          normalize=False,\n",
        "                          title='Confusion matrix',\n",
        "                          cmap=plt.cm.winter):\n",
        "    if normalize:\n",
        "        cm = cm.astype('float') / cm.sum(axis=1)[:, np.newaxis]\n",
        "    plt.imshow(cm, interpolation='nearest', cmap=cmap)\n",
        "    plt.title(title, fontsize=30)\n",
        "    plt.colorbar()\n",
        "    tick_marks = np.arange(len(classes))\n",
        "    plt.xticks(tick_marks, classes, fontsize=20)\n",
        "    plt.yticks(tick_marks, classes, fontsize=20)\n",
        "    \n",
        "    fmt = '.2f' if normalize else 'd'\n",
        "    thresh = cm.max() / 2.\n",
        "\n",
        "    for i, j in itertools.product(range(cm.shape[0]), range(cm.shape[1])):\n",
        "        plt.text(j, i, format(cm[i, j], fmt), horizontalalignment=\"center\", \n",
        "                 color=\"white\" if cm[i, j] < thresh else \"black\", fontsize=40)\n",
        "    \n",
        "    plt.tight_layout()\n",
        "    plt.ylabel('True label', fontsize=30)\n",
        "    plt.xlabel('Predicted label', fontsize=30)\n",
        "\n",
        "    return plt"
      ],
      "execution_count": 0,
      "outputs": []
    },
    {
      "cell_type": "code",
      "metadata": {
        "id": "c1CHKMKsrw1d",
        "colab_type": "code",
        "outputId": "cfd9af9b-8b35-4313-a2db-43d463b472fe",
        "colab": {
          "base_uri": "https://localhost:8080/",
          "height": 764
        }
      },
      "source": [
        "cm = confusion_matrix(y_test, y_predicted_counts)\n",
        "fig = plt.figure(figsize=(10, 10))\n",
        "plot = plot_confusion_matrix(cm, classes=['0','1'], normalize=False, title='Confusion matrix')\n",
        "plt.show()\n",
        "print(cm)"
      ],
      "execution_count": 25,
      "outputs": [
        {
          "output_type": "display_data",
          "data": {
            "image/png": "[encoded data removed]",
            "text/plain": [
              "<Figure size 720x720 with 2 Axes>"
            ]
          },
          "metadata": {
            "tags": [],
            "needs_background": "light"
          }
        },
        {
          "output_type": "stream",
          "text": [
            "[[755  97]\n",
            " [194 477]]\n"
          ],
          "name": "stdout"
        }
      ]
    },
    {
      "cell_type": "code",
      "metadata": {
        "id": "tf-Y6TaftUKV",
        "colab_type": "code",
        "colab": {
          "base_uri": "https://localhost:8080/",
          "height": 346
        },
        "outputId": "c0ac0034-32ee-475b-ea9e-2f39c47e12d6"
      },
      "source": [
        "sample_submission = pd.read_csv(\"https://raw.githubusercontent.com/yassinhediger/fakenewsdetection/master/data/sample_submission.csv\")\n",
        "sample_submission[\"target\"] = y_predicted_counts\n",
        "sample_submission.to_csv(\"submission_countvect.csv\", index=False)\n"
      ],
      "execution_count": 26,
      "outputs": [
        {
          "output_type": "error",
          "ename": "ValueError",
          "evalue": "ignored",
          "traceback": [
            "\u001b[0;31m---------------------------------------------------------------------------\u001b[0m",
            "\u001b[0;31mValueError\u001b[0m                                Traceback (most recent call last)",
            "\u001b[0;32m<ipython-input-26-3d6ad5576069>\u001b[0m in \u001b[0;36m<module>\u001b[0;34m()\u001b[0m\n\u001b[1;32m      1\u001b[0m \u001b[0msample_submission\u001b[0m \u001b[0;34m=\u001b[0m \u001b[0mpd\u001b[0m\u001b[0;34m.\u001b[0m\u001b[0mread_csv\u001b[0m\u001b[0;34m(\u001b[0m\u001b[0;34m\"https://raw.githubusercontent.com/yassinhediger/fakenewsdetection/master/data/sample_submission.csv\"\u001b[0m\u001b[0;34m)\u001b[0m\u001b[0;34m\u001b[0m\u001b[0;34m\u001b[0m\u001b[0m\n\u001b[0;32m----> 2\u001b[0;31m \u001b[0msample_submission\u001b[0m\u001b[0;34m[\u001b[0m\u001b[0;34m\"target\"\u001b[0m\u001b[0;34m]\u001b[0m \u001b[0;34m=\u001b[0m \u001b[0my_predicted_counts\u001b[0m\u001b[0;34m\u001b[0m\u001b[0;34m\u001b[0m\u001b[0m\n\u001b[0m\u001b[1;32m      3\u001b[0m \u001b[0msample_submission\u001b[0m\u001b[0;34m.\u001b[0m\u001b[0mto_csv\u001b[0m\u001b[0;34m(\u001b[0m\u001b[0;34m\"submission_countvect.csv\"\u001b[0m\u001b[0;34m,\u001b[0m \u001b[0mindex\u001b[0m\u001b[0;34m=\u001b[0m\u001b[0;32mFalse\u001b[0m\u001b[0;34m)\u001b[0m\u001b[0;34m\u001b[0m\u001b[0;34m\u001b[0m\u001b[0m\n",
            "\u001b[0;32m/usr/local/lib/python3.6/dist-packages/pandas/core/frame.py\u001b[0m in \u001b[0;36m__setitem__\u001b[0;34m(self, key, value)\u001b[0m\n\u001b[1;32m   2936\u001b[0m         \u001b[0;32melse\u001b[0m\u001b[0;34m:\u001b[0m\u001b[0;34m\u001b[0m\u001b[0;34m\u001b[0m\u001b[0m\n\u001b[1;32m   2937\u001b[0m             \u001b[0;31m# set column\u001b[0m\u001b[0;34m\u001b[0m\u001b[0;34m\u001b[0m\u001b[0;34m\u001b[0m\u001b[0m\n\u001b[0;32m-> 2938\u001b[0;31m             \u001b[0mself\u001b[0m\u001b[0;34m.\u001b[0m\u001b[0m_set_item\u001b[0m\u001b[0;34m(\u001b[0m\u001b[0mkey\u001b[0m\u001b[0;34m,\u001b[0m \u001b[0mvalue\u001b[0m\u001b[0;34m)\u001b[0m\u001b[0;34m\u001b[0m\u001b[0;34m\u001b[0m\u001b[0m\n\u001b[0m\u001b[1;32m   2939\u001b[0m \u001b[0;34m\u001b[0m\u001b[0m\n\u001b[1;32m   2940\u001b[0m     \u001b[0;32mdef\u001b[0m \u001b[0m_setitem_slice\u001b[0m\u001b[0;34m(\u001b[0m\u001b[0mself\u001b[0m\u001b[0;34m,\u001b[0m \u001b[0mkey\u001b[0m\u001b[0;34m,\u001b[0m \u001b[0mvalue\u001b[0m\u001b[0;34m)\u001b[0m\u001b[0;34m:\u001b[0m\u001b[0;34m\u001b[0m\u001b[0;34m\u001b[0m\u001b[0m\n",
            "\u001b[0;32m/usr/local/lib/python3.6/dist-packages/pandas/core/frame.py\u001b[0m in \u001b[0;36m_set_item\u001b[0;34m(self, key, value)\u001b[0m\n\u001b[1;32m   2998\u001b[0m \u001b[0;34m\u001b[0m\u001b[0m\n\u001b[1;32m   2999\u001b[0m         \u001b[0mself\u001b[0m\u001b[0;34m.\u001b[0m\u001b[0m_ensure_valid_index\u001b[0m\u001b[0;34m(\u001b[0m\u001b[0mvalue\u001b[0m\u001b[0;34m)\u001b[0m\u001b[0;34m\u001b[0m\u001b[0;34m\u001b[0m\u001b[0m\n\u001b[0;32m-> 3000\u001b[0;31m         \u001b[0mvalue\u001b[0m \u001b[0;34m=\u001b[0m \u001b[0mself\u001b[0m\u001b[0;34m.\u001b[0m\u001b[0m_sanitize_column\u001b[0m\u001b[0;34m(\u001b[0m\u001b[0mkey\u001b[0m\u001b[0;34m,\u001b[0m \u001b[0mvalue\u001b[0m\u001b[0;34m)\u001b[0m\u001b[0;34m\u001b[0m\u001b[0;34m\u001b[0m\u001b[0m\n\u001b[0m\u001b[1;32m   3001\u001b[0m         \u001b[0mNDFrame\u001b[0m\u001b[0;34m.\u001b[0m\u001b[0m_set_item\u001b[0m\u001b[0;34m(\u001b[0m\u001b[0mself\u001b[0m\u001b[0;34m,\u001b[0m \u001b[0mkey\u001b[0m\u001b[0;34m,\u001b[0m \u001b[0mvalue\u001b[0m\u001b[0;34m)\u001b[0m\u001b[0;34m\u001b[0m\u001b[0;34m\u001b[0m\u001b[0m\n\u001b[1;32m   3002\u001b[0m \u001b[0;34m\u001b[0m\u001b[0m\n",
            "\u001b[0;32m/usr/local/lib/python3.6/dist-packages/pandas/core/frame.py\u001b[0m in \u001b[0;36m_sanitize_column\u001b[0;34m(self, key, value, broadcast)\u001b[0m\n\u001b[1;32m   3634\u001b[0m \u001b[0;34m\u001b[0m\u001b[0m\n\u001b[1;32m   3635\u001b[0m             \u001b[0;31m# turn me into an ndarray\u001b[0m\u001b[0;34m\u001b[0m\u001b[0;34m\u001b[0m\u001b[0;34m\u001b[0m\u001b[0m\n\u001b[0;32m-> 3636\u001b[0;31m             \u001b[0mvalue\u001b[0m \u001b[0;34m=\u001b[0m \u001b[0msanitize_index\u001b[0m\u001b[0;34m(\u001b[0m\u001b[0mvalue\u001b[0m\u001b[0;34m,\u001b[0m \u001b[0mself\u001b[0m\u001b[0;34m.\u001b[0m\u001b[0mindex\u001b[0m\u001b[0;34m,\u001b[0m \u001b[0mcopy\u001b[0m\u001b[0;34m=\u001b[0m\u001b[0;32mFalse\u001b[0m\u001b[0;34m)\u001b[0m\u001b[0;34m\u001b[0m\u001b[0;34m\u001b[0m\u001b[0m\n\u001b[0m\u001b[1;32m   3637\u001b[0m             \u001b[0;32mif\u001b[0m \u001b[0;32mnot\u001b[0m \u001b[0misinstance\u001b[0m\u001b[0;34m(\u001b[0m\u001b[0mvalue\u001b[0m\u001b[0;34m,\u001b[0m \u001b[0;34m(\u001b[0m\u001b[0mnp\u001b[0m\u001b[0;34m.\u001b[0m\u001b[0mndarray\u001b[0m\u001b[0;34m,\u001b[0m \u001b[0mIndex\u001b[0m\u001b[0;34m)\u001b[0m\u001b[0;34m)\u001b[0m\u001b[0;34m:\u001b[0m\u001b[0;34m\u001b[0m\u001b[0;34m\u001b[0m\u001b[0m\n\u001b[1;32m   3638\u001b[0m                 \u001b[0;32mif\u001b[0m \u001b[0misinstance\u001b[0m\u001b[0;34m(\u001b[0m\u001b[0mvalue\u001b[0m\u001b[0;34m,\u001b[0m \u001b[0mlist\u001b[0m\u001b[0;34m)\u001b[0m \u001b[0;32mand\u001b[0m \u001b[0mlen\u001b[0m\u001b[0;34m(\u001b[0m\u001b[0mvalue\u001b[0m\u001b[0;34m)\u001b[0m \u001b[0;34m>\u001b[0m \u001b[0;36m0\u001b[0m\u001b[0;34m:\u001b[0m\u001b[0;34m\u001b[0m\u001b[0;34m\u001b[0m\u001b[0m\n",
            "\u001b[0;32m/usr/local/lib/python3.6/dist-packages/pandas/core/internals/construction.py\u001b[0m in \u001b[0;36msanitize_index\u001b[0;34m(data, index, copy)\u001b[0m\n\u001b[1;32m    609\u001b[0m \u001b[0;34m\u001b[0m\u001b[0m\n\u001b[1;32m    610\u001b[0m     \u001b[0;32mif\u001b[0m \u001b[0mlen\u001b[0m\u001b[0;34m(\u001b[0m\u001b[0mdata\u001b[0m\u001b[0;34m)\u001b[0m \u001b[0;34m!=\u001b[0m \u001b[0mlen\u001b[0m\u001b[0;34m(\u001b[0m\u001b[0mindex\u001b[0m\u001b[0;34m)\u001b[0m\u001b[0;34m:\u001b[0m\u001b[0;34m\u001b[0m\u001b[0;34m\u001b[0m\u001b[0m\n\u001b[0;32m--> 611\u001b[0;31m         \u001b[0;32mraise\u001b[0m \u001b[0mValueError\u001b[0m\u001b[0;34m(\u001b[0m\u001b[0;34m\"Length of values does not match length of index\"\u001b[0m\u001b[0;34m)\u001b[0m\u001b[0;34m\u001b[0m\u001b[0;34m\u001b[0m\u001b[0m\n\u001b[0m\u001b[1;32m    612\u001b[0m \u001b[0;34m\u001b[0m\u001b[0m\n\u001b[1;32m    613\u001b[0m     \u001b[0;32mif\u001b[0m \u001b[0misinstance\u001b[0m\u001b[0;34m(\u001b[0m\u001b[0mdata\u001b[0m\u001b[0;34m,\u001b[0m \u001b[0mABCIndexClass\u001b[0m\u001b[0;34m)\u001b[0m \u001b[0;32mand\u001b[0m \u001b[0;32mnot\u001b[0m \u001b[0mcopy\u001b[0m\u001b[0;34m:\u001b[0m\u001b[0;34m\u001b[0m\u001b[0;34m\u001b[0m\u001b[0m\n",
            "\u001b[0;31mValueError\u001b[0m: Length of values does not match length of index"
          ]
        }
      ]
    },
    {
      "cell_type": "markdown",
      "metadata": {
        "id": "30Vbjqdapkaw",
        "colab_type": "text"
      },
      "source": [
        "### **TFIDF Bag of Words**\n",
        "\n",
        "Let's try a slightly more subtle approach. On top of our bag of words model, we use a TF-IDF (Term Frequency, Inverse Document Frequency) which means weighing words by how frequent they are in our dataset, discounting words that are too frequent, as they just add to the noise."
      ]
    },
    {
      "cell_type": "code",
      "metadata": {
        "id": "FkgTTRAWpu8O",
        "colab_type": "code",
        "colab": {}
      },
      "source": [
        "def tfidf(data):\n",
        "    tfidf_vectorizer = TfidfVectorizer(preprocessor=text_preprocessing)\n",
        "\n",
        "    train = tfidf_vectorizer.fit_transform(data)\n",
        "\n",
        "    return train, tfidf_vectorizer\n",
        "\n",
        "X_train, X_test, y_train, y_test = train_test_split(list_text, list_labels, test_size=0.2, \n",
        "                                                                                random_state=40)\n",
        "\n",
        "X_train_tfidf, tfidf_vectorizer = tfidf(X_train)\n",
        "X_test_tfidf = tfidf_vectorizer.transform(X_test)"
      ],
      "execution_count": 0,
      "outputs": []
    },
    {
      "cell_type": "code",
      "metadata": {
        "id": "OxLwjrodqcZg",
        "colab_type": "code",
        "outputId": "d8b5e018-41b5-4d90-fc75-12e7dca45ef2",
        "colab": {
          "base_uri": "https://localhost:8080/",
          "height": 918
        }
      },
      "source": [
        "fig = plt.figure(figsize=(16, 16))          \n",
        "plot_LSA(X_train_tfidf, y_train)\n",
        "plt.show()"
      ],
      "execution_count": 0,
      "outputs": [
        {
          "output_type": "display_data",
          "data": {
            "image/png": "[encoded data removed]",
            "text/plain": [
              "<Figure size 1152x1152 with 1 Axes>"
            ]
          },
          "metadata": {
            "tags": [],
            "needs_background": "light"
          }
        }
      ]
    },
    {
      "cell_type": "markdown",
      "metadata": {
        "id": "CapD7KFyqjEC",
        "colab_type": "text"
      },
      "source": [
        "These embeddings look much more separated, let's see if it leads to better performance."
      ]
    },
    {
      "cell_type": "code",
      "metadata": {
        "id": "HimP5hkFqko_",
        "colab_type": "code",
        "colab": {}
      },
      "source": [
        "#C=1, class_weight='balanced', solver='newton-cg', multi_class='multinomial', random_state=111\n",
        "clf_tfidf = LogisticRegression()\n",
        "clf_tfidf.fit(X_train_tfidf, y_train)\n",
        "\n",
        "y_predicted_tfidf = clf_tfidf.predict(X_test_tfidf)"
      ],
      "execution_count": 0,
      "outputs": []
    },
    {
      "cell_type": "code",
      "metadata": {
        "id": "d6WHFr1oqtgy",
        "colab_type": "code",
        "outputId": "7db9dd2e-49ba-47ca-8f77-f2cb2d7f8249",
        "colab": {
          "base_uri": "https://localhost:8080/",
          "height": 35
        }
      },
      "source": [
        "accuracy_tfidf, precision_tfidf, recall_tfidf, f1_tfidf = get_metrics(y_test, y_predicted_tfidf)\n",
        "print(\"accuracy = %.3f, precision = %.3f, recall = %.3f, f1 = %.3f\" % (accuracy_tfidf, precision_tfidf, recall_tfidf, f1_tfidf))"
      ],
      "execution_count": 0,
      "outputs": [
        {
          "output_type": "stream",
          "text": [
            "accuracy = 0.810, precision = 0.817, recall = 0.810, f1 = 0.807\n"
          ],
          "name": "stdout"
        }
      ]
    },
    {
      "cell_type": "markdown",
      "metadata": {
        "id": "YxXLYa_LtdNp",
        "colab_type": "text"
      },
      "source": [
        "The results are a little better, let's see if they translate to an actual difference in our use case."
      ]
    },
    {
      "cell_type": "code",
      "metadata": {
        "id": "9fnbsPYMtfuH",
        "colab_type": "code",
        "outputId": "8fa25c63-3897-412a-9d17-146016897e1d",
        "colab": {
          "base_uri": "https://localhost:8080/",
          "height": 833
        }
      },
      "source": [
        "cm2 = confusion_matrix(y_test, y_predicted_tfidf)\n",
        "fig = plt.figure(figsize=(10, 10))\n",
        "plot = plot_confusion_matrix(cm2, classes=['0','1'], normalize=False, title='Confusion matrix')\n",
        "plt.show()\n",
        "print(\"TFIDF confusion matrix\")\n",
        "print(cm2)\n",
        "print(\"Bag of Words confusion matrix\")\n",
        "print(cm)"
      ],
      "execution_count": 0,
      "outputs": [
        {
          "output_type": "display_data",
          "data": {
            "image/png": "[encoded data removed]",
            "text/plain": [
              "<Figure size 720x720 with 2 Axes>"
            ]
          },
          "metadata": {
            "tags": [],
            "needs_background": "light"
          }
        },
        {
          "output_type": "stream",
          "text": [
            "TFIDF confusion matrix\n",
            "[[776  76]\n",
            " [213 458]]\n",
            "Bag of Words confusion matrix\n",
            "[[755  97]\n",
            " [194 477]]\n"
          ],
          "name": "stdout"
        }
      ]
    },
    {
      "cell_type": "markdown",
      "metadata": {
        "id": "s1npbpryXnmE",
        "colab_type": "text"
      },
      "source": [
        "### **Naive Bayes classifier for multinomial models**\n",
        "\n",
        "The multinomial Naive Bayes classifier is suitable for classification with discrete features (e.g., word counts for text classification). The multinomial distribution normally requires integer feature counts. However, in practice, fractional counts such as tf-idf may also work."
      ]
    },
    {
      "cell_type": "code",
      "metadata": {
        "id": "iGDNdcb8XtTP",
        "colab_type": "code",
        "outputId": "64847de2-85e2-4181-f91c-9e141f23438d",
        "colab": {
          "base_uri": "https://localhost:8080/",
          "height": 35
        }
      },
      "source": [
        "clf_NB = MultinomialNB()\n",
        "clf_NB.fit(X_train_counts, y_train)"
      ],
      "execution_count": 0,
      "outputs": [
        {
          "output_type": "execute_result",
          "data": {
            "text/plain": [
              "MultinomialNB(alpha=1.0, class_prior=None, fit_prior=True)"
            ]
          },
          "metadata": {
            "tags": []
          },
          "execution_count": 31
        }
      ]
    },
    {
      "cell_type": "code",
      "metadata": {
        "id": "Wkp9j0PhfcX3",
        "colab_type": "code",
        "colab": {}
      },
      "source": [
        "y_predicted_NB = clf_NB.predict(X_test_counts)"
      ],
      "execution_count": 0,
      "outputs": []
    },
    {
      "cell_type": "code",
      "metadata": {
        "id": "iwmUI7DPgFHS",
        "colab_type": "code",
        "outputId": "9060fe39-22fd-4930-b239-7dcce23e08fb",
        "colab": {
          "base_uri": "https://localhost:8080/",
          "height": 35
        }
      },
      "source": [
        "accuracy_NB, precision_NB, recall_NB, f1_NB = get_metrics(y_test, y_predicted_NB)\n",
        "print(\"accuracy = %.3f, precision = %.3f, recall = %.3f, f1 = %.3f\" % (accuracy_NB, precision_NB, recall_NB, f1_NB))"
      ],
      "execution_count": 0,
      "outputs": [
        {
          "output_type": "stream",
          "text": [
            "accuracy = 0.808, precision = 0.808, recall = 0.808, f1 = 0.807\n"
          ],
          "name": "stdout"
        }
      ]
    },
    {
      "cell_type": "code",
      "metadata": {
        "id": "9tyarjS8fndG",
        "colab_type": "code",
        "outputId": "d6fc1590-b8b0-45bf-f880-c701da11fcd1",
        "colab": {
          "base_uri": "https://localhost:8080/",
          "height": 729
        }
      },
      "source": [
        "cm3 = confusion_matrix(y_test, y_predicted_NB)\n",
        "fig = plt.figure(figsize=(10, 10))\n",
        "plot = plot_confusion_matrix(cm3, classes=['0','1'], normalize=False, title='Confusion matrix')\n",
        "plt.show()"
      ],
      "execution_count": 0,
      "outputs": [
        {
          "output_type": "display_data",
          "data": {
            "image/png": "[encoded data removed]",
            "text/plain": [
              "<Figure size 720x720 with 2 Axes>"
            ]
          },
          "metadata": {
            "tags": [],
            "needs_background": "light"
          }
        }
      ]
    },
    {
      "cell_type": "markdown",
      "metadata": {
        "id": "WMkRiGUCg8Ta",
        "colab_type": "text"
      },
      "source": [
        "naive bays multinomial on tfidf"
      ]
    },
    {
      "cell_type": "code",
      "metadata": {
        "id": "qduPZsQsg3Qz",
        "colab_type": "code",
        "outputId": "4df2bb32-b16a-499c-a281-87aa01e706f5",
        "colab": {
          "base_uri": "https://localhost:8080/",
          "height": 35
        }
      },
      "source": [
        "clf_NB = MultinomialNB()\n",
        "clf_NB.fit(X_train_tfidf, y_train)"
      ],
      "execution_count": 0,
      "outputs": [
        {
          "output_type": "execute_result",
          "data": {
            "text/plain": [
              "MultinomialNB(alpha=1.0, class_prior=None, fit_prior=True)"
            ]
          },
          "metadata": {
            "tags": []
          },
          "execution_count": 35
        }
      ]
    },
    {
      "cell_type": "code",
      "metadata": {
        "id": "iLhJAT5xhTCi",
        "colab_type": "code",
        "colab": {}
      },
      "source": [
        "y_predicted_NB_tfidf = clf_NB.predict(X_test_tfidf)"
      ],
      "execution_count": 0,
      "outputs": []
    },
    {
      "cell_type": "code",
      "metadata": {
        "id": "rHHObNK3hYei",
        "colab_type": "code",
        "outputId": "c3d87f93-c5ab-4fd0-a647-5b3375b1efb5",
        "colab": {
          "base_uri": "https://localhost:8080/",
          "height": 35
        }
      },
      "source": [
        "accuracy_NB_tfidf, precision_NB_tfidf, recall_NB_tfidf, f1_NB_tfidf = get_metrics(y_test, y_predicted_NB_tfidf)\n",
        "print(\"accuracy = %.3f, precision = %.3f, recall = %.3f, f1 = %.3f\" % (accuracy_NB_tfidf, precision_NB_tfidf, recall_NB_tfidf, f1_NB_tfidf))"
      ],
      "execution_count": 0,
      "outputs": [
        {
          "output_type": "stream",
          "text": [
            "accuracy = 0.808, precision = 0.813, recall = 0.808, f1 = 0.804\n"
          ],
          "name": "stdout"
        }
      ]
    },
    {
      "cell_type": "markdown",
      "metadata": {
        "id": "flJt5NzLi0uA",
        "colab_type": "text"
      },
      "source": [
        "### **KNN Classifier**"
      ]
    },
    {
      "cell_type": "code",
      "metadata": {
        "id": "Gb2HrFxckvsK",
        "colab_type": "code",
        "colab": {}
      },
      "source": [
        "from sklearn.neighbors import KNeighborsClassifier\n",
        "knn = KNeighborsClassifier(n_neighbors=5)"
      ],
      "execution_count": 0,
      "outputs": []
    },
    {
      "cell_type": "code",
      "metadata": {
        "id": "t7_QRBJ3x5r1",
        "colab_type": "code",
        "colab": {}
      },
      "source": [
        "clf_knn = knn.fit(X_train_counts, y_train)"
      ],
      "execution_count": 0,
      "outputs": []
    },
    {
      "cell_type": "code",
      "metadata": {
        "id": "I7bg97AgzMAF",
        "colab_type": "code",
        "colab": {}
      },
      "source": [
        "y_predicted_knn = clf_knn.predict(X_test_counts)"
      ],
      "execution_count": 0,
      "outputs": []
    },
    {
      "cell_type": "code",
      "metadata": {
        "id": "44hwVIXGzhcz",
        "colab_type": "code",
        "outputId": "4022f4d6-36d7-4dc7-be4b-d6410bcb056a",
        "colab": {
          "base_uri": "https://localhost:8080/",
          "height": 35
        }
      },
      "source": [
        "accuracy_knn_count, precision_knn_count, recall_knn_count, f1_knn_count = get_metrics(y_test, y_predicted_knn)\n",
        "print(\"accuracy = %.3f, precision = %.3f, recall = %.3f, f1 = %.3f\" % (accuracy_knn_count, precision_knn_count, recall_knn_count, f1_knn_count))"
      ],
      "execution_count": 0,
      "outputs": [
        {
          "output_type": "stream",
          "text": [
            "accuracy = 0.557, precision = 0.523, recall = 0.557, f1 = 0.518\n"
          ],
          "name": "stdout"
        }
      ]
    },
    {
      "cell_type": "code",
      "metadata": {
        "id": "r3e1cUTz0Mnd",
        "colab_type": "code",
        "colab": {}
      },
      "source": [
        "clf_knn_tfidf = knn.fit(X_train_tfidf, y_train)"
      ],
      "execution_count": 0,
      "outputs": []
    },
    {
      "cell_type": "code",
      "metadata": {
        "id": "5osjozrV0SuR",
        "colab_type": "code",
        "colab": {}
      },
      "source": [
        "y_predicted_knn_tfidf = clf_knn_tfidf.predict(X_test_tfidf)"
      ],
      "execution_count": 0,
      "outputs": []
    },
    {
      "cell_type": "code",
      "metadata": {
        "id": "F11P7o870bG5",
        "colab_type": "code",
        "outputId": "be584aeb-8424-4054-d8ca-c9114779ce54",
        "colab": {
          "base_uri": "https://localhost:8080/",
          "height": 35
        }
      },
      "source": [
        "accuracy_knn_count, precision_knn_count, recall_knn_count, f1_knn_count = get_metrics(y_test, y_predicted_knn_tfidf)\n",
        "print(\"accuracy = %.3f, precision = %.3f, recall = %.3f, f1 = %.3f\" % (accuracy_knn_count, precision_knn_count, recall_knn_count, f1_knn_count))"
      ],
      "execution_count": 0,
      "outputs": [
        {
          "output_type": "stream",
          "text": [
            "accuracy = 0.531, precision = 0.498, recall = 0.531, f1 = 0.501\n"
          ],
          "name": "stdout"
        }
      ]
    }
  ]
}