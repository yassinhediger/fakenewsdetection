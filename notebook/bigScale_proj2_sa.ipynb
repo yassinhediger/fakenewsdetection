{
  "nbformat": 4,
  "nbformat_minor": 0,
  "metadata": {
    "colab": {
      "name": "bigScale-proj2-sa.ipynb",
      "provenance": []
    },
    "kernelspec": {
      "name": "python3",
      "display_name": "Python 3"
    }
  },
  "cells": [
    {
      "cell_type": "code",
      "metadata": {
        "id": "jBFbTdPfwo1Q",
        "colab_type": "code",
        "outputId": "692455a6-ee62-44f9-fd7e-e190f5ed41dd",
        "colab": {
          "base_uri": "https://localhost:8080/",
          "height": 87
        }
      },
      "source": [
        "#import of important libraries\n",
        "import numpy as np \n",
        "import pandas as pd \n",
        "\n",
        "# text processing libraries\n",
        "import re\n",
        "import string\n",
        "import nltk\n",
        "nltk.download('stopwords')\n",
        "nltk.download('wordnet')\n",
        "from nltk.corpus import stopwords\n",
        "from nltk.tokenize import RegexpTokenizer\n",
        "\n",
        "# sklearn \n",
        "from sklearn import model_selection\n",
        "from sklearn.feature_extraction.text import CountVectorizer,TfidfVectorizer\n",
        "from sklearn.model_selection import train_test_split\n",
        "from sklearn.linear_model import LogisticRegression\n",
        "from sklearn.naive_bayes import MultinomialNB\n",
        "from sklearn.metrics import f1_score, classification_report, confusion_matrix, accuracy_score\n",
        "from sklearn import preprocessing, decomposition, model_selection, metrics, pipeline\n",
        "from sklearn.model_selection import GridSearchCV,StratifiedKFold,RandomizedSearchCV\n",
        "\n",
        "# matplotlib and seaborn for plotting\n",
        "import matplotlib.pyplot as plt\n",
        "import seaborn as sns\n",
        "\n",
        "# File system manangement\n",
        "import os\n",
        "\n",
        "# Suppress warnings \n",
        "import warnings\n",
        "warnings.filterwarnings('ignore')"
      ],
      "execution_count": 144,
      "outputs": [
        {
          "output_type": "stream",
          "text": [
            "[nltk_data] Downloading package stopwords to /root/nltk_data...\n",
            "[nltk_data]   Package stopwords is already up-to-date!\n",
            "[nltk_data] Downloading package wordnet to /root/nltk_data...\n",
            "[nltk_data]   Package wordnet is already up-to-date!\n"
          ],
          "name": "stdout"
        }
      ]
    },
    {
      "cell_type": "markdown",
      "metadata": {
        "id": "cNwe64BI7ak-",
        "colab_type": "text"
      },
      "source": [
        "## 1. Importing the data"
      ]
    },
    {
      "cell_type": "code",
      "metadata": {
        "id": "JlFIZjbawq9v",
        "colab_type": "code",
        "colab": {}
      },
      "source": [
        "#import train and test data sets\n",
        "train_df = pd.read_csv(\"https://raw.githubusercontent.com/yassinhediger/fakenewsdetection/master/data/train.csv\")\n",
        "test_df = pd.read_csv(\"https://raw.githubusercontent.com/yassinhediger/fakenewsdetection/master/data/test.csv\")"
      ],
      "execution_count": 0,
      "outputs": []
    },
    {
      "cell_type": "code",
      "metadata": {
        "id": "3iavAOFtw5zj",
        "colab_type": "code",
        "outputId": "16613627-2ebc-4d1e-e163-d039c6ab3e73",
        "colab": {
          "base_uri": "https://localhost:8080/",
          "height": 415
        }
      },
      "source": [
        "train_df"
      ],
      "execution_count": 146,
      "outputs": [
        {
          "output_type": "execute_result",
          "data": {
            "text/html": [
              "<div>\n",
              "<style scoped>\n",
              "    .dataframe tbody tr th:only-of-type {\n",
              "        vertical-align: middle;\n",
              "    }\n",
              "\n",
              "    .dataframe tbody tr th {\n",
              "        vertical-align: top;\n",
              "    }\n",
              "\n",
              "    .dataframe thead th {\n",
              "        text-align: right;\n",
              "    }\n",
              "</style>\n",
              "<table border=\"1\" class=\"dataframe\">\n",
              "  <thead>\n",
              "    <tr style=\"text-align: right;\">\n",
              "      <th></th>\n",
              "      <th>id</th>\n",
              "      <th>keyword</th>\n",
              "      <th>location</th>\n",
              "      <th>text</th>\n",
              "      <th>target</th>\n",
              "    </tr>\n",
              "  </thead>\n",
              "  <tbody>\n",
              "    <tr>\n",
              "      <th>0</th>\n",
              "      <td>1</td>\n",
              "      <td>NaN</td>\n",
              "      <td>NaN</td>\n",
              "      <td>Our Deeds are the Reason of this #earthquake M...</td>\n",
              "      <td>1</td>\n",
              "    </tr>\n",
              "    <tr>\n",
              "      <th>1</th>\n",
              "      <td>4</td>\n",
              "      <td>NaN</td>\n",
              "      <td>NaN</td>\n",
              "      <td>Forest fire near La Ronge Sask. Canada</td>\n",
              "      <td>1</td>\n",
              "    </tr>\n",
              "    <tr>\n",
              "      <th>2</th>\n",
              "      <td>5</td>\n",
              "      <td>NaN</td>\n",
              "      <td>NaN</td>\n",
              "      <td>All residents asked to 'shelter in place' are ...</td>\n",
              "      <td>1</td>\n",
              "    </tr>\n",
              "    <tr>\n",
              "      <th>3</th>\n",
              "      <td>6</td>\n",
              "      <td>NaN</td>\n",
              "      <td>NaN</td>\n",
              "      <td>13,000 people receive #wildfires evacuation or...</td>\n",
              "      <td>1</td>\n",
              "    </tr>\n",
              "    <tr>\n",
              "      <th>4</th>\n",
              "      <td>7</td>\n",
              "      <td>NaN</td>\n",
              "      <td>NaN</td>\n",
              "      <td>Just got sent this photo from Ruby #Alaska as ...</td>\n",
              "      <td>1</td>\n",
              "    </tr>\n",
              "    <tr>\n",
              "      <th>...</th>\n",
              "      <td>...</td>\n",
              "      <td>...</td>\n",
              "      <td>...</td>\n",
              "      <td>...</td>\n",
              "      <td>...</td>\n",
              "    </tr>\n",
              "    <tr>\n",
              "      <th>7608</th>\n",
              "      <td>10869</td>\n",
              "      <td>NaN</td>\n",
              "      <td>NaN</td>\n",
              "      <td>Two giant cranes holding a bridge collapse int...</td>\n",
              "      <td>1</td>\n",
              "    </tr>\n",
              "    <tr>\n",
              "      <th>7609</th>\n",
              "      <td>10870</td>\n",
              "      <td>NaN</td>\n",
              "      <td>NaN</td>\n",
              "      <td>@aria_ahrary @TheTawniest The out of control w...</td>\n",
              "      <td>1</td>\n",
              "    </tr>\n",
              "    <tr>\n",
              "      <th>7610</th>\n",
              "      <td>10871</td>\n",
              "      <td>NaN</td>\n",
              "      <td>NaN</td>\n",
              "      <td>M1.94 [01:04 UTC]?5km S of Volcano Hawaii. htt...</td>\n",
              "      <td>1</td>\n",
              "    </tr>\n",
              "    <tr>\n",
              "      <th>7611</th>\n",
              "      <td>10872</td>\n",
              "      <td>NaN</td>\n",
              "      <td>NaN</td>\n",
              "      <td>Police investigating after an e-bike collided ...</td>\n",
              "      <td>1</td>\n",
              "    </tr>\n",
              "    <tr>\n",
              "      <th>7612</th>\n",
              "      <td>10873</td>\n",
              "      <td>NaN</td>\n",
              "      <td>NaN</td>\n",
              "      <td>The Latest: More Homes Razed by Northern Calif...</td>\n",
              "      <td>1</td>\n",
              "    </tr>\n",
              "  </tbody>\n",
              "</table>\n",
              "<p>7613 rows × 5 columns</p>\n",
              "</div>"
            ],
            "text/plain": [
              "         id keyword  ...                                               text target\n",
              "0         1     NaN  ...  Our Deeds are the Reason of this #earthquake M...      1\n",
              "1         4     NaN  ...             Forest fire near La Ronge Sask. Canada      1\n",
              "2         5     NaN  ...  All residents asked to 'shelter in place' are ...      1\n",
              "3         6     NaN  ...  13,000 people receive #wildfires evacuation or...      1\n",
              "4         7     NaN  ...  Just got sent this photo from Ruby #Alaska as ...      1\n",
              "...     ...     ...  ...                                                ...    ...\n",
              "7608  10869     NaN  ...  Two giant cranes holding a bridge collapse int...      1\n",
              "7609  10870     NaN  ...  @aria_ahrary @TheTawniest The out of control w...      1\n",
              "7610  10871     NaN  ...  M1.94 [01:04 UTC]?5km S of Volcano Hawaii. htt...      1\n",
              "7611  10872     NaN  ...  Police investigating after an e-bike collided ...      1\n",
              "7612  10873     NaN  ...  The Latest: More Homes Razed by Northern Calif...      1\n",
              "\n",
              "[7613 rows x 5 columns]"
            ]
          },
          "metadata": {
            "tags": []
          },
          "execution_count": 146
        }
      ]
    },
    {
      "cell_type": "code",
      "metadata": {
        "id": "Fe7M7EXhxMQP",
        "colab_type": "code",
        "outputId": "83d37f23-1050-4fc8-e345-c3fdd371a24c",
        "colab": {
          "base_uri": "https://localhost:8080/",
          "height": 415
        }
      },
      "source": [
        "test_df"
      ],
      "execution_count": 147,
      "outputs": [
        {
          "output_type": "execute_result",
          "data": {
            "text/html": [
              "<div>\n",
              "<style scoped>\n",
              "    .dataframe tbody tr th:only-of-type {\n",
              "        vertical-align: middle;\n",
              "    }\n",
              "\n",
              "    .dataframe tbody tr th {\n",
              "        vertical-align: top;\n",
              "    }\n",
              "\n",
              "    .dataframe thead th {\n",
              "        text-align: right;\n",
              "    }\n",
              "</style>\n",
              "<table border=\"1\" class=\"dataframe\">\n",
              "  <thead>\n",
              "    <tr style=\"text-align: right;\">\n",
              "      <th></th>\n",
              "      <th>id</th>\n",
              "      <th>keyword</th>\n",
              "      <th>location</th>\n",
              "      <th>text</th>\n",
              "    </tr>\n",
              "  </thead>\n",
              "  <tbody>\n",
              "    <tr>\n",
              "      <th>0</th>\n",
              "      <td>0</td>\n",
              "      <td>NaN</td>\n",
              "      <td>NaN</td>\n",
              "      <td>Just happened a terrible car crash</td>\n",
              "    </tr>\n",
              "    <tr>\n",
              "      <th>1</th>\n",
              "      <td>2</td>\n",
              "      <td>NaN</td>\n",
              "      <td>NaN</td>\n",
              "      <td>Heard about #earthquake is different cities, s...</td>\n",
              "    </tr>\n",
              "    <tr>\n",
              "      <th>2</th>\n",
              "      <td>3</td>\n",
              "      <td>NaN</td>\n",
              "      <td>NaN</td>\n",
              "      <td>there is a forest fire at spot pond, geese are...</td>\n",
              "    </tr>\n",
              "    <tr>\n",
              "      <th>3</th>\n",
              "      <td>9</td>\n",
              "      <td>NaN</td>\n",
              "      <td>NaN</td>\n",
              "      <td>Apocalypse lighting. #Spokane #wildfires</td>\n",
              "    </tr>\n",
              "    <tr>\n",
              "      <th>4</th>\n",
              "      <td>11</td>\n",
              "      <td>NaN</td>\n",
              "      <td>NaN</td>\n",
              "      <td>Typhoon Soudelor kills 28 in China and Taiwan</td>\n",
              "    </tr>\n",
              "    <tr>\n",
              "      <th>...</th>\n",
              "      <td>...</td>\n",
              "      <td>...</td>\n",
              "      <td>...</td>\n",
              "      <td>...</td>\n",
              "    </tr>\n",
              "    <tr>\n",
              "      <th>3258</th>\n",
              "      <td>10861</td>\n",
              "      <td>NaN</td>\n",
              "      <td>NaN</td>\n",
              "      <td>EARTHQUAKE SAFETY LOS ANGELES ÛÒ SAFETY FASTE...</td>\n",
              "    </tr>\n",
              "    <tr>\n",
              "      <th>3259</th>\n",
              "      <td>10865</td>\n",
              "      <td>NaN</td>\n",
              "      <td>NaN</td>\n",
              "      <td>Storm in RI worse than last hurricane. My city...</td>\n",
              "    </tr>\n",
              "    <tr>\n",
              "      <th>3260</th>\n",
              "      <td>10868</td>\n",
              "      <td>NaN</td>\n",
              "      <td>NaN</td>\n",
              "      <td>Green Line derailment in Chicago http://t.co/U...</td>\n",
              "    </tr>\n",
              "    <tr>\n",
              "      <th>3261</th>\n",
              "      <td>10874</td>\n",
              "      <td>NaN</td>\n",
              "      <td>NaN</td>\n",
              "      <td>MEG issues Hazardous Weather Outlook (HWO) htt...</td>\n",
              "    </tr>\n",
              "    <tr>\n",
              "      <th>3262</th>\n",
              "      <td>10875</td>\n",
              "      <td>NaN</td>\n",
              "      <td>NaN</td>\n",
              "      <td>#CityofCalgary has activated its Municipal Eme...</td>\n",
              "    </tr>\n",
              "  </tbody>\n",
              "</table>\n",
              "<p>3263 rows × 4 columns</p>\n",
              "</div>"
            ],
            "text/plain": [
              "         id keyword location                                               text\n",
              "0         0     NaN      NaN                 Just happened a terrible car crash\n",
              "1         2     NaN      NaN  Heard about #earthquake is different cities, s...\n",
              "2         3     NaN      NaN  there is a forest fire at spot pond, geese are...\n",
              "3         9     NaN      NaN           Apocalypse lighting. #Spokane #wildfires\n",
              "4        11     NaN      NaN      Typhoon Soudelor kills 28 in China and Taiwan\n",
              "...     ...     ...      ...                                                ...\n",
              "3258  10861     NaN      NaN  EARTHQUAKE SAFETY LOS ANGELES ÛÒ SAFETY FASTE...\n",
              "3259  10865     NaN      NaN  Storm in RI worse than last hurricane. My city...\n",
              "3260  10868     NaN      NaN  Green Line derailment in Chicago http://t.co/U...\n",
              "3261  10874     NaN      NaN  MEG issues Hazardous Weather Outlook (HWO) htt...\n",
              "3262  10875     NaN      NaN  #CityofCalgary has activated its Municipal Eme...\n",
              "\n",
              "[3263 rows x 4 columns]"
            ]
          },
          "metadata": {
            "tags": []
          },
          "execution_count": 147
        }
      ]
    },
    {
      "cell_type": "markdown",
      "metadata": {
        "id": "UQZnJFC97SZ9",
        "colab_type": "text"
      },
      "source": [
        "## 2. EDA\n",
        "\n",
        "Let's get some informations about the datasets"
      ]
    },
    {
      "cell_type": "code",
      "metadata": {
        "id": "KdWcg33O7qpZ",
        "colab_type": "code",
        "colab": {
          "base_uri": "https://localhost:8080/",
          "height": 225
        },
        "outputId": "d9d792d4-68be-4315-feb9-8b8d0bcba11c"
      },
      "source": [
        "train_df.info()"
      ],
      "execution_count": 148,
      "outputs": [
        {
          "output_type": "stream",
          "text": [
            "<class 'pandas.core.frame.DataFrame'>\n",
            "RangeIndex: 7613 entries, 0 to 7612\n",
            "Data columns (total 5 columns):\n",
            " #   Column    Non-Null Count  Dtype \n",
            "---  ------    --------------  ----- \n",
            " 0   id        7613 non-null   int64 \n",
            " 1   keyword   7552 non-null   object\n",
            " 2   location  5080 non-null   object\n",
            " 3   text      7613 non-null   object\n",
            " 4   target    7613 non-null   int64 \n",
            "dtypes: int64(2), object(3)\n",
            "memory usage: 297.5+ KB\n"
          ],
          "name": "stdout"
        }
      ]
    },
    {
      "cell_type": "code",
      "metadata": {
        "id": "xXkdbh5-xXl3",
        "colab_type": "code",
        "outputId": "ead41d4b-ed7f-49a3-8830-d0e74202b0ee",
        "colab": {
          "base_uri": "https://localhost:8080/",
          "height": 121
        }
      },
      "source": [
        "#Missing values in training set\n",
        "train_df.isnull().sum()"
      ],
      "execution_count": 149,
      "outputs": [
        {
          "output_type": "execute_result",
          "data": {
            "text/plain": [
              "id             0\n",
              "keyword       61\n",
              "location    2533\n",
              "text           0\n",
              "target         0\n",
              "dtype: int64"
            ]
          },
          "metadata": {
            "tags": []
          },
          "execution_count": 149
        }
      ]
    },
    {
      "cell_type": "code",
      "metadata": {
        "id": "yWCu76k-xfSO",
        "colab_type": "code",
        "outputId": "515582d0-b253-4e88-820e-4576573bfb53",
        "colab": {
          "base_uri": "https://localhost:8080/",
          "height": 104
        }
      },
      "source": [
        "#Missing values in test set\n",
        "test_df.isnull().sum()"
      ],
      "execution_count": 150,
      "outputs": [
        {
          "output_type": "execute_result",
          "data": {
            "text/plain": [
              "id             0\n",
              "keyword       26\n",
              "location    1105\n",
              "text           0\n",
              "dtype: int64"
            ]
          },
          "metadata": {
            "tags": []
          },
          "execution_count": 150
        }
      ]
    },
    {
      "cell_type": "markdown",
      "metadata": {
        "id": "zwCkSTROxxuo",
        "colab_type": "text"
      },
      "source": [
        "A lot of values are missing in both train and test set but it won't affect us as we are mainly going to work with the \"text\" column"
      ]
    },
    {
      "cell_type": "markdown",
      "metadata": {
        "id": "JmrjWA_8x-aI",
        "colab_type": "text"
      },
      "source": [
        "### Exploring the target column\n",
        "\n",
        "\n",
        "\n",
        "Let's see the distribution of the target column\n",
        "\n"
      ]
    },
    {
      "cell_type": "code",
      "metadata": {
        "id": "mdbnuF92x5fU",
        "colab_type": "code",
        "outputId": "4b053adf-3df8-4d28-996a-0ae91f011919",
        "colab": {
          "base_uri": "https://localhost:8080/",
          "height": 69
        }
      },
      "source": [
        "train_df['target'].value_counts()"
      ],
      "execution_count": 151,
      "outputs": [
        {
          "output_type": "execute_result",
          "data": {
            "text/plain": [
              "0    4342\n",
              "1    3271\n",
              "Name: target, dtype: int64"
            ]
          },
          "metadata": {
            "tags": []
          },
          "execution_count": 151
        }
      ]
    },
    {
      "cell_type": "code",
      "metadata": {
        "id": "MTrNVemuyQyK",
        "colab_type": "code",
        "outputId": "79c2e749-895b-4567-e440-5a6cec044aa3",
        "colab": {
          "base_uri": "https://localhost:8080/",
          "height": 391
        }
      },
      "source": [
        "#let's visualize the distribution of target value \n",
        "sns.barplot(train_df['target'].value_counts().index,train_df['target'].value_counts())"
      ],
      "execution_count": 152,
      "outputs": [
        {
          "output_type": "execute_result",
          "data": {
            "text/plain": [
              "<matplotlib.axes._subplots.AxesSubplot at 0x7efd97b48ef0>"
            ]
          },
          "metadata": {
            "tags": []
          },
          "execution_count": 152
        },
        {
          "output_type": "display_data",
          "data": {
            "image/png": "[encoded data removed]",
            "text/plain": [
              "<Figure size 864x432 with 1 Axes>"
            ]
          },
          "metadata": {
            "tags": [],
            "needs_background": "light"
          }
        }
      ]
    },
    {
      "cell_type": "markdown",
      "metadata": {
        "id": "d9-_9G5KypMl",
        "colab_type": "text"
      },
      "source": [
        "\n",
        "\n",
        "*   Exploring the Target Column :  Let's look at what the disaster and the non disaster tweets look like\n",
        "\n"
      ]
    },
    {
      "cell_type": "code",
      "metadata": {
        "id": "fuE4Zd1-ywoE",
        "colab_type": "code",
        "outputId": "f1e570ff-477d-45ff-e68b-da2b0aebe944",
        "colab": {
          "base_uri": "https://localhost:8080/",
          "height": 35
        }
      },
      "source": [
        "# A disaster tweet\n",
        "disaster_tweets = train_df[train_df['target']==1]['text']\n",
        "disaster_tweets.values[0]"
      ],
      "execution_count": 153,
      "outputs": [
        {
          "output_type": "execute_result",
          "data": {
            "text/plain": [
              "'Our Deeds are the Reason of this #earthquake May ALLAH Forgive us all'"
            ]
          },
          "metadata": {
            "tags": []
          },
          "execution_count": 153
        }
      ]
    },
    {
      "cell_type": "code",
      "metadata": {
        "id": "AkQrUjCozIBi",
        "colab_type": "code",
        "outputId": "68368908-3d0b-4b0a-aa07-5f7dd93421ad",
        "colab": {
          "base_uri": "https://localhost:8080/",
          "height": 35
        }
      },
      "source": [
        "#not a disaster tweet\n",
        "non_disaster_tweets = train_df[train_df['target']==0]['text']\n",
        "non_disaster_tweets.values[0]"
      ],
      "execution_count": 154,
      "outputs": [
        {
          "output_type": "execute_result",
          "data": {
            "text/plain": [
              "\"What's up man?\""
            ]
          },
          "metadata": {
            "tags": []
          },
          "execution_count": 154
        }
      ]
    },
    {
      "cell_type": "markdown",
      "metadata": {
        "id": "ApCyPSyizlK7",
        "colab_type": "text"
      },
      "source": [
        "\n",
        "### Exploring the 'keyword' column\n",
        "\n",
        "The keyword column contains a keyword from the tweet. Let's look at the top keywords in the training data\n"
      ]
    },
    {
      "cell_type": "code",
      "metadata": {
        "id": "4y5ntalvzsy7",
        "colab_type": "code",
        "outputId": "70a366c2-9b17-4e52-a4a9-1ee80983e04c",
        "colab": {
          "base_uri": "https://localhost:8080/",
          "height": 405
        }
      },
      "source": [
        "sns.barplot(y=train_df['keyword'].value_counts()[:15].index,x=train_df['keyword'].value_counts()[:15],\n",
        "            orient='h')"
      ],
      "execution_count": 155,
      "outputs": [
        {
          "output_type": "execute_result",
          "data": {
            "text/plain": [
              "<matplotlib.axes._subplots.AxesSubplot at 0x7efd97b422e8>"
            ]
          },
          "metadata": {
            "tags": []
          },
          "execution_count": 155
        },
        {
          "output_type": "display_data",
          "data": {
            "image/png": "[encoded data removed]",
            "text/plain": [
              "<Figure size 864x432 with 1 Axes>"
            ]
          },
          "metadata": {
            "tags": [],
            "needs_background": "light"
          }
        }
      ]
    },
    {
      "cell_type": "markdown",
      "metadata": {
        "id": "Yxx61BJP_W7K",
        "colab_type": "text"
      },
      "source": [
        "### Common stopwords and punctuation\n",
        "\n",
        "Let's look at the common stopwords and punctuation for disaster and non-disaster tweets."
      ]
    },
    {
      "cell_type": "code",
      "metadata": {
        "id": "Aj9nOLf6_n82",
        "colab_type": "code",
        "colab": {}
      },
      "source": [
        "stopw = set(stopwords.words('english'))"
      ],
      "execution_count": 0,
      "outputs": []
    },
    {
      "cell_type": "markdown",
      "metadata": {
        "id": "jxTq_peQ_vtX",
        "colab_type": "text"
      },
      "source": [
        "we need to create a corpus for disaster and non-disaster tweets."
      ]
    },
    {
      "cell_type": "code",
      "metadata": {
        "id": "2vHa2bja_zNK",
        "colab_type": "code",
        "colab": {}
      },
      "source": [
        "#target will be either 1 ou 0\n",
        "def create_corpus(target):\n",
        "    corpus=[]\n",
        "    \n",
        "    for x in train_df[train_df['target']==target]['text'].str.split():\n",
        "        for i in x:\n",
        "            corpus.append(i.lower())\n",
        "    return corpus"
      ],
      "execution_count": 0,
      "outputs": []
    },
    {
      "cell_type": "code",
      "metadata": {
        "id": "-f5XRXGy_971",
        "colab_type": "code",
        "colab": {}
      },
      "source": [
        "disaster_corpus = create_corpus(1)\n",
        "non_disaster_corpus = create_corpus(0)"
      ],
      "execution_count": 0,
      "outputs": []
    },
    {
      "cell_type": "code",
      "metadata": {
        "id": "y3JzYauVAMEM",
        "colab_type": "code",
        "colab": {}
      },
      "source": [
        "from collections import defaultdict, Counter\n",
        "import warnings\n",
        "import re\n",
        "import random \n",
        "\n",
        "dic_disaster=defaultdict(int)\n",
        "for word in disaster_corpus:\n",
        "    if word in stopw:\n",
        "        dic_disaster[word]+=1\n",
        "        \n",
        "dic_non_disaster=defaultdict(int)\n",
        "for word in non_disaster_corpus:\n",
        "    if word in stopw:\n",
        "        dic_non_disaster[word]+=1 "
      ],
      "execution_count": 0,
      "outputs": []
    },
    {
      "cell_type": "code",
      "metadata": {
        "id": "dJ0jGDY8B6Ib",
        "colab_type": "code",
        "colab": {}
      },
      "source": [
        "top_disaster = sorted(dic_disaster.items(), key=lambda x:x[1],reverse=True)[:10] \n",
        "top_non_disaster = sorted(dic_non_disaster.items(), key=lambda x:x[1],reverse=True)[:10] "
      ],
      "execution_count": 0,
      "outputs": []
    },
    {
      "cell_type": "code",
      "metadata": {
        "id": "KYq4Gw8wB9eO",
        "colab_type": "code",
        "colab": {}
      },
      "source": [
        "x1,y1=zip(*top_disaster)\n",
        "x2,y2=zip(*top_non_disaster)\n",
        "top_stop = pd.DataFrame({'Target':[1]*10+[0]*10, 'Word': [x for x in x1]+[x for x in x2], 'Occurances': [y for y in y1]+[y for y in y2] })"
      ],
      "execution_count": 0,
      "outputs": []
    },
    {
      "cell_type": "code",
      "metadata": {
        "id": "j8LVCsXhCLvA",
        "colab_type": "code",
        "colab": {
          "base_uri": "https://localhost:8080/",
          "height": 459
        },
        "outputId": "ddc933aa-f1f2-44c2-fd0c-791c5e894063"
      },
      "source": [
        "plt.figure(figsize=(12,7))\n",
        "sns.barplot(x='Word',y='Occurances',data = top_stop,hue='Target')"
      ],
      "execution_count": 162,
      "outputs": [
        {
          "output_type": "execute_result",
          "data": {
            "text/plain": [
              "<matplotlib.axes._subplots.AxesSubplot at 0x7efd96bf77b8>"
            ]
          },
          "metadata": {
            "tags": []
          },
          "execution_count": 162
        },
        {
          "output_type": "display_data",
          "data": {
            "image/png": "[encoded data removed]",
            "text/plain": [
              "<Figure size 864x504 with 1 Axes>"
            ]
          },
          "metadata": {
            "tags": [],
            "needs_background": "light"
          }
        }
      ]
    },
    {
      "cell_type": "markdown",
      "metadata": {
        "id": "pfCIZFvnCk4l",
        "colab_type": "text"
      },
      "source": [
        "We can see on the plot above the most common words and their occurances.We will have to do some cleaning here.\n",
        "\n",
        "Now, let's see about the punctuation.\n",
        "\n"
      ]
    },
    {
      "cell_type": "code",
      "metadata": {
        "id": "QyP2Ye62EBuO",
        "colab_type": "code",
        "colab": {
          "base_uri": "https://localhost:8080/",
          "height": 35
        },
        "outputId": "6d68dad2-982b-444a-8753-ecff905c81f9"
      },
      "source": [
        "import string\n",
        "punctuation = string.punctuation\n",
        "punctuation"
      ],
      "execution_count": 163,
      "outputs": [
        {
          "output_type": "execute_result",
          "data": {
            "text/plain": [
              "'!\"#$%&\\'()*+,-./:;<=>?@[\\\\]^_`{|}~'"
            ]
          },
          "metadata": {
            "tags": []
          },
          "execution_count": 163
        }
      ]
    },
    {
      "cell_type": "code",
      "metadata": {
        "id": "esR1RFJAEKXq",
        "colab_type": "code",
        "colab": {}
      },
      "source": [
        "dic_disaster_punct=defaultdict(int)\n",
        "for word in disaster_corpus:\n",
        "    if word in punctuation:\n",
        "        dic_disaster_punct[word]+=1\n",
        "        \n",
        "dic_non_disaster_punct=defaultdict(int)\n",
        "for word in non_disaster_corpus:\n",
        "    if word in punctuation:\n",
        "        dic_non_disaster_punct[word]+=1 "
      ],
      "execution_count": 0,
      "outputs": []
    },
    {
      "cell_type": "code",
      "metadata": {
        "id": "viGJQFu5ESpN",
        "colab_type": "code",
        "colab": {}
      },
      "source": [
        "top_disaster_punct = sorted(dic_disaster_punct.items(), key=lambda x:x[1],reverse=True)[:10] \n",
        "top_non_disaster_punct = sorted(dic_non_disaster_punct.items(), key=lambda x:x[1],reverse=True)[:10]"
      ],
      "execution_count": 0,
      "outputs": []
    },
    {
      "cell_type": "code",
      "metadata": {
        "id": "pE2hotTcEWZv",
        "colab_type": "code",
        "colab": {}
      },
      "source": [
        "x1,y1=zip(*top_disaster_punct)\n",
        "x2,y2=zip(*top_non_disaster_punct)\n",
        "top_punct = pd.DataFrame({'Target':[1]*10+[0]*10, 'Word': [x for x in x1]+[x for x in x2], 'Occurances': [y for y in y1]+[y for y in y2] })"
      ],
      "execution_count": 0,
      "outputs": []
    },
    {
      "cell_type": "code",
      "metadata": {
        "id": "uygV6p9kEacK",
        "colab_type": "code",
        "colab": {
          "base_uri": "https://localhost:8080/",
          "height": 461
        },
        "outputId": "3847f06c-bbfb-4828-b16e-0f69cd8de436"
      },
      "source": [
        "plt.figure(figsize=(12,7))\n",
        "sns.barplot(x='Word',y='Occurances',data = top_punct,hue='Target')"
      ],
      "execution_count": 167,
      "outputs": [
        {
          "output_type": "execute_result",
          "data": {
            "text/plain": [
              "<matplotlib.axes._subplots.AxesSubplot at 0x7efd925a6278>"
            ]
          },
          "metadata": {
            "tags": []
          },
          "execution_count": 167
        },
        {
          "output_type": "display_data",
          "data": {
            "image/png": "[encoded data removed]",
            "text/plain": [
              "<Figure size 864x504 with 1 Axes>"
            ]
          },
          "metadata": {
            "tags": [],
            "needs_background": "light"
          }
        }
      ]
    },
    {
      "cell_type": "markdown",
      "metadata": {
        "id": "FMZdTVmKEmVj",
        "colab_type": "text"
      },
      "source": [
        "We can see on the plot above the punctuation and their occurances.We need to do some cleaning here too."
      ]
    },
    {
      "cell_type": "markdown",
      "metadata": {
        "id": "fE-n9kx4Fm25",
        "colab_type": "text"
      },
      "source": [
        "### Common Words\n",
        "\n",
        "we can now explore the most common words for each class."
      ]
    },
    {
      "cell_type": "code",
      "metadata": {
        "id": "h4By_5FaFiBY",
        "colab_type": "code",
        "colab": {}
      },
      "source": [
        "counter_d = Counter(disaster_corpus)\n",
        "most_disaster_words = counter_d.most_common()\n",
        "x1=[]\n",
        "y1=[]\n",
        "for word,count in most_disaster_words[:50]:\n",
        "    if (word not in stopw) :\n",
        "        x1.append(word)\n",
        "        y1.append(count)\n",
        "        \n",
        "counter_nd = Counter(non_disaster_corpus)\n",
        "most_non_disaster_words = counter_nd.most_common()\n",
        "x2=[]\n",
        "y2=[]\n",
        "for word,count in most_non_disaster_words[:50]:\n",
        "    if (word not in stopw) :\n",
        "        x2.append(word)\n",
        "        y2.append(count) "
      ],
      "execution_count": 0,
      "outputs": []
    },
    {
      "cell_type": "code",
      "metadata": {
        "id": "SzUARqSnGKJK",
        "colab_type": "code",
        "colab": {
          "base_uri": "https://localhost:8080/",
          "height": 673
        },
        "outputId": "d8e5be8f-80f9-45e2-80bb-4cf8cd8c6f65"
      },
      "source": [
        "plt.figure(figsize=(10,5))\n",
        "sns.barplot(x=x1,y=y1)\n",
        "plt.title('Disaster')\n",
        "plt.figure(figsize=(10,5))\n",
        "sns.barplot(x=x2,y=y2)\n",
        "plt.title('Not disaster')"
      ],
      "execution_count": 169,
      "outputs": [
        {
          "output_type": "execute_result",
          "data": {
            "text/plain": [
              "Text(0.5, 1.0, 'Not disaster')"
            ]
          },
          "metadata": {
            "tags": []
          },
          "execution_count": 169
        },
        {
          "output_type": "display_data",
          "data": {
            "image/png": "[encoded data removed]",
            "text/plain": [
              "<Figure size 720x360 with 1 Axes>"
            ]
          },
          "metadata": {
            "tags": [],
            "needs_background": "light"
          }
        },
        {
          "output_type": "display_data",
          "data": {
            "image/png": "[encoded data removed]",
            "text/plain": [
              "<Figure size 720x360 with 1 Axes>"
            ]
          },
          "metadata": {
            "tags": [],
            "needs_background": "light"
          }
        }
      ]
    },
    {
      "cell_type": "markdown",
      "metadata": {
        "id": "pVVz_zITGjg0",
        "colab_type": "text"
      },
      "source": [
        "We can see in plots above that there are some common words that are not actually words, that shows us the we need to remove them from our data."
      ]
    },
    {
      "cell_type": "markdown",
      "metadata": {
        "id": "BI2zQs9HG7cJ",
        "colab_type": "text"
      },
      "source": [
        "### N-grams: bigrams and trigrams\n",
        "\n",
        "n-grams are groups of consecutive characters in a word - i.e. 'mother' has bigrams mo, ot, th, he, er and trigrams mot, oth, the and her OR consecutive n-groups of words in a text - i.e. 'This is my text' would become 'this is', 'is my' and 'my text'. This is the traditional way of analysing text data and performing NLP\n",
        "\n",
        "Let's start with Most common bigrams (n = 2)"
      ]
    },
    {
      "cell_type": "code",
      "metadata": {
        "id": "RxIAg-waGilM",
        "colab_type": "code",
        "colab": {}
      },
      "source": [
        "def generate_ngrams(text, n):\n",
        "    token = [token for token in text.lower().split(' ') if token != '' if token not in stopw]\n",
        "    ngrams = zip(*[token[i:] for i in range(n)])\n",
        "    return [' '.join(ngram) for ngram in ngrams]"
      ],
      "execution_count": 0,
      "outputs": []
    },
    {
      "cell_type": "code",
      "metadata": {
        "id": "c56TZ5L5HpiH",
        "colab_type": "code",
        "colab": {}
      },
      "source": [
        "disaster_bigrams = defaultdict(int)\n",
        "nondisaster_bigrams = defaultdict(int)\n",
        "\n",
        "for tweet in train_df[train_df['target']==1]['text']:\n",
        "    for word in generate_ngrams(tweet,2):\n",
        "        disaster_bigrams[word] += 1\n",
        "        \n",
        "for tweet in train_df[train_df['target']==0]['text']:\n",
        "    for word in generate_ngrams(tweet,2):\n",
        "        nondisaster_bigrams[word] += 1\n",
        "        \n",
        "df_disaster_bigrams = pd.DataFrame(sorted(disaster_bigrams.items(), key=lambda x: x[1])[::-1],columns=['bigrams','frequency'])\n",
        "\n",
        "df_nondisaster_bigrams = pd.DataFrame(sorted(nondisaster_bigrams.items(), key=lambda x: x[1])[::-1],columns=['bigrams','frequency'])        "
      ],
      "execution_count": 0,
      "outputs": []
    },
    {
      "cell_type": "code",
      "metadata": {
        "id": "gcJBwP3aP1m6",
        "colab_type": "code",
        "colab": {
          "base_uri": "https://localhost:8080/",
          "height": 202
        },
        "outputId": "6313c22f-1529-4e47-ae8d-5629102bc57b"
      },
      "source": [
        "df_disaster_bigrams.head()"
      ],
      "execution_count": 172,
      "outputs": [
        {
          "output_type": "execute_result",
          "data": {
            "text/html": [
              "<div>\n",
              "<style scoped>\n",
              "    .dataframe tbody tr th:only-of-type {\n",
              "        vertical-align: middle;\n",
              "    }\n",
              "\n",
              "    .dataframe tbody tr th {\n",
              "        vertical-align: top;\n",
              "    }\n",
              "\n",
              "    .dataframe thead th {\n",
              "        text-align: right;\n",
              "    }\n",
              "</style>\n",
              "<table border=\"1\" class=\"dataframe\">\n",
              "  <thead>\n",
              "    <tr style=\"text-align: right;\">\n",
              "      <th></th>\n",
              "      <th>bigrams</th>\n",
              "      <th>frequency</th>\n",
              "    </tr>\n",
              "  </thead>\n",
              "  <tbody>\n",
              "    <tr>\n",
              "      <th>0</th>\n",
              "      <td>suicide bomber</td>\n",
              "      <td>59</td>\n",
              "    </tr>\n",
              "    <tr>\n",
              "      <th>1</th>\n",
              "      <td>northern california</td>\n",
              "      <td>40</td>\n",
              "    </tr>\n",
              "    <tr>\n",
              "      <th>2</th>\n",
              "      <td>oil spill</td>\n",
              "      <td>37</td>\n",
              "    </tr>\n",
              "    <tr>\n",
              "      <th>3</th>\n",
              "      <td>california wildfire</td>\n",
              "      <td>31</td>\n",
              "    </tr>\n",
              "    <tr>\n",
              "      <th>4</th>\n",
              "      <td>bomber detonated</td>\n",
              "      <td>30</td>\n",
              "    </tr>\n",
              "  </tbody>\n",
              "</table>\n",
              "</div>"
            ],
            "text/plain": [
              "               bigrams  frequency\n",
              "0       suicide bomber         59\n",
              "1  northern california         40\n",
              "2            oil spill         37\n",
              "3  california wildfire         31\n",
              "4     bomber detonated         30"
            ]
          },
          "metadata": {
            "tags": []
          },
          "execution_count": 172
        }
      ]
    },
    {
      "cell_type": "markdown",
      "metadata": {
        "id": "AcQU486bRJEJ",
        "colab_type": "text"
      },
      "source": [
        "Let's visualize the bigrams "
      ]
    },
    {
      "cell_type": "code",
      "metadata": {
        "id": "7S7VTCScRGU5",
        "colab_type": "code",
        "colab": {
          "base_uri": "https://localhost:8080/",
          "height": 701
        },
        "outputId": "9d72c101-19ef-46d1-b0a4-b22cdda57c1a"
      },
      "source": [
        "plt.figure(figsize = (12,5))\n",
        "sns.barplot(y='bigrams',x='frequency', data=df_disaster_bigrams[:20])\n",
        "plt.title('Common bigrams - Disaster')\n",
        "\n",
        "plt.figure(figsize = (12,5))\n",
        "sns.barplot(y='bigrams',x='frequency',data=df_nondisaster_bigrams[:20] )\n",
        "plt.title('Common bigrams - Not Disaster')"
      ],
      "execution_count": 173,
      "outputs": [
        {
          "output_type": "execute_result",
          "data": {
            "text/plain": [
              "Text(0.5, 1.0, 'Common bigrams - Not Disaster')"
            ]
          },
          "metadata": {
            "tags": []
          },
          "execution_count": 173
        },
        {
          "output_type": "display_data",
          "data": {
            "image/png": "[encoded data removed]",
            "text/plain": [
              "<Figure size 864x360 with 1 Axes>"
            ]
          },
          "metadata": {
            "tags": [],
            "needs_background": "light"
          }
        },
        {
          "output_type": "display_data",
          "data": {
            "image/png": "[encoded data removed]",
            "text/plain": [
              "<Figure size 864x360 with 1 Axes>"
            ]
          },
          "metadata": {
            "tags": [],
            "needs_background": "light"
          }
        }
      ]
    },
    {
      "cell_type": "markdown",
      "metadata": {
        "id": "9g_dsHwfRYxs",
        "colab_type": "text"
      },
      "source": [
        "Now the most common trigrams (n=3) and visualize them."
      ]
    },
    {
      "cell_type": "code",
      "metadata": {
        "id": "XoGzA4KaRkLc",
        "colab_type": "code",
        "colab": {}
      },
      "source": [
        "disaster_trigrams = defaultdict(int)\n",
        "nondisaster_trigrams = defaultdict(int)\n",
        "\n",
        "for tweet in train_df[train_df['target']==1]['text']:\n",
        "    for word in generate_ngrams(tweet,3):\n",
        "        disaster_trigrams[word] += 1\n",
        "        \n",
        "for tweet in train_df[train_df['target']==0]['text']:\n",
        "    for word in generate_ngrams(tweet,3):\n",
        "        nondisaster_trigrams[word] += 1\n",
        "        \n",
        "df_disaster_trigrams = pd.DataFrame(sorted(disaster_trigrams.items(), key=lambda x: x[1])[::-1],columns=['trigrams','frequency'])\n",
        "\n",
        "df_nondisaster_trigrams = pd.DataFrame(sorted(nondisaster_trigrams.items(), key=lambda x: x[1])[::-1],columns=['trigrams','frequency'])        "
      ],
      "execution_count": 0,
      "outputs": []
    },
    {
      "cell_type": "code",
      "metadata": {
        "id": "SeZHbzdgR97O",
        "colab_type": "code",
        "colab": {
          "base_uri": "https://localhost:8080/",
          "height": 701
        },
        "outputId": "3318b461-5ebf-4a97-e992-6d2cf9af1f11"
      },
      "source": [
        "plt.figure(figsize = (12,5))\n",
        "sns.barplot(y='trigrams',x='frequency', data=df_disaster_trigrams[:20])\n",
        "plt.title('Common trigrams - Disaster')\n",
        "\n",
        "plt.figure(figsize = (12,5))\n",
        "sns.barplot(y='trigrams',x='frequency',data=df_nondisaster_trigrams[:20] )\n",
        "plt.title('Common trigrams - Not Disaster')"
      ],
      "execution_count": 175,
      "outputs": [
        {
          "output_type": "execute_result",
          "data": {
            "text/plain": [
              "Text(0.5, 1.0, 'Common trigrams - Not Disaster')"
            ]
          },
          "metadata": {
            "tags": []
          },
          "execution_count": 175
        },
        {
          "output_type": "display_data",
          "data": {
            "image/png": "[encoded data removed]",
            "text/plain": [
              "<Figure size 864x360 with 1 Axes>"
            ]
          },
          "metadata": {
            "tags": [],
            "needs_background": "light"
          }
        },
        {
          "output_type": "display_data",
          "data": {
            "image/png": "[encoded data removed]",
            "text/plain": [
              "<Figure size 864x360 with 1 Axes>"
            ]
          },
          "metadata": {
            "tags": [],
            "needs_background": "light"
          }
        }
      ]
    },
    {
      "cell_type": "markdown",
      "metadata": {
        "id": "2A2WjzpPSB6A",
        "colab_type": "text"
      },
      "source": [
        "It seems that the text is not clean and if we take a clearer look into the individual texts we notice that they contain URLs, weird abbreviations, emojis, @ and #'s, so the next task is to clean the text and then compute the n-grams again."
      ]
    },
    {
      "cell_type": "markdown",
      "metadata": {
        "id": "Gymdvs-nSUG4",
        "colab_type": "text"
      },
      "source": [
        "## 3. Cleaning data process\n",
        "\n",
        "### 3.1 Removing URLs"
      ]
    },
    {
      "cell_type": "code",
      "metadata": {
        "id": "3uXLGFLKSvuH",
        "colab_type": "code",
        "colab": {}
      },
      "source": [
        "def remove_URL(text):\n",
        "    url = re.compile(r'https?://\\S+|www\\.\\S+')\n",
        "    return url.sub(r'',text)"
      ],
      "execution_count": 0,
      "outputs": []
    },
    {
      "cell_type": "code",
      "metadata": {
        "id": "BBuRvdrsSyoe",
        "colab_type": "code",
        "colab": {}
      },
      "source": [
        "#Let's use our remove_url function and apply it to our data\n",
        "train_df['text'] = train_df['text'].apply(lambda x : remove_URL(x))"
      ],
      "execution_count": 0,
      "outputs": []
    },
    {
      "cell_type": "markdown",
      "metadata": {
        "id": "EzJ3pWSjTJ3B",
        "colab_type": "text"
      },
      "source": [
        "### 3.2 Removing HTMLs"
      ]
    },
    {
      "cell_type": "code",
      "metadata": {
        "id": "nTTajXTVTM-c",
        "colab_type": "code",
        "colab": {}
      },
      "source": [
        "def remove_html(text):\n",
        "    html=re.compile(r'<.*?>')\n",
        "    return html.sub(r'',text)"
      ],
      "execution_count": 0,
      "outputs": []
    },
    {
      "cell_type": "code",
      "metadata": {
        "id": "e7yXMeQ3TQTZ",
        "colab_type": "code",
        "colab": {}
      },
      "source": [
        "#Let's use our remove_html function and apply it to our data\n",
        "train_df['text'] = train_df[\"text\"].apply(lambda x: remove_html(x))"
      ],
      "execution_count": 0,
      "outputs": []
    },
    {
      "cell_type": "markdown",
      "metadata": {
        "id": "SwC53P3xTnSm",
        "colab_type": "text"
      },
      "source": [
        "### 3.3 Removing emojis"
      ]
    },
    {
      "cell_type": "code",
      "metadata": {
        "id": "nV-Q_mjaTroJ",
        "colab_type": "code",
        "colab": {}
      },
      "source": [
        "def remove_emoji(text):\n",
        "    emoji_pattern = re.compile(\"[\"\n",
        "                           u\"\\U0001F600-\\U0001F64F\"  # emoticons\n",
        "                           u\"\\U0001F300-\\U0001F5FF\"  # symbols & pictographs\n",
        "                           u\"\\U0001F680-\\U0001F6FF\"  # transport & map symbols\n",
        "                           u\"\\U0001F1E0-\\U0001F1FF\"  # flags (iOS)\n",
        "                           u\"\\U00002702-\\U000027B0\"\n",
        "                           u\"\\U000024C2-\\U0001F251\"\n",
        "                           \"]+\", flags=re.UNICODE)\n",
        "    return emoji_pattern.sub(r'', text)"
      ],
      "execution_count": 0,
      "outputs": []
    },
    {
      "cell_type": "code",
      "metadata": {
        "id": "ihTpGfduTtcD",
        "colab_type": "code",
        "colab": {}
      },
      "source": [
        "#Let's use our remove_emoji function and apply it to our data\n",
        "train_df['text'] = train_df[\"text\"].apply(lambda x: remove_emoji(x))"
      ],
      "execution_count": 0,
      "outputs": []
    },
    {
      "cell_type": "markdown",
      "metadata": {
        "id": "uFncVRjyT434",
        "colab_type": "text"
      },
      "source": [
        "### 3.4 Removing punctuations"
      ]
    },
    {
      "cell_type": "code",
      "metadata": {
        "id": "svkQVgQsUCqr",
        "colab_type": "code",
        "colab": {}
      },
      "source": [
        "def remove_punctuation(text):\n",
        "    table=str.maketrans('','',string.punctuation)\n",
        "    return text.translate(table)"
      ],
      "execution_count": 0,
      "outputs": []
    },
    {
      "cell_type": "code",
      "metadata": {
        "id": "UNwUHjhyUNSD",
        "colab_type": "code",
        "colab": {}
      },
      "source": [
        "#Let's use our remove_punctuation function and apply it to our data\n",
        "train_df['text'] = train_df[\"text\"].apply(lambda x: remove_punctuation(x))"
      ],
      "execution_count": 0,
      "outputs": []
    },
    {
      "cell_type": "markdown",
      "metadata": {
        "id": "sDUB2d46Uneo",
        "colab_type": "text"
      },
      "source": [
        "### 3.5 Further cleaning"
      ]
    },
    {
      "cell_type": "code",
      "metadata": {
        "id": "P042hZpeUlX1",
        "colab_type": "code",
        "colab": {}
      },
      "source": [
        "# Applying a first round of text cleaning techniques\n",
        "\n",
        "def clean_text(text):\n",
        "    '''Make text lowercase, remove text in square brackets,\n",
        "    and remove words containing numbers.'''\n",
        "    text = text.lower()\n",
        "    text = re.sub('\\[.*?\\]', '', text)\n",
        "    text = re.sub('\\n', '', text)\n",
        "    text = re.sub('\\w*\\d\\w*', '', text)\n",
        "    return text"
      ],
      "execution_count": 0,
      "outputs": []
    },
    {
      "cell_type": "code",
      "metadata": {
        "id": "R-bmRMo-VEeO",
        "colab_type": "code",
        "colab": {}
      },
      "source": [
        "# Applying the clean_text function to our dataset\n",
        "train_df['text'] = train_df['text'].apply(lambda x: clean_text(x))"
      ],
      "execution_count": 0,
      "outputs": []
    },
    {
      "cell_type": "code",
      "metadata": {
        "id": "EC0xXweF0hlL",
        "colab_type": "code",
        "outputId": "0f8f8b16-b22f-44bf-bbac-210b4fdd8234",
        "colab": {
          "base_uri": "https://localhost:8080/",
          "height": 381
        }
      },
      "source": [
        "# A quick glance over the existing data\n",
        "train_df['text'][:20]"
      ],
      "execution_count": 186,
      "outputs": [
        {
          "output_type": "execute_result",
          "data": {
            "text/plain": [
              "0     our deeds are the reason of this earthquake ma...\n",
              "1                 forest fire near la ronge sask canada\n",
              "2     all residents asked to shelter in place are be...\n",
              "3      people receive wildfires evacuation orders in...\n",
              "4     just got sent this photo from ruby alaska as s...\n",
              "5     rockyfire update  california hwy  closed in bo...\n",
              "6     flood disaster heavy rain causes flash floodin...\n",
              "7     im on top of the hill and i can see a fire in ...\n",
              "8     theres an emergency evacuation happening now i...\n",
              "9      im afraid that the tornado is coming to our area\n",
              "10          three people died from the heat wave so far\n",
              "11    haha south tampa is getting flooded hah wait a...\n",
              "12    raining flooding florida tampabay tampa  or  d...\n",
              "13                flood in bago myanmar we arrived bago\n",
              "14    damage to school bus on  in multi car crash br...\n",
              "15                                         whats up man\n",
              "16                                        i love fruits\n",
              "17                                     summer is lovely\n",
              "18                                    my car is so fast\n",
              "19                               what a goooooooaaaaaal\n",
              "Name: text, dtype: object"
            ]
          },
          "metadata": {
            "tags": []
          },
          "execution_count": 186
        }
      ]
    },
    {
      "cell_type": "markdown",
      "metadata": {
        "id": "brRXEoKZW9BL",
        "colab_type": "text"
      },
      "source": [
        "### 3.6 Redo bigrams and trigrams\n",
        "\n",
        "Now let's compute bigrams and trigrams again with cleaned data"
      ]
    },
    {
      "cell_type": "code",
      "metadata": {
        "id": "wolWzGSSXJtQ",
        "colab_type": "code",
        "colab": {
          "base_uri": "https://localhost:8080/",
          "height": 701
        },
        "outputId": "4e4a2bad-2ee8-44bc-cd44-8a62182c8236"
      },
      "source": [
        "#bigrams (n=2)\n",
        "cleaned_disaster_bigrams = defaultdict(int)\n",
        "cleaned_nondisaster_bigrams = defaultdict(int)\n",
        "\n",
        "for tweet in train_df[train_df['target']==1]['text']:\n",
        "    for word in generate_ngrams(tweet,2):\n",
        "        cleaned_disaster_bigrams[word] += 1\n",
        "        \n",
        "for tweet in train_df[train_df['target']==0]['text']:\n",
        "    for word in generate_ngrams(tweet,2):\n",
        "        cleaned_nondisaster_bigrams[word] += 1\n",
        "        \n",
        "df_disaster_bigrams = pd.DataFrame(sorted(cleaned_disaster_bigrams.items(), key=lambda x: x[1])[::-1],columns=['bigrams','frequency'])\n",
        "\n",
        "df_nondisaster_bigrams = pd.DataFrame(sorted(cleaned_nondisaster_bigrams.items(), key=lambda x: x[1])[::-1],columns=['bigrams','frequency'])    \n",
        "\n",
        "plt.figure(figsize = (12,5))\n",
        "sns.barplot(y='bigrams',x='frequency', data=df_disaster_bigrams[:20])\n",
        "plt.title('Common bigrams - Disaster')\n",
        "\n",
        "plt.figure(figsize = (12,5))\n",
        "sns.barplot(y='bigrams',x='frequency',data=df_nondisaster_bigrams[:20] )\n",
        "plt.title('Common bigrams - Not Disaster')"
      ],
      "execution_count": 187,
      "outputs": [
        {
          "output_type": "execute_result",
          "data": {
            "text/plain": [
              "Text(0.5, 1.0, 'Common bigrams - Not Disaster')"
            ]
          },
          "metadata": {
            "tags": []
          },
          "execution_count": 187
        },
        {
          "output_type": "display_data",
          "data": {
            "image/png": "[encoded data removed]",
            "text/plain": [
              "<Figure size 864x360 with 1 Axes>"
            ]
          },
          "metadata": {
            "tags": [],
            "needs_background": "light"
          }
        },
        {
          "output_type": "display_data",
          "data": {
            "image/png": "[encoded data removed]",
            "text/plain": [
              "<Figure size 864x360 with 1 Axes>"
            ]
          },
          "metadata": {
            "tags": [],
            "needs_background": "light"
          }
        }
      ]
    },
    {
      "cell_type": "code",
      "metadata": {
        "id": "-Mt0ZdsvXjs6",
        "colab_type": "code",
        "colab": {
          "base_uri": "https://localhost:8080/",
          "height": 701
        },
        "outputId": "0d92577f-146c-469e-a181-11ac61409f78"
      },
      "source": [
        "#trigrams (n=3)\n",
        "cleaned_disaster_trigrams = defaultdict(int)\n",
        "cleaned_nondisaster_trigrams = defaultdict(int)\n",
        "\n",
        "for tweet in train_df[train_df['target']==1]['text']:\n",
        "    for word in generate_ngrams(tweet,3):\n",
        "        cleaned_disaster_trigrams[word] += 1\n",
        "        \n",
        "for tweet in train_df[train_df['target']==0]['text']:\n",
        "    for word in generate_ngrams(tweet,3):\n",
        "        cleaned_nondisaster_trigrams[word] += 1\n",
        "        \n",
        "df_disaster_trigrams = pd.DataFrame(sorted(cleaned_disaster_trigrams.items(), key=lambda x: x[1])[::-1],columns=['trigrams','frequency'])\n",
        "\n",
        "df_nondisaster_trigrams = pd.DataFrame(sorted(cleaned_nondisaster_trigrams.items(), key=lambda x: x[1])[::-1],columns=['trigrams','frequency'])    \n",
        "\n",
        "plt.figure(figsize = (12,5))\n",
        "sns.barplot(y='trigrams',x='frequency', data=df_disaster_trigrams[:20])\n",
        "plt.title('Common trigrams - Disaster')\n",
        "\n",
        "plt.figure(figsize = (12,5))\n",
        "sns.barplot(y='trigrams',x='frequency',data=df_nondisaster_trigrams[:20] )\n",
        "plt.title('Common trigrams - Not Disaster')"
      ],
      "execution_count": 188,
      "outputs": [
        {
          "output_type": "execute_result",
          "data": {
            "text/plain": [
              "Text(0.5, 1.0, 'Common trigrams - Not Disaster')"
            ]
          },
          "metadata": {
            "tags": []
          },
          "execution_count": 188
        },
        {
          "output_type": "display_data",
          "data": {
            "image/png": "[encoded data removed]",
            "text/plain": [
              "<Figure size 864x360 with 1 Axes>"
            ]
          },
          "metadata": {
            "tags": [],
            "needs_background": "light"
          }
        },
        {
          "output_type": "display_data",
          "data": {
            "image/png": "[encoded data removed]",
            "text/plain": [
              "<Figure size 864x360 with 1 Axes>"
            ]
          },
          "metadata": {
            "tags": [],
            "needs_background": "light"
          }
        }
      ]
    },
    {
      "cell_type": "markdown",
      "metadata": {
        "id": "zS5na-d_ZFMo",
        "colab_type": "text"
      },
      "source": [
        "## 4. Building a model to predict disaster tweets\n",
        "\n"
      ]
    },
    {
      "cell_type": "markdown",
      "metadata": {
        "id": "nqBLSdIlZOe1",
        "colab_type": "text"
      },
      "source": [
        "### 4.1 Bag of words + multinomialNB\n",
        "\n",
        "A natural way to represent text for computers is to encode each character individually, this seems quite inadequate to represent and understand language. Our goal is to first create a useful embedding for each sentence (or tweet) in our dataset, and then use these embeddings to accurately predict the relevant category.\n",
        "\n",
        "Now, as our first type of embedding we will use the vanilla bag of words - basically we will compute a matrix, in which the rows are the documents(tweets), and the columns are the words in our vocabulary, with the cell c(i,j) pointing to tweet i, word j and having a value of 1 if that word appears in that document, and 0 otherwise. For this, we will use CountVectorizer - however, we will use some specific parameters for it to make our life easier:\n",
        "\n",
        "    \n",
        "\n",
        "*   lowercase=True --> this will basically lowercase all words\n",
        "*   stop_words = 'english' --> this will get rid of most common words in english ('the', 'are','I', 'a' etc.) as these would provide litte value in distinguishing wheter a tweet is referring to a disatser or not\n",
        "* max_df = 0.95 --> this will only keep words that occur up to 95% of the documents, for a similar reason as above\n",
        "* min_df = 2 --> this will only keep words which occur in at least 2 documents, as otherwise that specific word will be useless in our analysis\n",
        "\n"
      ]
    },
    {
      "cell_type": "code",
      "metadata": {
        "id": "Nx_uwp6DZRQI",
        "colab_type": "code",
        "colab": {}
      },
      "source": [
        "count_vectorizer = CountVectorizer(lowercase=True, stop_words='english', max_df=0.95, min_df=2)"
      ],
      "execution_count": 0,
      "outputs": []
    },
    {
      "cell_type": "code",
      "metadata": {
        "id": "e9lPzptaaVpl",
        "colab_type": "code",
        "colab": {}
      },
      "source": [
        "X = count_vectorizer.fit_transform(list(train_df['text']))"
      ],
      "execution_count": 0,
      "outputs": []
    },
    {
      "cell_type": "code",
      "metadata": {
        "id": "0yRheZ0saiz_",
        "colab_type": "code",
        "colab": {
          "base_uri": "https://localhost:8080/",
          "height": 1000
        },
        "outputId": "6233216a-bc89-4ce2-a1ea-12ca84c421d8"
      },
      "source": [
        "#let's look at the vocabulary word_name :word_id\n",
        "count_vectorizer.vocabulary_"
      ],
      "execution_count": 191,
      "outputs": [
        {
          "output_type": "execute_result",
          "data": {
            "text/plain": [
              "{'deeds': 1336,\n",
              " 'reason': 4236,\n",
              " 'earthquake': 1604,\n",
              " 'allah': 136,\n",
              " 'forgive': 2041,\n",
              " 'forest': 2037,\n",
              " 'near': 3501,\n",
              " 'la': 2885,\n",
              " 'canada': 758,\n",
              " 'residents': 4342,\n",
              " 'asked': 281,\n",
              " 'shelter': 4681,\n",
              " 'place': 3904,\n",
              " 'officers': 3639,\n",
              " 'evacuation': 1757,\n",
              " 'orders': 3701,\n",
              " 'expected': 1799,\n",
              " 'people': 3827,\n",
              " 'receive': 4241,\n",
              " 'wildfires': 5798,\n",
              " 'california': 738,\n",
              " 'just': 2798,\n",
              " 'got': 2219,\n",
              " 'sent': 4624,\n",
              " 'photo': 3862,\n",
              " 'alaska': 124,\n",
              " 'smoke': 4812,\n",
              " 'school': 4563,\n",
              " 'rockyfire': 4438,\n",
              " 'update': 5546,\n",
              " 'hwy': 2533,\n",
              " 'closed': 985,\n",
              " 'lake': 2895,\n",
              " 'county': 1165,\n",
              " 'cafire': 728,\n",
              " 'flood': 2001,\n",
              " 'disaster': 1461,\n",
              " 'heavy': 2397,\n",
              " 'rain': 4173,\n",
              " 'causes': 824,\n",
              " 'flash': 1989,\n",
              " 'flooding': 2003,\n",
              " 'streets': 5011,\n",
              " 'colorado': 1034,\n",
              " 'springs': 4924,\n",
              " 'areas': 241,\n",
              " 'im': 2570,\n",
              " 'hill': 2435,\n",
              " 'woods': 5845,\n",
              " 'theres': 5255,\n",
              " 'emergency': 1670,\n",
              " 'happening': 2337,\n",
              " 'building': 686,\n",
              " 'street': 5010,\n",
              " 'afraid': 90,\n",
              " 'tornado': 5354,\n",
              " 'coming': 1044,\n",
              " 'area': 240,\n",
              " 'died': 1436,\n",
              " 'heat': 2394,\n",
              " 'wave': 5723,\n",
              " 'far': 1873,\n",
              " 'haha': 2310,\n",
              " 'south': 4873,\n",
              " 'tampa': 5158,\n",
              " 'getting': 2169,\n",
              " 'flooded': 2002,\n",
              " 'hah': 2309,\n",
              " 'wait': 5672,\n",
              " 'second': 4595,\n",
              " 'live': 3038,\n",
              " 'gonna': 2211,\n",
              " 'raining': 4177,\n",
              " 'florida': 2006,\n",
              " 'days': 1305,\n",
              " 'ive': 2717,\n",
              " 'lost': 3102,\n",
              " 'count': 1159,\n",
              " 'myanmar': 3464,\n",
              " 'arrived': 257,\n",
              " 'damage': 1272,\n",
              " 'bus': 707,\n",
              " 'multi': 3438,\n",
              " 'car': 781,\n",
              " 'crash': 1191,\n",
              " 'breaking': 628,\n",
              " 'whats': 5774,\n",
              " 'man': 3165,\n",
              " 'love': 3109,\n",
              " 'fruits': 2093,\n",
              " 'summer': 5066,\n",
              " 'lovely': 3112,\n",
              " 'fast': 1880,\n",
              " 'ridiculous': 4397,\n",
              " 'london': 3071,\n",
              " 'cool': 1130,\n",
              " 'wonderful': 5841,\n",
              " 'day': 1304,\n",
              " 'eat': 1613,\n",
              " 'shit': 4692,\n",
              " 'nyc': 3610,\n",
              " 'week': 5752,\n",
              " 'girlfriend': 2177,\n",
              " 'like': 3010,\n",
              " 'pasta': 3792,\n",
              " 'end': 1685,\n",
              " 'wholesale': 5786,\n",
              " 'markets': 3194,\n",
              " 'ablaze': 11,\n",
              " 'try': 5452,\n",
              " 'bring': 644,\n",
              " 'metal': 3279,\n",
              " 'rt': 4472,\n",
              " 'flag': 1985,\n",
              " 'set': 4639,\n",
              " 'aba': 1,\n",
              " 'crying': 1231,\n",
              " 'plus': 3941,\n",
              " 'look': 3081,\n",
              " 'sky': 4781,\n",
              " 'night': 3550,\n",
              " 'mufc': 3435,\n",
              " 'theyve': 5260,\n",
              " 'built': 689,\n",
              " 'hype': 2536,\n",
              " 'new': 3523,\n",
              " 'acquisitions': 42,\n",
              " 'doubt': 1520,\n",
              " 'season': 4591,\n",
              " 'inec': 2611,\n",
              " 'office': 3637,\n",
              " 'abia': 9,\n",
              " 'jamaica': 2727,\n",
              " 'ûò': 5980,\n",
              " 'cars': 799,\n",
              " 'santa': 4531,\n",
              " 'cruz': 1230,\n",
              " 'ûó': 5981,\n",
              " 'head': 2373,\n",
              " 'st': 4933,\n",
              " 'elizabeth': 1661,\n",
              " 'police': 3954,\n",
              " 'lord': 3091,\n",
              " 'check': 890,\n",
              " 'nsfw': 3591,\n",
              " 'outside': 3726,\n",
              " 'youre': 5936,\n",
              " 'dead': 1309,\n",
              " 'inside': 2634,\n",
              " 'awesome': 357,\n",
              " 'time': 5312,\n",
              " 'cfc': 853,\n",
              " 'site': 4761,\n",
              " 'thanks': 5240,\n",
              " 'vida': 5624,\n",
              " 'taking': 5149,\n",
              " 'care': 784,\n",
              " 'soooo': 4856,\n",
              " 'wanted': 5689,\n",
              " 'chicago': 905,\n",
              " 'hotel': 2499,\n",
              " 'gained': 2121,\n",
              " 'followers': 2020,\n",
              " 'know': 2864,\n",
              " 'stats': 4965,\n",
              " 'grow': 2268,\n",
              " 'west': 5764,\n",
              " 'burned': 702,\n",
              " 'thousands': 5277,\n",
              " 'perfect': 3831,\n",
              " 'life': 2998,\n",
              " 'leave': 2953,\n",
              " 'quite': 4153,\n",
              " 'weird': 5758,\n",
              " 'better': 482,\n",
              " 'used': 5565,\n",
              " 'wear': 5740,\n",
              " 'single': 4747,\n",
              " 'year': 5917,\n",
              " 'deputies': 1378,\n",
              " 'shot': 4704,\n",
              " 'brighton': 643,\n",
              " 'home': 2467,\n",
              " 'wife': 5795,\n",
              " 'years': 5918,\n",
              " 'jail': 2724,\n",
              " 'setting': 4642,\n",
              " 'niece': 3545,\n",
              " 'salmon': 4515,\n",
              " 'arsonist': 262,\n",
              " 'black': 522,\n",
              " 'church': 938,\n",
              " 'north': 3569,\n",
              " 'happy': 2341,\n",
              " 'training': 5386,\n",
              " 'hard': 2344,\n",
              " 'later': 2919,\n",
              " 'offices': 3640,\n",
              " 'truck': 5441,\n",
              " 'ave': 343,\n",
              " 'cargo': 790,\n",
              " 'section': 4599,\n",
              " 'hearts': 2392,\n",
              " 'city': 949,\n",
              " 'gift': 2174,\n",
              " 'skyline': 4782,\n",
              " 'kiss': 2849,\n",
              " 'tonight': 5342,\n",
              " 'los': 3094,\n",
              " 'angeles': 173,\n",
              " 'expecting': 1800,\n",
              " 'ig': 2558,\n",
              " 'fb': 1899,\n",
              " 'filled': 1950,\n",
              " 'sunset': 5076,\n",
              " 'shots': 4705,\n",
              " 'peeps': 3821,\n",
              " 'climate': 979,\n",
              " 'energy': 1694,\n",
              " 'videos': 5626,\n",
              " 'means': 3229,\n",
              " 'mac': 3136,\n",
              " 'en': 1680,\n",
              " 'route': 4461,\n",
              " 'dvd': 1589,\n",
              " 'month': 3390,\n",
              " 'students': 5039,\n",
              " 'torch': 5352,\n",
              " 'rene': 4311,\n",
              " 'amp': 163,\n",
              " 'secret': 4597,\n",
              " 'fallen': 1859,\n",
              " 'skies': 4774,\n",
              " 'edit': 1627,\n",
              " 'steve': 4979,\n",
              " 'fires': 1972,\n",
              " 'hood': 2478,\n",
              " 'nowplaying': 3587,\n",
              " 'ian': 2539,\n",
              " 'edm': 1631,\n",
              " 'huge': 2511,\n",
              " 'does': 1498,\n",
              " 'talk': 5153,\n",
              " 'dont': 1510,\n",
              " 'make': 3154,\n",
              " 'work': 5849,\n",
              " 'kids': 2830,\n",
              " 'cuz': 1257,\n",
              " 'bicycle': 489,\n",
              " 'accident': 27,\n",
              " 'split': 4912,\n",
              " 'impossible': 2584,\n",
              " 'michael': 3293,\n",
              " 'father': 1889,\n",
              " 'traffic': 5379,\n",
              " 'moving': 3423,\n",
              " 'slower': 4798,\n",
              " 'usual': 5574,\n",
              " 'center': 843,\n",
              " 'lane': 2905,\n",
              " 'blocked': 547,\n",
              " 'nb': 3494,\n",
              " 'great': 2244,\n",
              " 'america': 157,\n",
              " 'pkwy': 3903,\n",
              " 'read': 4219,\n",
              " 'advice': 77,\n",
              " 'solicitor': 4841,\n",
              " 'help': 2407,\n",
              " 'teen': 5201,\n",
              " 'accidents': 29,\n",
              " 'tee': 5200,\n",
              " 'reported': 4325,\n",
              " 'motor': 3406,\n",
              " 'vehicle': 5602,\n",
              " 'rd': 4210,\n",
              " 'involving': 2679,\n",
              " 'use': 5564,\n",
              " 'awareness': 355,\n",
              " 'mile': 3312,\n",
              " 'marker': 3190,\n",
              " 'mooresville': 3394,\n",
              " 'iredell': 2689,\n",
              " 'pm': 3942,\n",
              " 'sleeping': 4789,\n",
              " 'double': 1518,\n",
              " 'risk': 4416,\n",
              " 'knew': 2858,\n",
              " 'gon': 2209,\n",
              " 'happen': 2335,\n",
              " 'av': 340,\n",
              " 'scene': 4558,\n",
              " 'owner': 3735,\n",
              " 'range': 4186,\n",
              " 'rover': 4463,\n",
              " 'mom': 3376,\n",
              " 'didnt': 1434,\n",
              " 'horrible': 2486,\n",
              " 'past': 3791,\n",
              " 'sunday': 5071,\n",
              " 'finally': 1953,\n",
              " 'able': 12,\n",
              " 'thank': 5237,\n",
              " 'god': 2200,\n",
              " 'pissed': 3894,\n",
              " 'tell': 5205,\n",
              " 'interstate': 2663,\n",
              " 'click': 975,\n",
              " 'youve': 5939,\n",
              " 'sb': 4550,\n",
              " 'sr': 4931,\n",
              " 'motorcyclist': 3409,\n",
              " 'dies': 1438,\n",
              " 'crossed': 1223,\n",
              " 'motorcycle': 3408,\n",
              " 'rider': 4394,\n",
              " 'traveling': 5403,\n",
              " 'fyi': 2116,\n",
              " 'cadfyi': 726,\n",
              " 'property': 4083,\n",
              " 'piner': 3889,\n",
              " 'rdhorndale': 4211,\n",
              " 'dr': 1530,\n",
              " 'turning': 5475,\n",
              " 'mma': 3361,\n",
              " 'rammed': 4183,\n",
              " 'turned': 5474,\n",
              " 'left': 2959,\n",
              " 'manchester': 3169,\n",
              " 'stop': 4991,\n",
              " 'delay': 1346,\n",
              " 'mins': 3338,\n",
              " 'injury': 2627,\n",
              " 'actress': 55,\n",
              " 'alberta': 126,\n",
              " 'backup': 367,\n",
              " 'blocking': 548,\n",
              " 'right': 4400,\n",
              " 'lanes': 2906,\n",
              " 'exit': 1794,\n",
              " 'nc': 3497,\n",
              " 'changed': 866,\n",
              " 'options': 3695,\n",
              " 'support': 5082,\n",
              " 'plans': 3917,\n",
              " 'treatment': 5409,\n",
              " 'deadly': 1311,\n",
              " 'happened': 2336,\n",
              " 'today': 5327,\n",
              " 'ill': 2567,\n",
              " 'details': 1409,\n",
              " 'fucking': 2099,\n",
              " 'mfs': 3289,\n",
              " 'drive': 1549,\n",
              " 'previously': 4041,\n",
              " 'road': 4423,\n",
              " 'killed': 2834,\n",
              " 'explosion': 1816,\n",
              " 'heard': 2387,\n",
              " 'leaders': 2940,\n",
              " 'kenya': 2818,\n",
              " 'forward': 2053,\n",
              " 'comment': 1046,\n",
              " 'issue': 2705,\n",
              " 'aftershockdelo': 96,\n",
              " 'scuf': 4583,\n",
              " 'ps': 4102,\n",
              " 'game': 2126,\n",
              " 'effort': 1638,\n",
              " 'gets': 2167,\n",
              " 'win': 5804,\n",
              " 'roger': 4439,\n",
              " 'ir': 2683,\n",
              " 'icemoon': 2543,\n",
              " 'aftershock': 95,\n",
              " 'djicemoon': 1486,\n",
              " 'dubstep': 1577,\n",
              " 'trapmusic': 5397,\n",
              " 'dnb': 1491,\n",
              " 'dance': 1280,\n",
              " 'ices': 2544,\n",
              " 'victory': 5622,\n",
              " 'bargain': 400,\n",
              " 'basement': 409,\n",
              " 'prices': 4045,\n",
              " 'david': 1301,\n",
              " 'came': 747,\n",
              " 'charles': 880,\n",
              " 'speaking': 4889,\n",
              " 'using': 5572,\n",
              " 'conflict': 1092,\n",
              " 'glorious': 2192,\n",
              " 'thomas': 5273,\n",
              " 'going': 2205,\n",
              " 'shooting': 4701,\n",
              " 'guess': 2283,\n",
              " 'actually': 58,\n",
              " 'wants': 5691,\n",
              " 'free': 2072,\n",
              " 'tc': 5178,\n",
              " 'terrifying': 5219,\n",
              " 'best': 475,\n",
              " 'roller': 4444,\n",
              " 'coaster': 1007,\n",
              " 'seeing': 4602,\n",
              " 'issues': 2707,\n",
              " 'minute': 3339,\n",
              " 'daily': 1267,\n",
              " 'habits': 2305,\n",
              " 'really': 4231,\n",
              " 'improve': 2587,\n",
              " 'protect': 4090,\n",
              " 'profit': 4068,\n",
              " 'global': 2189,\n",
              " 'financial': 1954,\n",
              " 'meltdown': 3254,\n",
              " 'moment': 3377,\n",
              " 'scary': 4557,\n",
              " 'guy': 2301,\n",
              " 'screaming': 4577,\n",
              " 'bloody': 553,\n",
              " 'murder': 3445,\n",
              " 'streaming': 5009,\n",
              " 'youtube': 5938,\n",
              " 'gtgt': 2277,\n",
              " 'book': 589,\n",
              " 'face': 1836,\n",
              " 'doing': 1502,\n",
              " 'wrong': 5891,\n",
              " 'joel': 2761,\n",
              " 'thing': 5263,\n",
              " 'stands': 4945,\n",
              " 'dream': 1538,\n",
              " 'belief': 459,\n",
              " 'possible': 3982,\n",
              " 'brown': 665,\n",
              " 'tells': 5207,\n",
              " 'remembering': 4303,\n",
              " 'die': 1435,\n",
              " 'way': 5726,\n",
              " 'avoid': 349,\n",
              " 'trap': 5396,\n",
              " 'thinking': 5266,\n",
              " 'lose': 3096,\n",
              " 'jobs': 2759,\n",
              " 'tried': 5424,\n",
              " 'orange': 3698,\n",
              " 'kick': 2825,\n",
              " 'want': 5688,\n",
              " 'making': 3158,\n",
              " 'say': 4547,\n",
              " 'george': 2161,\n",
              " 'shaw': 4672,\n",
              " 'shell': 4679,\n",
              " 'andrew': 169,\n",
              " 'need': 3506,\n",
              " 'play': 3923,\n",
              " 'hybrid': 2534,\n",
              " 'slayer': 4787,\n",
              " 'eu': 1748,\n",
              " 'hmu': 2450,\n",
              " 'experts': 1807,\n",
              " 'france': 2066,\n",
              " 'begin': 454,\n",
              " 'examining': 1775,\n",
              " 'airplane': 116,\n",
              " 'debris': 1320,\n",
              " 'reunion': 4373,\n",
              " 'island': 2700,\n",
              " 'french': 2078,\n",
              " 'air': 113,\n",
              " 'news': 3528,\n",
              " 'strict': 5018,\n",
              " 'liability': 2990,\n",
              " 'context': 1114,\n",
              " 'pilot': 3887,\n",
              " 'error': 1732,\n",
              " 'common': 1052,\n",
              " 'aviation': 348,\n",
              " 'cr': 1183,\n",
              " 'lifetime': 3001,\n",
              " 'odds': 3631,\n",
              " 'dying': 1592,\n",
              " 'wedn': 5747,\n",
              " 'awwww': 360,\n",
              " 'theyre': 5259,\n",
              " 'good': 2212,\n",
              " 'job': 2758,\n",
              " 'family': 1866,\n",
              " 'members': 3256,\n",
              " 'bin': 505,\n",
              " 'laden': 2891,\n",
              " 'ironic': 2692,\n",
              " 'gov': 2222,\n",
              " 'suspect': 5108,\n",
              " 'goes': 2203,\n",
              " 'engine': 1696,\n",
              " 'wings': 5813,\n",
              " 'mexico': 3287,\n",
              " 'july': 2792,\n",
              " 'men': 3263,\n",
              " 'including': 2592,\n",
              " 'state': 4961,\n",
              " 'government': 2223,\n",
              " 'official': 3641,\n",
              " 'wednesday': 5748,\n",
              " 'began': 452,\n",
              " 'kca': 2815,\n",
              " 'rip': 4411,\n",
              " 'coworker': 1181,\n",
              " 'mode': 3368,\n",
              " 'wreck': 5883,\n",
              " 'politics': 3958,\n",
              " 'mlb': 3360,\n",
              " 'airport': 117,\n",
              " 'aircraft': 114,\n",
              " 'runway': 4489,\n",
              " 'plane': 3912,\n",
              " 'festival': 1934,\n",
              " 'death': 1316,\n",
              " 'dtn': 1574,\n",
              " 'brazil': 623,\n",
              " 'exp': 1796,\n",
              " 'wtf': 5893,\n",
              " 'ûªt': 5968,\n",
              " 'believe': 461,\n",
              " 'eyes': 1832,\n",
              " 'victim': 5620,\n",
              " 'crashed': 1192,\n",
              " 'times': 5315,\n",
              " 'ago': 103,\n",
              " 'little': 3037,\n",
              " 'bit': 514,\n",
              " 'trauma': 5400,\n",
              " 'shes': 4684,\n",
              " 'omg': 3668,\n",
              " 'phone': 3860,\n",
              " 'looks': 3084,\n",
              " 'ship': 4686,\n",
              " 'terrible': 5218,\n",
              " 'cop': 1133,\n",
              " 'crashes': 1193,\n",
              " 'house': 2503,\n",
              " 'drone': 1556,\n",
              " 'cause': 822,\n",
              " 'pilots': 3888,\n",
              " 'worried': 5863,\n",
              " 'drones': 1557,\n",
              " 'esp': 1739,\n",
              " 'close': 984,\n",
              " 'vicinity': 5619,\n",
              " 'early': 1597,\n",
              " 'wake': 5675,\n",
              " 'sister': 4758,\n",
              " 'begging': 453,\n",
              " 'come': 1041,\n",
              " 'ride': 4393,\n",
              " 'ambulance': 155,\n",
              " 'hospital': 2492,\n",
              " 'feared': 1903,\n",
              " 'pakistani': 3751,\n",
              " 'helicopter': 2401,\n",
              " 'ambulances': 156,\n",
              " 'reuters': 4374,\n",
              " 'yugvani': 5943,\n",
              " 'leading': 2942,\n",
              " 'services': 4638,\n",
              " 'boss': 598,\n",
              " 'charity': 879,\n",
              " 'travelling': 5404,\n",
              " 'incident': 2590,\n",
              " 'halt': 2322,\n",
              " 'sprinter': 4925,\n",
              " 'automatic': 337,\n",
              " 'frontline': 2088,\n",
              " 'choice': 922,\n",
              " 'lez': 2987,\n",
              " 'compliant': 1069,\n",
              " 'ebay': 1617,\n",
              " 'device': 1421,\n",
              " 'target': 5164,\n",
              " 'destroy': 1402,\n",
              " 'blood': 552,\n",
              " 'hella': 2404,\n",
              " 'crazy': 1196,\n",
              " 'fights': 1946,\n",
              " 'couple': 1167,\n",
              " 'pits': 3898,\n",
              " 'run': 4485,\n",
              " 'lucky': 3127,\n",
              " 'tilnow': 5311,\n",
              " 'waiting': 5673,\n",
              " 'fouseytube': 2058,\n",
              " 'ok': 3652,\n",
              " 'hahahah': 2313,\n",
              " 'pakistan': 3750,\n",
              " 'kills': 2839,\n",
              " 'medical': 3239,\n",
              " 'assistance': 289,\n",
              " 'ny': 3609,\n",
              " 'petition': 3848,\n",
              " 'hour': 2501,\n",
              " 'ûª': 5962,\n",
              " 'ems': 1678,\n",
              " 'parking': 3777,\n",
              " 'lot': 3103,\n",
              " 'said': 4508,\n",
              " 'johns': 2765,\n",
              " 'ltlt': 3123,\n",
              " 'dog': 1500,\n",
              " 'thinks': 5267,\n",
              " 'hes': 2419,\n",
              " 'responding': 4350,\n",
              " 'dual': 1575,\n",
              " 'sirens': 4755,\n",
              " 'worldnews': 5859,\n",
              " 'number': 3599,\n",
              " 'body': 576,\n",
              " 'surprised': 5096,\n",
              " 'practice': 4001,\n",
              " 'nhs': 3538,\n",
              " 'trust': 5448,\n",
              " 'passing': 3789,\n",
              " 'hate': 2361,\n",
              " 'episode': 1723,\n",
              " 'annihilated': 184,\n",
              " 'showed': 4713,\n",
              " 'nigga': 3548,\n",
              " 'mercy': 3271,\n",
              " 'shall': 4658,\n",
              " 'laid': 2894,\n",
              " 'bare': 398,\n",
              " 'uribe': 5559,\n",
              " 'baseball': 407,\n",
              " 'mets': 3286,\n",
              " 'previous': 4040,\n",
              " 'meeting': 3248,\n",
              " 'seasons': 4592,\n",
              " 'ended': 1687,\n",
              " 'career': 786,\n",
              " 'compete': 1063,\n",
              " 'status': 4966,\n",
              " 'education': 1633,\n",
              " 'behalf': 458,\n",
              " 'easy': 1612,\n",
              " 'luka': 3129,\n",
              " 'alois': 147,\n",
              " 'trancy': 5389,\n",
              " 'fella': 1923,\n",
              " 'sorry': 4860,\n",
              " 'wont': 5843,\n",
              " 'pulls': 4116,\n",
              " 'drunk': 1569,\n",
              " 'driver': 1551,\n",
              " 'safety': 4507,\n",
              " 'seconds': 4596,\n",
              " 'hit': 2446,\n",
              " 'train': 5385,\n",
              " 'viralspell': 5641,\n",
              " 'boom': 592,\n",
              " 'country': 1163,\n",
              " 'britain': 648,\n",
              " 'israel': 2703,\n",
              " 'butthe': 716,\n",
              " 'horror': 2488,\n",
              " 'iran': 2684,\n",
              " 'thats': 5242,\n",
              " 'weve': 5768,\n",
              " 'spent': 4904,\n",
              " 'history': 2445,\n",
              " 'instantly': 2642,\n",
              " 'aware': 354,\n",
              " 'ability': 10,\n",
              " 'humanity': 2516,\n",
              " 'tryouts': 5455,\n",
              " 'went': 5762,\n",
              " 'fact': 1843,\n",
              " 'stopped': 4992,\n",
              " 'quickly': 4152,\n",
              " 'short': 4703,\n",
              " 'ball': 380,\n",
              " 'arabian': 237,\n",
              " 'hunters': 2525,\n",
              " 'ready': 4223,\n",
              " 'nights': 3552,\n",
              " 'weather': 5742,\n",
              " 'thought': 5274,\n",
              " 'forecast': 2035,\n",
              " 'feat': 1906,\n",
              " 'seen': 4605,\n",
              " 'rob': 4426,\n",
              " 'scorpions': 4571,\n",
              " 'gig': 2175,\n",
              " 'officially': 3642,\n",
              " 'skipping': 4779,\n",
              " 'hashtag': 2356,\n",
              " 'reviews': 4380,\n",
              " 'bummer': 695,\n",
              " 'tomcatarts': 5338,\n",
              " 'case': 803,\n",
              " 'survivor': 5106,\n",
              " 'completely': 1067,\n",
              " 'paul': 3805,\n",
              " 'alive': 135,\n",
              " 'legion': 2965,\n",
              " 'survivors': 5107,\n",
              " 'imperfect': 2581,\n",
              " 'project': 4072,\n",
              " 'formed': 2047,\n",
              " 'cell': 840,\n",
              " 'exactly': 1773,\n",
              " 'match': 3208,\n",
              " 'brock': 656,\n",
              " 'whos': 5789,\n",
              " 'syrian': 5137,\n",
              " 'army': 252,\n",
              " 'gang': 2131,\n",
              " 'pile': 3882,\n",
              " 'wasnt': 5711,\n",
              " 'food': 2023,\n",
              " 'bc': 433,\n",
              " 'fun': 2105,\n",
              " 'bar': 395,\n",
              " 'apart': 206,\n",
              " 'hell': 2403,\n",
              " 'fraction': 2064,\n",
              " 'total': 5359,\n",
              " 'annihilation': 185,\n",
              " 'destruction': 1407,\n",
              " 'usa': 5561,\n",
              " 'potus': 3992,\n",
              " 'maybe': 3220,\n",
              " 'pres': 4027,\n",
              " 'sold': 4838,\n",
              " 'river': 4418,\n",
              " 'civilization': 955,\n",
              " 'national': 3483,\n",
              " 'park': 3775,\n",
              " 'tonto': 5345,\n",
              " 'salt': 4516,\n",
              " 'wild': 5796,\n",
              " 'horse': 2490,\n",
              " 'change': 865,\n",
              " 'world': 5857,\n",
              " 'vs': 5666,\n",
              " 'self': 4609,\n",
              " 'transformation': 5391,\n",
              " 'aliens': 134,\n",
              " 'attack': 303,\n",
              " 'exterminate': 1825,\n",
              " 'humans': 2517,\n",
              " 'sign': 4729,\n",
              " 'share': 4665,\n",
              " 'save': 4542,\n",
              " 'horses': 2491,\n",
              " 'arizona': 246,\n",
              " 'org': 3703,\n",
              " 'thx': 5298,\n",
              " 'souls': 4865,\n",
              " 'punished': 4122,\n",
              " 'mention': 3267,\n",
              " 'major': 3152,\n",
              " 'dieplease': 1437,\n",
              " 'petitiontake': 3849,\n",
              " 'stand': 4941,\n",
              " 'voice': 5655,\n",
              " 'reject': 4286,\n",
              " 'laws': 2933,\n",
              " 'false': 1862,\n",
              " 'nations': 3484,\n",
              " 'fueling': 2101,\n",
              " 'jeb': 2744,\n",
              " 'christie': 934,\n",
              " 'hours': 2502,\n",
              " 'allow': 142,\n",
              " 'hey': 2420,\n",
              " 'wildhorses': 5799,\n",
              " 'order': 3699,\n",
              " 'current': 1246,\n",
              " 'tied': 5307,\n",
              " 'books': 591,\n",
              " 'dante': 1288,\n",
              " 'join': 2767,\n",
              " 'following': 2021,\n",
              " 'zone': 5955,\n",
              " 'johnny': 2764,\n",
              " 'fight': 1943,\n",
              " 'taylor': 5175,\n",
              " 'soon': 4854,\n",
              " 'ohh': 3649,\n",
              " 'survive': 5104,\n",
              " 'apocalypse': 211,\n",
              " 'feels': 1918,\n",
              " 'poor': 3965,\n",
              " 'boy': 613,\n",
              " 'child': 911,\n",
              " 'birthday': 513,\n",
              " 'watch': 5713,\n",
              " 'charlie': 881,\n",
              " 'film': 1951,\n",
              " 'august': 321,\n",
              " 'heres': 2412,\n",
              " 'red': 4257,\n",
              " 'zombie': 5954,\n",
              " 'feel': 1914,\n",
              " 'kinda': 2841,\n",
              " 'hot': 2498,\n",
              " 'played': 3924,\n",
              " 'radio': 4163,\n",
              " 'disease': 1469,\n",
              " 'started': 4954,\n",
              " 'careful': 788,\n",
              " 'lol': 3068,\n",
              " 'gf': 2170,\n",
              " 'question': 4148,\n",
              " 'called': 740,\n",
              " 'julie': 2790,\n",
              " 'version': 5609,\n",
              " 'minecraft': 3326,\n",
              " 'block': 546,\n",
              " 'mod': 3367,\n",
              " 'bob': 573,\n",
              " 'wither': 5825,\n",
              " 'showcase': 4712,\n",
              " 'popularmmos': 3972,\n",
              " 'vi': 5617,\n",
              " 'begins': 457,\n",
              " 'snow': 4823,\n",
              " 'readingapocalypse': 4221,\n",
              " 'spirit': 4910,\n",
              " 'angel': 172,\n",
              " 'took': 5346,\n",
              " 'enormous': 1706,\n",
              " 'high': 2425,\n",
              " 'mountain': 3412,\n",
              " 'imagine': 2574,\n",
              " 'fighting': 1945,\n",
              " 'heart': 2389,\n",
              " 'conversations': 1127,\n",
              " 'liked': 3011,\n",
              " 'video': 5625,\n",
              " 'mo': 3364,\n",
              " 'planet': 3914,\n",
              " 'lone': 3073,\n",
              " 'audience': 318,\n",
              " 'dad': 1265,\n",
              " 'bought': 602,\n",
              " 'science': 4566,\n",
              " 'doc': 1492,\n",
              " 'impending': 2580,\n",
              " 'comes': 1043,\n",
              " 'peak': 3817,\n",
              " 'beginning': 456,\n",
              " 'dystopian': 1593,\n",
              " 'movie': 3421,\n",
              " 'scared': 4553,\n",
              " 'storm': 4997,\n",
              " 'cairo': 731,\n",
              " 'latest': 2920,\n",
              " 'xv': 5904,\n",
              " 'totally': 5361,\n",
              " 'bad': 370,\n",
              " 'gmt': 2195,\n",
              " 'plays': 3930,\n",
              " 'dark': 1290,\n",
              " 'reveals': 4377,\n",
              " 'queen': 4145,\n",
              " 'shadow': 4654,\n",
              " 'boxing': 612,\n",
              " 'enjoyed': 1704,\n",
              " 'titan': 5321,\n",
              " 'posters': 3987,\n",
              " 'clean': 966,\n",
              " 'pbban': 3810,\n",
              " 'armageddon': 248,\n",
              " 'kill': 2833,\n",
              " 'flags': 1986,\n",
              " 'xp': 5903,\n",
              " 'vid': 5623,\n",
              " 'doublecups': 1519,\n",
              " 'trubgme': 5440,\n",
              " 'prod': 4063,\n",
              " 'thisizbwright': 5271,\n",
              " 'ouvindo': 3728,\n",
              " 'peace': 3814,\n",
              " 'bed': 446,\n",
              " 'unless': 5534,\n",
              " 'revolution': 4382,\n",
              " 'start': 4953,\n",
              " 'microsoft': 3299,\n",
              " 'xbox': 5900,\n",
              " 'series': 4630,\n",
              " 'truelove': 5444,\n",
              " 'romance': 4447,\n",
              " 'lith': 3036,\n",
              " 'voodoo': 5661,\n",
              " 'seduction': 4601,\n",
              " 'astrology': 294,\n",
              " 'rtrrt': 4474,\n",
              " 'lotz': 3105,\n",
              " 'beat': 440,\n",
              " 'ben': 469,\n",
              " 'girls': 2178,\n",
              " 'loved': 3110,\n",
              " 'id': 2547,\n",
              " 'long': 3076,\n",
              " 'coat': 1008,\n",
              " 'hand': 2327,\n",
              " 'worn': 5862,\n",
              " 'bears': 439,\n",
              " 'sense': 4621,\n",
              " 'occasion': 3625,\n",
              " 'hidden': 2422,\n",
              " 'door': 1511,\n",
              " 'data': 1295,\n",
              " 'mining': 3332,\n",
              " 'software': 4836,\n",
              " 'blog': 550,\n",
              " 'sketch': 4773,\n",
              " 'did': 1433,\n",
              " 'based': 408,\n",
              " 'taste': 5169,\n",
              " 'luck': 3126,\n",
              " 'tomorrow': 5339,\n",
              " 'points': 3951,\n",
              " 'rohnertparkdps': 4441,\n",
              " 'justice': 2799,\n",
              " 'department': 1374,\n",
              " 'havent': 2366,\n",
              " 'paid': 3743,\n",
              " 'income': 2593,\n",
              " 'tax': 5173,\n",
              " 'vladimir': 5652,\n",
              " 'putin': 4134,\n",
              " 'warning': 5700,\n",
              " 'late': 2917,\n",
              " 'escape': 1735,\n",
              " 'gods': 2201,\n",
              " 'kingdom': 2846,\n",
              " 'heavenly': 2396,\n",
              " 'govt': 2226,\n",
              " 'rule': 4483,\n",
              " 'earth': 1603,\n",
              " 'entertainment': 1712,\n",
              " 'movies': 3422,\n",
              " 'monkeys': 3385,\n",
              " 'sixth': 4768,\n",
              " 'auction': 316,\n",
              " 'let': 2978,\n",
              " 'ûªs': 5967,\n",
              " 'stage': 4939,\n",
              " 'gaining': 2122,\n",
              " 'prepared': 4022,\n",
              " 'toddler': 5330,\n",
              " 'library': 2993,\n",
              " 'collection': 1024,\n",
              " 'cd': 834,\n",
              " 'survival': 5103,\n",
              " 'prepper': 4026,\n",
              " 'yesterday': 5924,\n",
              " 'saw': 4546,\n",
              " 'hail': 2315,\n",
              " 'think': 5265,\n",
              " 'sadly': 4503,\n",
              " 'windows': 5807,\n",
              " 'microsofts': 3300,\n",
              " 'averted': 347,\n",
              " 'el': 1645,\n",
              " 'blueprint': 564,\n",
              " 'extremely': 1830,\n",
              " 'impressive': 2586,\n",
              " 'european': 1751,\n",
              " 'till': 5310,\n",
              " 'christmas': 935,\n",
              " 'christians': 933,\n",
              " 'united': 5528,\n",
              " 'gt': 2274,\n",
              " 'comedy': 1042,\n",
              " 'working': 5853,\n",
              " 'class': 962,\n",
              " 'prepare': 4021,\n",
              " 'charts': 883,\n",
              " 'crisis': 1217,\n",
              " 'economic': 1620,\n",
              " 'collapse': 1021,\n",
              " 'tracks': 5376,\n",
              " 'roberts': 4428,\n",
              " 'russia': 4491,\n",
              " 'lights': 3009,\n",
              " 'isnt': 2702,\n",
              " 'funny': 2109,\n",
              " 'staff': 4938,\n",
              " 'gtgtgt': 2278,\n",
              " 'fingers': 1960,\n",
              " 'eh': 1644,\n",
              " 'beyonce': 486,\n",
              " 'pick': 3871,\n",
              " 'fan': 1869,\n",
              " 'beyhive': 485,\n",
              " 'direction': 1451,\n",
              " ...}"
            ]
          },
          "metadata": {
            "tags": []
          },
          "execution_count": 191
        }
      ]
    },
    {
      "cell_type": "code",
      "metadata": {
        "id": "8Krgx9j3a2DN",
        "colab_type": "code",
        "colab": {
          "base_uri": "https://localhost:8080/",
          "height": 72
        },
        "outputId": "9f607dab-029c-4f6f-9403-9d2687cfc546"
      },
      "source": [
        "#now let's check which are our features and how many of them there are\n",
        "print(count_vectorizer.get_feature_names())\n",
        "len(count_vectorizer.get_feature_names())"
      ],
      "execution_count": 192,
      "outputs": [
        {
          "output_type": "stream",
          "text": [
            "['aa', 'aba', 'abandon', 'abandoned', 'abbott', 'abbswinston', 'abc', 'abcnews', 'abe', 'abia', 'ability', 'ablaze', 'able', 'abomb', 'abomination', 'abortion', 'absolute', 'absolutely', 'abstorm', 'abuse', 'abused', 'abuseddesolateamplost', 'abusing', 'ac', 'acc', 'accept', 'access', 'accident', 'accidentally', 'accidents', 'accionempresa', 'according', 'account', 'accounts', 'accused', 'accuses', 'accustomed', 'acdelco', 'achimota', 'acid', 'acoustic', 'acquire', 'acquisitions', 'acres', 'act', 'acted', 'acting', 'action', 'actions', 'activated', 'activates', 'active', 'activities', 'activity', 'actor', 'actress', 'acts', 'actual', 'actually', 'acute', 'ad', 'adam', 'add', 'added', 'adding', 'addition', 'address', 'admin', 'administration', 'admit', 'admits', 'adult', 'adults', 'advance', 'advanced', 'adventures', 'advertised', 'advice', 'advised', 'advisory', 'af', 'afc', 'affect', 'affected', 'affecting', 'affects', 'affiliation', 'afghan', 'afghanistan', 'afp', 'afraid', 'africa', 'africans', 'afterlife', 'afternoon', 'aftershock', 'aftershockdelo', 'ag', 'age', 'agency', 'agents', 'ages', 'aggressive', 'ago', 'agree', 'agreed', 'agrees', 'ah', 'ahead', 'ahh', 'aid', 'aim', 'aint', 'air', 'aircraft', 'airlines', 'airplane', 'airport', 'ak', 'aka', 'al', 'alabama', 'alarm', 'alarms', 'alaska', 'albany', 'alberta', 'album', 'alcohol', 'alert', 'alerts', 'alex', 'alexbelloli', 'alien', 'aliens', 'alive', 'allah', 'allegations', 'alleged', 'allegiance', 'allies', 'alllivesmatter', 'allow', 'allowed', 'allows', 'alloy', 'ally', 'alois', 'alot', 'alps', 'alright', 'alternatives', 'amageddon', 'amazing', 'amazon', 'ambulance', 'ambulances', 'america', 'american', 'americans', 'americas', 'amid', 'amirite', 'amp', 'amsterdam', 'analysis', 'anchorage', 'ancient', 'andor', 'andrew', 'andy', 'anellatulip', 'angel', 'angeles', 'angels', 'anger', 'angry', 'ani', 'animal', 'animalrescue', 'animals', 'aniston', 'ankle', 'anna', 'annihilated', 'annihilation', 'anniversary', 'announced', 'announcement', 'announces', 'annoying', 'annual', 'answer', 'answers', 'anthrax', 'anti', 'antioch', 'antonio', 'anxiety', 'anxious', 'anybody', 'anymore', 'anyways', 'anza', 'aoms', 'ap', 'apart', 'apartment', 'apartments', 'apc', 'apch', 'apocalypse', 'apocalyptic', 'apollo', 'apollobrown', 'app', 'apparent', 'apparently', 'appears', 'applaud', 'apple', 'applications', 'applies', 'apply', 'appointment', 'appreciate', 'appreciated', 'approach', 'approaches', 'approaching', 'approval', 'approves', 'april', 'apt', 'aquarium', 'ar', 'arabia', 'arabian', 'architect', 'architecture', 'area', 'areas', 'arent', 'argument', 'ariaahrary', 'arianagrande', 'arizona', 'arm', 'armageddon', 'armed', 'armory', 'arms', 'army', 'arnhem', 'arrest', 'arrested', 'arrive', 'arrived', 'arriving', 'ars', 'arsenal', 'arson', 'arsonist', 'arsonistmusic', 'art', 'article', 'articles', 'artificial', 'artist', 'artistsunited', 'arts', 'arwx', 'asap', 'asf', 'ash', 'ashes', 'asia', 'asian', 'asics', 'ask', 'askcharley', 'asked', 'asking', 'asks', 'asleep', 'ass', 'assembly', 'asshole', 'assholes', 'assistance', 'assistant', 'assisting', 'associated', 'association', 'astrology', 'asylum', 'athlete', 'atlanta', 'atlantic', 'atm', 'atmosphere', 'atmospheric', 'atomic', 'attack', 'attacked', 'attacking', 'attacks', 'attained', 'attempt', 'attempting', 'attendance', 'attention', 'attic', 'attitude', 'attraction', 'attractive', 'auction', 'auctions', 'audience', 'audio', 'aug', 'august', 'aunt', 'aussie', 'aussies', 'aust', 'austin', 'australia', 'australian', 'australias', 'auth', 'authentic', 'author', 'authorities', 'auto', 'autobiography', 'autoinsurance', 'automatic', 'automation', 'autumn', 'av', 'available', 'avalanche', 'ave', 'avengers', 'avenue', 'average', 'averted', 'aviation', 'avoid', 'avoided', 'avoiding', 'aw', 'awaits', 'aware', 'awareness', 'away', 'awesome', 'awful', 'awkward', 'awwww', 'ay', 'babies', 'baby', 'background', 'backpack', 'backs', 'backup', 'backyard', 'backyards', 'bad', 'badge', 'bag', 'bagging', 'bags', 'bail', 'bake', 'bakeofffriends', 'bal', 'balance', 'ball', 'balls', 'baltimore', 'ban', 'bancodeseries', 'band', 'bands', 'banerjee', 'bang', 'bangin', 'bangladesh', 'bank', 'bankstown', 'banned', 'banquet', 'bar', 'barack', 'barackobama', 'bare', 'barely', 'bargain', 'barn', 'barrier', 'barry', 'bars', 'baruch', 'base', 'baseball', 'based', 'basement', 'bashes', 'basic', 'basically', 'basis', 'bass', 'bat', 'batfanuk', 'bath', 'bathroom', 'battered', 'batteries', 'batters', 'battery', 'batting', 'battle', 'battlefield', 'battles', 'battleship', 'battling', 'bay', 'bayelsa', 'bbc', 'bbcnews', 'bc', 'beach', 'beam', 'bean', 'bear', 'beard', 'bears', 'beat', 'beats', 'beautiful', 'beauty', 'beckarnley', 'beclearoncancer', 'bed', 'bedroom', 'bee', 'beer', 'bees', 'beforeitsnews', 'began', 'begging', 'begin', 'beginners', 'beginning', 'begins', 'behalf', 'belief', 'beliefs', 'believe', 'believing', 'bell', 'bells', 'belly', 'belonged', 'belongs', 'belt', 'ben', 'bend', 'beneath', 'benefits', 'bengal', 'bernardino', 'best', 'bestnaijamade', 'bestseller', 'bet', 'bethlehem', 'betrayed', 'bets', 'better', 'betz', 'beware', 'beyhive', 'beyonce', 'bff', 'bicep', 'bicycle', 'bicycles', 'bicyclist', 'bid', 'bieber', 'big', 'bigamist', 'bigger', 'biggest', 'bike', 'biker', 'billboard', 'billings', 'billion', 'billneelynbc', 'bills', 'bin', 'bio', 'biological', 'bioterror', 'bioterrorism', 'birds', 'birmingham', 'birth', 'birthday', 'bit', 'bitch', 'bitches', 'bitcoin', 'bite', 'bites', 'bits', 'bjp', 'black', 'blackberry', 'blacklivesmatter', 'blackpool', 'blake', 'blame', 'blamed', 'blames', 'blanket', 'blast', 'blasts', 'blaze', 'blazing', 'bleeding', 'bless', 'blessed', 'blessings', 'blew', 'blight', 'blind', 'blizzard', 'blizzarddraco', 'blizzheroes', 'blk', 'block', 'blocked', 'blocking', 'blocks', 'blog', 'blonde', 'blood', 'bloody', 'bloomberg', 'blow', 'blowing', 'blowmandyup', 'blown', 'blowout', 'blows', 'blue', 'bluedio', 'bluejays', 'blueprint', 'blues', 'bluetooth', 'blunt', 'blvd', 'bmw', 'bn', 'board', 'boat', 'bob', 'bobcats', 'bodies', 'body', 'bodybagging', 'bodys', 'boeing', 'boise', 'boko', 'bomb', 'bombed', 'bomber', 'bombing', 'bombings', 'bombs', 'bones', 'book', 'bookboost', 'books', 'boom', 'boot', 'border', 'bore', 'bored', 'born', 'boss', 'boston', 'bother', 'bottle', 'bought', 'bound', 'boundaries', 'boundary', 'bounty', 'bout', 'bowl', 'bowling', 'box', 'boxer', 'boxing', 'boy', 'boyfriend', 'boys', 'bp', 'brady', 'brain', 'brakes', 'braking', 'brand', 'brave', 'brazil', 'brazilian', 'bread', 'break', 'breakfast', 'breaking', 'breakingnews', 'breaks', 'breathe', 'breathing', 'brewing', 'brian', 'brick', 'bride', 'bridge', 'bridges', 'brief', 'briefing', 'brigade', 'bright', 'brighton', 'bring', 'bringing', 'brings', 'brisk', 'britain', 'british', 'britishbakeoff', 'britney', 'britons', 'bro', 'broad', 'broadway', 'brock', 'broke', 'broken', 'bronx', 'brooke', 'brooklyn', 'brother', 'brothers', 'brought', 'brown', 'browser', 'bruh', 'bruise', 'brunette', 'brush', 'brutally', 'bs', 'bts', 'btw', 'btwn', 'bu', 'bubble', 'buckle', 'buddys', 'budget', 'buffalo', 'buffer', 'bug', 'bugs', 'build', 'building', 'buildings', 'builds', 'built', 'bullet', 'bulletin', 'bullets', 'bullseye', 'bully', 'bummer', 'bump', 'bunch', 'bundle', 'bundled', 'buried', 'burn', 'burned', 'burning', 'burns', 'burnt', 'burst', 'bus', 'buses', 'bush', 'business', 'businesses', 'busy', 'butt', 'butter', 'butterfinger', 'butthe', 'button', 'buy', 'buying', 'bypass', 'ca', 'cab', 'cabin', 'cable', 'cables', 'cadfyi', 'cafe', 'cafire', 'cage', 'cain', 'cairo', 'caitlin', 'cake', 'cakes', 'calamity', 'calgary', 'calif', 'california', 'californias', 'called', 'calling', 'calls', 'calm', 'calories', 'calumet', 'cam', 'came', 'cameo', 'camera', 'cameroon', 'camp', 'campaign', 'campfire', 'camping', 'camps', 'campus', 'canaanites', 'canada', 'canadas', 'cancel', 'cancelled', 'cancels', 'cancer', 'cancers', 'candle', 'candy', 'cannon', 'canoe', 'canvas', 'canyon', 'capacity', 'cape', 'capital', 'caps', 'capsized', 'capsizes', 'captain', 'capture', 'captured', 'captures', 'car', 'card', 'cards', 'care', 'cared', 'career', 'careers', 'careful', 'careless', 'cargo', 'caribbean', 'carlos', 'carpet', 'carr', 'carried', 'carry', 'carryi', 'carrying', 'cars', 'cart', 'cartoon', 'cas', 'case', 'cases', 'cash', 'casper', 'casperrmg', 'cast', 'castle', 'casual', 'casualties', 'casualty', 'cat', 'catastrophe', 'catastrophic', 'catch', 'catches', 'catching', 'catfish', 'cats', 'caught', 'cause', 'caused', 'causes', 'causing', 'caution', 'cave', 'cawx', 'cbc', 'cbcca', 'cbs', 'cbsbigbrother', 'cc', 'cd', 'cdc', 'cdcgov', 'cdt', 'cecilthelion', 'celebrations', 'cell', 'cement', 'census', 'center', 'centers', 'centipede', 'central', 'centre', 'ceo', 'certain', 'certainly', 'certificate', 'certified', 'cfc', 'chain', 'chair', 'chairman', 'chairs', 'challenge', 'challenged', 'challenges', 'championship', 'chan', 'chance', 'chances', 'change', 'changed', 'changes', 'changing', 'channel', 'channels', 'chaos', 'character', 'characters', 'charge', 'charged', 'charger', 'charges', 'charging', 'charity', 'charles', 'charlie', 'charlotte', 'charts', 'chase', 'chases', 'chat', 'chattanooga', 'cheap', 'cheat', 'check', 'checked', 'cheese', 'chelsea', 'chem', 'chemical', 'chernobyl', 'cherokee', 'cherry', 'chest', 'chesttorso', 'chevrolet', 'chevy', 'chewing', 'cheyenne', 'chicago', 'chicagoarea', 'chick', 'chicken', 'chief', 'chiefs', 'child', 'childhood', 'children', 'chile', 'chill', 'chilling', 'chills', 'china', 'chinas', 'chinese', 'chocolate', 'choice', 'choices', 'choking', 'chonce', 'choose', 'chose', 'chosen', 'chp', 'chris', 'christ', 'christian', 'christians', 'christie', 'christmas', 'chronicle', 'chunks', 'church', 'cia', 'cigarette', 'cindy', 'cinema', 'circle', 'circuit', 'circus', 'cites', 'cities', 'citizens', 'city', 'cityofcalgary', 'citys', 'civil', 'civilian', 'civilians', 'civilization', 'cjoyner', 'cladding', 'claim', 'claimed', 'claims', 'clash', 'class', 'classic', 'claytonbryant', 'cld', 'clean', 'cleanup', 'clear', 'cleared', 'clearedincident', 'clearly', 'cleric', 'cleveland', 'clever', 'click', 'client', 'cliff', 'cliffs', 'climate', 'climatechange', 'climb', 'clinton', 'clip', 'close', 'closed', 'closes', 'closest', 'closing', 'closures', 'clothes', 'cloud', 'clouds', 'club', 'clueless', 'clutch', 'cm', 'cmon', 'cnbc', 'cnewslive', 'cnn', 'cnnbrk', 'coach', 'coaches', 'coal', 'coast', 'coastal', 'coaster', 'coat', 'cobra', 'cocaine', 'cock', 'cockpit', 'cod', 'code', 'coffee', 'cofounder', 'coincide', 'col', 'cold', 'cole', 'collapse', 'collapsed', 'collapses', 'collection', 'collective', 'college', 'collide', 'collided', 'collins', 'collision', 'collisionno', 'colluded', 'color', 'colorado', 'colour', 'columbia', 'combat', 'combined', 'combo', 'combust', 'come', 'comedy', 'comes', 'coming', 'comingsoon', 'comment', 'comments', 'commerce', 'commercial', 'commit', 'committed', 'common', 'commonwealth', 'communication', 'communities', 'community', 'commute', 'como', 'comp', 'companies', 'company', 'comparison', 'compete', 'complaints', 'complete', 'completed', 'completely', 'complex', 'compliant', 'complications', 'compound', 'computer', 'computers', 'concept', 'concern', 'concerned', 'concerns', 'concert', 'concluded', 'conclusively', 'concrete', 'condemn', 'condition', 'conditions', 'condolence', 'condos', 'conference', 'confirm', 'confirmation', 'confirmed', 'confirms', 'conflict', 'congress', 'connector', 'connectorconnecto', 'conquest', 'consent', 'consequence', 'consequences', 'conservative', 'consider', 'considerelem', 'considering', 'console', 'constant', 'constantly', 'construction', 'cont', 'contact', 'contain', 'contained', 'contemplating', 'content', 'context', 'continually', 'continue', 'continued', 'continues', 'contract', 'contrast', 'contributing', 'control', 'controlled', 'controllers', 'contruction', 'conversation', 'conversations', 'cook', 'cooking', 'cool', 'cooler', 'cooper', 'cop', 'cope', 'copilot', 'coping', 'cops', 'copycat', 'copycats', 'coral', 'cord', 'core', 'corey', 'corleonedaboss', 'corners', 'corp', 'correct', 'correction', 'correspondent', 'cos', 'cosponsor', 'cost', 'costlier', 'costly', 'costs', 'cotton', 'couldve', 'counselor', 'count', 'counter', 'countless', 'countries', 'country', 'countrys', 'county', 'countynews', 'couple', 'couples', 'course', 'coursing', 'court', 'courts', 'cousin', 'cousins', 'cover', 'coverage', 'covered', 'covers', 'cow', 'cowboys', 'coworker', 'coyotes', 'cr', 'crack', 'crackdown', 'cracking', 'cracks', 'cramer', 'cranes', 'crap', 'crash', 'crashed', 'crashes', 'crashing', 'crater', 'crazy', 'cream', 'create', 'created', 'creates', 'creating', 'creativity', 'credit', 'cree', 'crematoria', 'crew', 'crews', 'cricket', 'crickets', 'cried', 'cries', 'crime', 'crimes', 'criminal', 'criminals', 'crippling', 'crisis', 'critical', 'croat', 'croatian', 'cross', 'crossborder', 'crossed', 'crosses', 'crowd', 'crude', 'crush', 'crushed', 'crusty', 'cruz', 'crying', 'cryptic', 'crystal', 'cs', 'csx', 'cta', 'cuban', 'cue', 'cum', 'cunts', 'cup', 'cupcake', 'curb', 'curfew', 'curiosity', 'current', 'currently', 'curved', 'cus', 'custer', 'custom', 'customers', 'customs', 'cut', 'cute', 'cutting', 'cuz', 'cyber', 'cycling', 'cyclist', 'cyclists', 'cyclone', 'cyprus', 'da', 'dad', 'daesh', 'daily', 'dailykos', 'dakota', 'dallas', 'dam', 'damage', 'damaged', 'damages', 'damaging', 'dambisa', 'dame', 'damn', 'dan', 'dance', 'dances', 'danger', 'dangerous', 'daniel', 'daniels', 'danisnotonfire', 'dannyonpc', 'dante', 'dare', 'dark', 'darkest', 'darkness', 'darude', 'dat', 'data', 'date', 'dates', 'dating', 'daughter', 'daughters', 'david', 'davidcameron', 'davidvonderhaar', 'day', 'days', 'daytoday', 'db', 'dc', 'dead', 'deadliest', 'deadly', 'deal', 'dealing', 'deals', 'dear', 'death', 'deaths', 'debate', 'debatequestionswewanttohear', 'debris', 'debt', 'decades', 'december', 'decent', 'decide', 'decided', 'decision', 'decisions', 'deck', 'declaration', 'declared', 'declares', 'declined', 'decor', 'dedicated', 'deeds', 'deep', 'def', 'defects', 'defend', 'defense', 'definitely', 'degree', 'degrees', 'del', 'delay', 'delayed', 'delays', 'delete', 'deliver', 'delivers', 'delta', 'deluge', 'deluged', 'dem', 'demand', 'demi', 'democracy', 'democrats', 'demolish', 'demolished', 'demolition', 'demon', 'demons', 'demonstratio', 'dems', 'denali', 'denial', 'denier', 'denmark', 'dental', 'denver', 'deny', 'department', 'dependency', 'dept', 'depth', 'deputies', 'deputy', 'derail', 'derailed', 'derailment', 'derails', 'derby', 'describes', 'describing', 'description', 'descriptions', 'desert', 'deserve', 'deserves', 'design', 'designed', 'designs', 'desire', 'desires', 'desk', 'desolate', 'desolation', 'despite', 'destiny', 'destroy', 'destroyed', 'destroyer', 'destroying', 'destroys', 'destruction', 'destructive', 'details', 'detained', 'detectado', 'detonate', 'detonated', 'detonation', 'detouring', 'detroit', 'devalue', 'devastated', 'devastation', 'develop', 'device', 'devil', 'dey', 'di', 'diablo', 'diageos', 'diamond', 'diamondkesawn', 'diamorfiend', 'diaporama', 'dick', 'dickheads', 'did', 'didnt', 'die', 'died', 'dieplease', 'dies', 'diesis', 'diet', 'diff', 'difference', 'different', 'difficult', 'digging', 'digital', 'digits', 'dignity', 'dijk', 'dinner', 'direction', 'directioners', 'director', 'directors', 'dirt', 'dis', 'disappear', 'disappearance', 'disappeared', 'disappoints', 'disaster', 'disasters', 'disco', 'discovered', 'discovery', 'discusses', 'discussion', 'disea', 'disease', 'disgusting', 'disney', 'disneys', 'displace', 'displaced', 'display', 'disruptive', 'disrupts', 'diss', 'distance', 'distinct', 'distributed', 'district', 'diverse', 'diving', 'dj', 'djicemoon', 'dk', 'dlh', 'dm', 'dmpl', 'dnb', 'doc', 'dock', 'doctor', 'doctors', 'document', 'documents', 'does', 'doesnt', 'dog', 'dogs', 'doing', 'dollar', 'dollars', 'dolphin', 'domestic', 'don', 'donald', 'donate', 'dont', 'door', 'doors', 'dope', 'dopey', 'dorman', 'dorret', 'dorrets', 'double', 'doublecups', 'doubt', 'douchebag', 'downfall', 'download', 'downpours', 'downstairs', 'downtown', 'dozen', 'dozens', 'dq', 'dr', 'drag', 'dragon', 'drake', 'drama', 'dramatic', 'draw', 'drawn', 'dream', 'dreaming', 'dreams', 'dress', 'dressed', 'drew', 'drifting', 'drill', 'drink', 'drinking', 'drinks', 'drive', 'driven', 'driver', 'drivers', 'drives', 'driving', 'droid', 'drone', 'drones', 'drop', 'dropped', 'dropping', 'drought', 'drove', 'drown', 'drowned', 'drowning', 'drug', 'drugs', 'drum', 'drunk', 'dry', 'dryer', 'ds', 'dt', 'dtn', 'dual', 'dublin', 'dubstep', 'duck', 'dude', 'dudes', 'dukes', 'dumb', 'dunbar', 'dundee', 'dust', 'dutch', 'duty', 'dvc', 'dvd', 'dw', 'dwarves', 'dying', 'dystopian', 'ear', 'earbuds', 'earlier', 'early', 'earned', 'earners', 'earnings', 'earrings', 'ears', 'earth', 'earthquake', 'earthquakes', 'earththus', 'easily', 'east', 'eastbound', 'eastern', 'eastward', 'easy', 'eat', 'eaten', 'eating', 'eb', 'ebay', 'ebike', 'ebola', 'economic', 'economies', 'economy', 'ed', 'eden', 'edge', 'edinburgh', 'edit', 'edition', 'editor', 'editorial', 'edm', 'edt', 'education', 'ee', 'efak', 'effect', 'effects', 'effort', 'efforts', 'egged', 'eggs', 'ego', 'egypt', 'eh', 'el', 'elbow', 'election', 'electric', 'electrical', 'electricity', 'electro', 'electrocute', 'electrocuted', 'electronic', 'elem', 'element', 'elephant', 'elevated', 'elijah', 'elite', 'elizabeth', 'elkhorn', 'elliott', 'elsa', 'em', 'email', 'emails', 'embroidered', 'emerg', 'emergency', 'emerges', 'emmerdale', 'emotional', 'emotionally', 'emotions', 'emperor', 'empire', 'ems', 'emsc', 'en', 'enabled', 'encore', 'encounter', 'encouragement', 'end', 'endangered', 'ended', 'ending', 'endorses', 'ends', 'endures', 'enemies', 'enemy', 'energy', 'engage', 'engine', 'engineers', 'england', 'english', 'engulfed', 'engvaus', 'enhanced', 'enjoy', 'enjoyed', 'enjoying', 'enormous', 'enroute', 'enrt', 'enter', 'entered', 'entering', 'entertainment', 'entire', 'entrepreneur', 'enugu', 'environment', 'environmental', 'ep', 'epic', 'epicenter', 'epicentre', 'epilepsy', 'episode', 'eq', 'equal', 'equally', 'equate', 'equipment', 'er', 'era', 'ergo', 'error', 'eruption', 'es', 'escape', 'escaped', 'escaping', 'esh', 'esp', 'especially', 'estate', 'esteemed', 'estimate', 'estimated', 'estimates', 'et', 'ethiopian', 'eu', 'euro', 'europe', 'european', 'eurotunnel', 'ev', 'evacuate', 'evacuated', 'evacuating', 'evacuation', 'evacuations', 'evanston', 'evening', 'event', 'events', 'eventually', 'everybody', 'everyday', 'everyones', 'everytime', 'evidence', 'evil', 'evolve', 'ex', 'exacerbated', 'exactly', 'examiner', 'examining', 'example', 'exc', 'excellent', 'exchange', 'exchanging', 'excited', 'excitement', 'exciting', 'exclusive', 'excuse', 'excuses', 'executing', 'executives', 'exercised', 'exhausted', 'exhibition', 'exist', 'existence', 'exit', 'exited', 'exp', 'expand', 'expect', 'expected', 'expecting', 'expensive', 'experience', 'experienced', 'experiencing', 'experiments', 'expert', 'experts', 'explain', 'explains', 'explode', 'exploded', 'explodes', 'exploit', 'exploration', 'explores', 'explosion', 'explosionproof', 'exposed', 'exposure', 'express', 'extender', 'extends', 'extension', 'extensive', 'exterminate', 'external', 'extinguished', 'extra', 'extreme', 'extremely', 'eye', 'eyes', 'eyewitness', 'faan', 'fabric', 'face', 'facebook', 'faced', 'faceless', 'facilities', 'facility', 'facing', 'fact', 'factors', 'factory', 'facts', 'fading', 'fail', 'failed', 'failure', 'fair', 'fairfax', 'fairy', 'faith', 'fake', 'falcon', 'fall', 'fallacy', 'fallen', 'falling', 'falls', 'false', 'fam', 'familia', 'families', 'family', 'famine', 'famous', 'fan', 'fans', 'fantastic', 'fantasy', 'far', 'farm', 'faroeislands', 'farrakhan', 'fart', 'fashion', 'fashionable', 'fast', 'faster', 'fat', 'fatal', 'fatalities', 'fatality', 'fatalityus', 'fatally', 'fate', 'father', 'fathers', 'faulty', 'faux', 'fav', 'favor', 'favorite', 'favorites', 'favourite', 'favs', 'fb', 'fbi', 'fd', 'fear', 'feared', 'fears', 'feast', 'feat', 'featured', 'features', 'fed', 'federal', 'fedex', 'feed', 'feeding', 'feel', 'feelin', 'feeling', 'feelings', 'feels', 'fees', 'feet', 'feinstein', 'fell', 'fella', 'felt', 'female', 'feminist', 'feminists', 'fennovoima', 'ferguson', 'fergusons', 'ferries', 'ferry', 'fest', 'festival', 'fettilootch', 'fevwarrior', 'fewmoretweets', 'fez', 'fieg', 'field', 'fierce', 'fifth', 'fight', 'fighters', 'fighting', 'fights', 'figure', 'file', 'files', 'filled', 'film', 'final', 'finally', 'financial', 'financing', 'finding', 'finds', 'fine', 'finger', 'fingers', 'finish', 'finished', 'finishing', 'finnish', 'fir', 'fired', 'firefighter', 'firefighters', 'firefighting', 'fireman', 'firemen', 'fires', 'firetruck', 'firey', 'fish', 'fishing', 'fist', 'fit', 'fitness', 'fits', 'fix', 'fixed', 'fixing', 'fkn', 'flag', 'flags', 'flames', 'flaming', 'flash', 'flashbacks', 'flat', 'flattened', 'fled', 'fleeing', 'fleets', 'flew', 'flight', 'flip', 'float', 'floated', 'flood', 'flooded', 'flooding', 'floods', 'floor', 'florida', 'flow', 'flower', 'floyds', 'fluid', 'fly', 'flying', 'fm', 'focus', 'fog', 'fold', 'folk', 'follow', 'follower', 'followers', 'following', 'follows', 'food', 'foodscare', 'fool', 'foot', 'footage', 'football', 'forbes', 'forbid', 'force', 'forced', 'forces', 'ford', 'forecast', 'foreign', 'forest', 'forever', 'forex', 'forget', 'forgive', 'forgiven', 'forgot', 'forgotten', 'form', 'formation', 'formed', 'forsure', 'fort', 'forth', 'fortunately', 'fortune', 'forward', 'fossil', 'foster', 'foul', 'fourth', 'fouseytube', 'fox', 'foxnew', 'foxnews', 'foxtrot', 'fr', 'fraction', 'fragile', 'france', 'frank', 'franklin', 'freak', 'freakiest', 'freaking', 'free', 'freedom', 'freefrom', 'freespeech', 'freeway', 'freezing', 'french', 'fresh', 'freshman', 'fresno', 'friday', 'friend', 'friends', 'friendship', 'friggin', 'frog', 'frontline', 'frontlines', 'frontpage', 'frozen', 'fruit', 'fruits', 'ft', 'fte', 'fuck', 'fucked', 'fuckin', 'fucking', 'fuel', 'fueling', 'fuels', 'fukushima', 'fully', 'fun', 'function', 'fund', 'funds', 'funny', 'funtenna', 'fur', 'furious', 'fury', 'future', 'fwy', 'fyi', 'ga', 'gabon', 'gadgets', 'gain', 'gained', 'gaining', 'galactic', 'gallipoli', 'gambit', 'game', 'gameplay', 'gamergate', 'games', 'gander', 'gang', 'garbage', 'garden', 'gardens', 'garfield', 'gary', 'gas', 'gateau', 'gates', 'gave', 'gawx', 'gay', 'gays', 'gaza', 'gbbo', 'gd', 'gear', 'gel', 'geller', 'gem', 'gems', 'general', 'generally', 'generalnews', 'generation', 'geneva', 'genius', 'genocide', 'genuine', 'geometric', 'george', 'georgia', 'gerenciatodos', 'german', 'germany', 'germs', 'gets', 'gettin', 'getting', 'gf', 'ghostwriter', 'giant', 'gif', 'gift', 'gig', 'girl', 'girlfriend', 'girls', 'giveaway', 'given', 'gives', 'giving', 'glad', 'glass', 'glasses', 'glenn', 'glimpses', 'glink', 'global', 'globalwarming', 'globe', 'glorious', 'gm', 'gmmbc', 'gmt', 'gn', 'goal', 'goals', 'goat', 'god', 'gods', 'godslove', 'goes', 'gofundme', 'going', 'gold', 'goldstein', 'golf', 'gon', 'gone', 'gonna', 'good', 'goodbye', 'google', 'gop', 'gopdebate', 'gordon', 'gorgeous', 'got', 'gotta', 'gotten', 'gov', 'government', 'governments', 'governor', 'govt', 'gpm', 'gps', 'gr', 'grab', 'grabbers', 'grace', 'grade', 'grains', 'grand', 'grande', 'grandeur', 'grandpa', 'grass', 'grateful', 'gravel', 'graveyard', 'grazed', 'great', 'greatbritishbakeoff', 'greatest', 'greece', 'greeces', 'greedy', 'greek', 'green', 'greenway', 'greg', 'grenade', 'grenades', 'grew', 'grey', 'gridlock', 'grief', 'grill', 'grills', 'groom', 'ground', 'grounds', 'group', 'groups', 'grove', 'grow', 'growing', 'growingupblack', 'grown', 'grows', 'growth', 'gt', 'gta', 'gtfo', 'gtgt', 'gtgtgt', 'gtii', 'guaranteed', 'guard', 'guardian', 'guess', 'guest', 'guide', 'guided', 'guides', 'guillermo', 'guilty', 'gum', 'gun', 'gunfire', 'gunman', 'gunmen', 'guns', 'gunsense', 'gunshot', 'gust', 'gusts', 'gusty', 'guy', 'guys', 'gym', 'ha', 'habits', 'hack', 'hackers', 'hadnt', 'hah', 'haha', 'hahah', 'hahaha', 'hahahah', 'hahahaha', 'hail', 'hailstorm', 'hair', 'haiyan', 'half', 'halifax', 'hall', 'halt', 'hamas', 'hamburg', 'hamilton', 'hampshire', 'hand', 'handbag', 'handbags', 'handle', 'handling', 'hands', 'hang', 'hannemans', 'happen', 'happened', 'happening', 'happens', 'happily', 'happiness', 'happy', 'haram', 'harbor', 'hard', 'hardcore', 'hardline', 'hardly', 'hardy', 'harm', 'harmkid', 'harms', 'harper', 'harry', 'harrybecareful', 'hasbro', 'hashtag', 'hat', 'hatcap', 'hatchet', 'hatchetwielding', 'hate', 'hated', 'hating', 'hatred', 'haunting', 'havent', 'having', 'hawaii', 'hazard', 'hazardous', 'hazmat', 'hd', 'head', 'headed', 'heading', 'headlines', 'headphones', 'headquarters', 'heads', 'headset', 'heal', 'healing', 'health', 'healthcare', 'healthy', 'hear', 'heard', 'hearing', 'heart', 'hearthstone', 'heartless', 'hearts', 'heartwarming', 'heat', 'heaven', 'heavenly', 'heavy', 'heels', 'heights', 'held', 'helicopter', 'helicopters', 'hell', 'hella', 'hellfire', 'hello', 'help', 'helping', 'helpline', 'helps', 'henry', 'heres', 'hermancranston', 'hero', 'heroes', 'heroin', 'heroine', 'heros', 'hes', 'hey', 'hi', 'hidden', 'hiding', 'hieroglyphics', 'high', 'higher', 'highest', 'highly', 'highway', 'hijack', 'hijacker', 'hijacking', 'hike', 'hilarious', 'hill', 'hillary', 'hills', 'himalaya', 'hinton', 'hip', 'hiphop', 'hiring', 'hiroshima', 'historic', 'history', 'hit', 'hits', 'hitting', 'hmm', 'hmu', 'hoax', 'hobbit', 'hobo', 'hockey', 'hoe', 'hoes', 'hold', 'holding', 'holds', 'hole', 'holed', 'holiday', 'holland', 'hollywood', 'holmgren', 'holy', 'home', 'homeland', 'homeless', 'homeowners', 'homerescuers', 'homes', 'homie', 'honest', 'honestly', 'honey', 'honors', 'hood', 'hop', 'hope', 'hopefully', 'hopes', 'hoping', 'horizon', 'horn', 'horrible', 'horrific', 'horror', 'horrors', 'horse', 'horses', 'hospital', 'hospitals', 'host', 'hostage', 'hostages', 'hosting', 'hot', 'hotel', 'hottest', 'hour', 'hours', 'house', 'housed', 'houses', 'housing', 'houston', 'hr', 'huffman', 'hug', 'huge', 'hughes', 'huh', 'human', 'humanconsumption', 'humanity', 'humans', 'humaza', 'humidity', 'hundreds', 'hunger', 'hungry', 'hunk', 'hunt', 'hunters', 'hurricane', 'hurricanedolce', 'hurricanes', 'hurry', 'hurt', 'hurts', 'hwo', 'hwy', 'hybrid', 'hyderabad', 'hype', 'hypocrisy', 'hysteria', 'ian', 'ianhellfire', 'ibooklove', 'ice', 'icemoon', 'ices', 'iconic', 'icymi', 'id', 'idc', 'idea', 'ideas', 'idfire', 'idiot', 'idis', 'idk', 'idol', 'idp', 'idps', 'ig', 'igers', 'ignition', 'ignore', 'ignored', 'ihhen', 'ii', 'iii', 'ik', 'ill', 'illegal', 'illinois', 'im', 'ima', 'image', 'images', 'imagine', 'imagined', 'imdb', 'immediately', 'impact', 'impacted', 'impending', 'imperfect', 'important', 'imported', 'impossible', 'impressed', 'impressive', 'improve', 'impulse', 'incase', 'incident', 'include', 'including', 'income', 'increase', 'increased', 'increasing', 'incredible', 'incredibly', 'independent', 'indi', 'india', 'indian', 'indiannews', 'indie', 'indifference', 'individual', 'individuals', 'indonesia', 'indoors', 'industry', 'inec', 'inevitable', 'inevitably', 'infamous', 'infectious', 'inferno', 'infinity', 'info', 'infoorder', 'information', 'infosec', 'initial', 'inj', 'injured', 'injures', 'injuries', 'injury', 'ink', 'inner', 'inning', 'innocent', 'innovation', 'insane', 'inside', 'insight', 'inspections', 'inspiring', 'inst', 'instagram', 'installation', 'instant', 'instantly', 'instead', 'institute', 'instructions', 'insurance', 'insurer', 'insurers', 'intact', 'integrity', 'intelligence', 'intensifies', 'intensity', 'interested', 'interesting', 'interlaken', 'intern', 'internal', 'internally', 'international', 'internet', 'intersection', 'interstate', 'interview', 'interviews', 'inundated', 'inundation', 'invalid', 'invasion', 'invest', 'investigate', 'investigating', 'investigation', 'investigators', 'investing', 'invited', 'invoices', 'involved', 'involving', 'ipad', 'iphone', 'ipod', 'ir', 'iran', 'irandeal', 'iranian', 'iranians', 'iraq', 'iredell', 'ireland', 'irish', 'ironic', 'ironically', 'irony', 'irvine', 'isil', 'isis', 'islam', 'islamic', 'island', 'islands', 'isnt', 'israel', 'israeli', 'issue', 'issued', 'issues', 'italian', 'italy', 'item', 'items', 'itll', 'itsjustinstuart', 'itunes', 'itunesmusic', 'ivanberroa', 'ive', 'ja', 'jack', 'jacket', 'jackson', 'jacksonville', 'jacque', 'jail', 'jailed', 'jam', 'jamaica', 'jamaicaobserver', 'james', 'jamesmelville', 'jams', 'jan', 'japan', 'japanese', 'japans', 'japton', 'japìn', 'jax', 'jay', 'jays', 'jazz', 'jealous', 'jeans', 'jeb', 'jedi', 'jeff', 'jenner', 'jennifer', 'jerry', 'jesus', 'jet', 'jets', 'jewelry', 'jewish', 'jim', 'jimmyfallon', 'jkl', 'job', 'jobs', 'joe', 'joel', 'johannesburg', 'john', 'johnny', 'johns', 'johnson', 'join', 'joined', 'joining', 'joint', 'joke', 'jon', 'jonathan', 'jonathanferrell', 'jones', 'jonvoyage', 'jordan', 'jose', 'journal', 'journalism', 'journalist', 'journeys', 'joy', 'jp', 'jr', 'jst', 'judge', 'juice', 'julian', 'julie', 'juliedicaro', 'july', 'jumped', 'june', 'junk', 'jupiters', 'jurors', 'just', 'justice', 'justified', 'justifying', 'justin', 'justinbieber', 'justmarried', 'kaduna', 'kalle', 'kanye', 'karachi', 'karma', 'karymsky', 'kashmir', 'katherines', 'katrina', 'katunews', 'kca', 'keeps', 'kendall', 'kenya', 'kept', 'keratin', 'kerricktrial', 'kerry', 'key', 'ki', 'kick', 'kicked', 'kid', 'kidding', 'kidnapped', 'kids', 'kiernan', 'kiev', 'kill', 'killed', 'killer', 'killers', 'killing', 'killings', 'kills', 'kind', 'kinda', 'kindermorgan', 'kindle', 'kindly', 'king', 'kingdom', 'kings', 'kisii', 'kiss', 'kissed', 'kisses', 'kit', 'kith', 'kittens', 'km', 'knee', 'knees', 'knew', 'knife', 'knight', 'knob', 'knock', 'knocking', 'know', 'knowing', 'known', 'knows', 'knoxville', 'kodiak', 'kombat', 'komen', 'korea', 'kosciusko', 'kotaweather', 'kowing', 'kraft', 'krefeld', 'ks', 'kurd', 'kurdish', 'kurtschlichter', 'kuwait', 'ky', 'kyle', 'la', 'lab', 'label', 'labour', 'labs', 'lack', 'laden', 'ladies', 'lady', 'laid', 'lake', 'lakes', 'lamp', 'lance', 'land', 'landfall', 'landing', 'lands', 'landscape', 'landslide', 'lane', 'lanes', 'langley', 'language', 'languages', 'lansdowne', 'laois', 'large', 'larger', 'largest', 'las', 'lasting', 'late', 'lately', 'later', 'latest', 'latestnews', 'latimes', 'latin', 'laugh', 'laughing', 'launch', 'laundry', 'lauren', 'lava', 'lavenderpoetrycafe', 'law', 'lawrence', 'laws', 'lawsuit', 'lawton', 'lay', 'layout', 'lead', 'leader', 'leaders', 'leadership', 'leading', 'leads', 'league', 'leagues', 'leak', 'leaked', 'leaks', 'learn', 'learned', 'learning', 'leather', 'leave', 'leaves', 'leaving', 'lebanon', 'led', 'leeds', 'left', 'leg', 'legacy', 'legal', 'legendary', 'legio', 'legion', 'legionnaires', 'legislation', 'legit', 'lego', 'legs', 'leisure', 'lemon', 'len', 'leo', 'lesbian', 'lesson', 'lessons', 'let', 'lethal', 'lets', 'letter', 'letters', 'letting', 'level', 'leveled', 'levels', 'lez', 'lgbt', 'lglorg', 'liability', 'liable', 'liberal', 'library', 'libya', 'libyaindia', 'lie', 'lies', 'life', 'lifestyle', 'lifethreatening', 'lifetime', 'lifted', 'lifting', 'light', 'lightening', 'lighting', 'lightning', 'lightningcaused', 'lights', 'like', 'liked', 'likely', 'likes', 'lil', 'limit', 'limited', 'line', 'linerless', 'lines', 'link', 'linked', 'links', 'linkury', 'lion', 'lionel', 'lions', 'lip', 'list', 'listed', 'listen', 'listenbuy', 'listening', 'listenlive', 'lit', 'literally', 'lith', 'little', 'live', 'lived', 'lives', 'living', 'livingsafely', 'lizards', 'llf', 'lmao', 'lmfao', 'lmfaoooo', 'lnp', 'load', 'loaded', 'loading', 'loads', 'loan', 'loans', 'local', 'localarsonist', 'located', 'location', 'lock', 'locke', 'locked', 'locker', 'log', 'logan', 'logic', 'logistics', 'logo', 'lol', 'lollapalooza', 'lolol', 'london', 'londonfire', 'lone', 'lonely', 'lonewolffur', 'long', 'longer', 'longest', 'longs', 'longterm', 'look', 'looked', 'looking', 'looks', 'loop', 'looping', 'loose', 'looses', 'looters', 'looting', 'lord', 'loretta', 'lorries', 'los', 'losdelsonido', 'lose', 'loseit', 'loses', 'losing', 'loss', 'losses', 'lost', 'lot', 'lots', 'lotz', 'loud', 'louis', 'lous', 'love', 'loved', 'lovedup', 'lovely', 'lover', 'loves', 'loving', 'low', 'lower', 'lowly', 'lowlying', 'lowndes', 'lrt', 'lt', 'ltlt', 'lubbock', 'luchaunderground', 'luck', 'lucky', 'luis', 'luka', 'lulgzimbestpicts', 'lunch', 'lungs', 'lying', 'lyrics', 'ma', 'mac', 'machine', 'mad', 'madhya', 'madinah', 'madison', 'magginoodle', 'magic', 'magisters', 'magner', 'magnum', 'mail', 'main', 'maintain', 'maintenance', 'maj', 'major', 'majority', 'make', 'maker', 'makes', 'maketh', 'making', 'malaysia', 'malaysian', 'malik', 'mall', 'mama', 'mamata', 'man', 'managed', 'management', 'manager', 'manchester', 'mandatory', 'mania', 'manmade', 'mansehra', 'mansion', 'manslaughter', 'manufactured', 'manutd', 'map', 'maps', 'march', 'maria', 'mariah', 'marians', 'marijuana', 'marin', 'marine', 'marines', 'mark', 'marked', 'marker', 'market', 'marketforce', 'marketing', 'markets', 'marks', 'marquei', 'married', 'marshall', 'marvel', 'mary', 'maryland', 'mass', 'massacre', 'massacreantioch', 'massive', 'massmurderer', 'master', 'match', 'matches', 'matching', 'mate', 'material', 'materials', 'matter', 'matters', 'mattson', 'max', 'maximum', 'mayan', 'maybe', 'mayhem', 'mc', 'mcdonalds', 'mcilroy', 'md', 'meals', 'mean', 'meaning', 'means', 'meant', 'measles', 'measurement', 'meat', 'meatloving', 'mechanical', 'med', 'medals', 'media', 'medical', 'medicine', 'medieval', 'mediterran', 'mediterranean', 'medium', 'meek', 'meekmill', 'meet', 'meeting', 'meets', 'meg', 'mega', 'megynkelly', 'melt', 'meltdown', 'member', 'members', 'meme', 'memes', 'memorial', 'memories', 'memory', 'memphis', 'men', 'mens', 'mental', 'mentally', 'mention', 'mentions', 'mercados', 'mercury', 'mercy', 'mess', 'message', 'messages', 'messed', 'messenger', 'messi', 'met', 'metal', 'meteoearth', 'method', 'metlife', 'metrics', 'metro', 'metrofmtalk', 'mets', 'mexico', 'mf', 'mfs', 'mgm', 'miami', 'mic', 'michael', 'michele', 'michelebachman', 'michigan', 'microlight', 'microphone', 'microsoft', 'microsofts', 'mid', 'middle', 'midget', 'midnight', 'mido', 'midsouth', 'midwest', 'migrant', 'migrants', 'mike', 'mikeparractor', 'mile', 'miles', 'militant', 'militants', 'military', 'milk', 'milkshake', 'million', 'millions', 'milwaukee', 'min', 'minaj', 'mind', 'minds', 'minecraft', 'minerals', 'miners', 'minhazmerchant', 'mini', 'minimehh', 'mining', 'minions', 'minister', 'ministers', 'minor', 'minority', 'mins', 'minute', 'minutes', 'mirage', 'mishacollins', 'mishaps', 'miss', 'missed', 'misses', 'missiles', 'missing', 'mission', 'missionhills', 'mississauga', 'mistake', 'mistreated', 'mitigation', 'mitt', 'mix', 'miyagi', 'mkx', 'ml', 'mlb', 'mma', 'mmmmmm', 'mnpdnashville', 'mo', 'mobile', 'mock', 'mod', 'mode', 'model', 'models', 'moderate', 'modi', 'modified', 'modiministry', 'mohammed', 'mom', 'moment', 'moments', 'moms', 'monday', 'money', 'monitor', 'monitoring', 'monkey', 'monkeys', 'monogram', 'monsoon', 'monster', 'montgomery', 'month', 'months', 'mood', 'moon', 'mooresville', 'mop', 'moral', 'morgan', 'morning', 'mortal', 'moscow', 'mosque', 'moth', 'mother', 'motion', 'motivation', 'motor', 'motorcraft', 'motorcycle', 'motorcyclist', 'moulding', 'mount', 'mountain', 'mountaineering', 'mountains', 'mourning', 'mourns', 'mouth', 'moved', 'movement', 'moves', 'movie', 'movies', 'moving', 'moyo', 'mp', 'mph', 'mr', 'ms', 'msf', 'msnbc', 'mt', 'mtvhottest', 'mud', 'mudslide', 'mufc', 'mukilteo', 'mullah', 'multi', 'multidimensi', 'multiplayer', 'multiple', 'mum', 'mumbai', 'municipal', 'murder', 'murdered', 'murderer', 'murderers', 'murderous', 'murders', 'murfreesboro', 'muscle', 'museum', 'music', 'musician', 'musicians', 'musik', 'muslim', 'muslims', 'mutant', 'mutual', 'muzzamil', 'mv', 'myanmar', 'myfitnesspal', 'mystery', 'nagasaki', 'nah', 'nail', 'nails', 'najib', 'named', 'names', 'nan', 'nap', 'narendramodi', 'nasa', 'nasahurricane', 'nasasolarsystem', 'nashville', 'nasty', 'nation', 'national', 'nations', 'native', 'nato', 'natural', 'nature', 'naval', 'navbl', 'naved', 'navy', 'nazi', 'nb', 'nbc', 'nbcnews', 'nc', 'nd', 'nda', 'ne', 'near', 'nearby', 'nearly', 'necessary', 'neck', 'need', 'needed', 'needle', 'needs', 'negative', 'negros', 'neighborhood', 'neighbors', 'neighbours', 'neil', 'nema', 'nepal', 'nestleindia', 'net', 'netanyahu', 'network', 'neverending', 'new', 'newberg', 'newbie', 'newest', 'newlyweds', 'news', 'newsarama', 'newsintweets', 'newswatch', 'newyork', 'newyorker', 'newzsacramento', 'nfl', 'nh', 'nhl', 'nhs', 'niall', 'nice', 'nick', 'nickcannon', 'nickcocofree', 'nicki', 'niece', 'nigeria', 'nigerian', 'nigga', 'niggas', 'night', 'nightmare', 'nights', 'nike', 'nikeplus', 'nj', 'njenga', 'nm', 'nnw', 'noaa', 'noahanyname', 'noise', 'non', 'noncompliant', 'nonlife', 'noonancindynoonanheartbreak', 'nope', 'normal', 'norman', 'north', 'northeast', 'northern', 'northwest', 'northwestern', 'nose', 'nostalgia', 'nostrils', 'nosurrender', 'note', 'noted', 'notexplained', 'notice', 'noticed', 'notices', 'notifications', 'novel', 'november', 'nowplaying', 'np', 'nri', 'ns', 'nsfw', 'ntsb', 'nu', 'nuclear', 'nude', 'nuff', 'nuggets', 'nuke', 'number', 'numbered', 'numbers', 'nurse', 'nurses', 'nursing', 'nv', 'nw', 'nwo', 'nws', 'ny', 'nyc', 'nylon', 'nyt', 'nytimes', 'oak', 'obama', 'obispo', 'object', 'objects', 'obliterate', 'obliterated', 'obliteration', 'obsessed', 'obviously', 'oc', 'occasion', 'occupants', 'occurred', 'occurs', 'ocean', 'odd', 'odds', 'odeon', 'offensive', 'offensiveåêcontent', 'offer', 'offers', 'office', 'officer', 'officers', 'offices', 'official', 'officially', 'officials', 'offr', 'offramp', 'offroad', 'offs', 'oh', 'ohh', 'ohio', 'oil', 'ok', 'okanagan', 'okay', 'okinawa', 'oklahoma', 'oklahomaok', 'oks', 'okwx', 'olap', 'old', 'older', 'olive', 'olympic', 'omars', 'omega', 'omfg', 'omg', 'ones', 'oneself', 'online', 'onlinecommunities', 'ontario', 'ooh', 'oooh', 'oooooohhhh', 'oops', 'oped', 'open', 'opened', 'opening', 'openly', 'opens', 'oper', 'opera', 'operation', 'operations', 'opinion', 'opp', 'opposite', 'opposition', 'oppressions', 'ops', 'option', 'options', 'opus', 'oral', 'orange', 'order', 'ordered', 'orders', 'oregon', 'org', 'organic', 'organizations', 'ori', 'origin', 'original', 'originalfunko', 'ornament', 'os', 'osborn', 'oso', 'oth', 'otrametlife', 'oun', 'outage', 'outbid', 'outbreak', 'outdoor', 'outfit', 'outflow', 'outlet', 'outlook', 'outrage', 'outside', 'outta', 'ouvindo', 'overload', 'overlooking', 'overnight', 'overtime', 'ovo', 'ovofest', 'owner', 'owners', 'pa', 'pace', 'pacific', 'pack', 'packs', 'page', 'paid', 'pain', 'paint', 'painting', 'paints', 'pair', 'pak', 'pakistan', 'pakistani', 'pakistannews', 'palermo', 'palestine', 'palestinian', 'palestinians', 'palin', 'palms', 'pam', 'pamela', 'pan', 'pancakes', 'pandemonium', 'panel', 'panic', 'panicking', 'pantherattack', 'pants', 'paper', 'parade', 'paramedic', 'parenthood', 'parents', 'paris', 'park', 'parker', 'parking', 'parleys', 'parole', 'particularly', 'partner', 'partnerships', 'parts', 'party', 'pass', 'passed', 'passenger', 'passengers', 'passing', 'password', 'past', 'pasta', 'patch', 'patched', 'path', 'pathogen', 'pathogens', 'patience', 'patient', 'patna', 'patrick', 'patriot', 'pattern', 'pattonoswalt', 'paul', 'pauls', 'paved', 'pay', 'pays', 'pbban', 'pc', 'pcps', 'pdp', 'peace', 'peaceful', 'peacefully', 'peak', 'peanut', 'pedestrian', 'pedestrians', 'peeps', 'penalties', 'penalty', 'pendleton', 'penn', 'pennington', 'people', 'peoples', 'pepper', 'percent', 'perfect', 'perfectly', 'performance', 'performing', 'period', 'permanent', 'permanently', 'permits', 'perquisite', 'person', 'personal', 'personally', 'personnel', 'persons', 'perspectives', 'pertains', 'peterjukes', 'petition', 'petitiontake', 'pets', 'phantom', 'pharaoh', 'phase', 'phew', 'phil', 'philadelphia', 'philippines', 'philly', 'phoenix', 'phone', 'phones', 'photo', 'photographer', 'photography', 'photos', 'photoset', 'photoshop', 'physical', 'physicians', 'pic', 'pick', 'picked', 'pickens', 'pickerel', 'picking', 'pickup', 'pics', 'picture', 'pictures', 'piece', 'pieces', 'pile', 'pileup', 'piling', 'pill', 'pillows', 'pilot', 'pilots', 'piner', 'pinpoint', 'pipe', 'pipeline', 'pisgah', 'pissed', 'pit', 'pitch', 'pitchers', 'pits', 'pivot', 'pizza', 'pjnet', 'pkk', 'pkwy', 'place', 'placed', 'places', 'placing', 'plague', 'plaguing', 'plains', 'plan', 'plane', 'planes', 'planet', 'planned', 'planning', 'plans', 'plant', 'planted', 'plants', 'plate', 'platform', 'play', 'played', 'player', 'players', 'playing', 'playlist', 'playoffs', 'plays', 'playstation', 'pleasure', 'pledge', 'plenty', 'pllolz', 'plot', 'pls', 'plug', 'plummeted', 'plunging', 'plus', 'pm', 'pmarca', 'pmharper', 'po', 'pocket', 'pockets', 'poem', 'point', 'pointing', 'points', 'pol', 'poland', 'police', 'policerun', 'policy', 'political', 'politics', 'politifiact', 'poll', 'pomo', 'pond', 'pony', 'pool', 'poor', 'poorly', 'pop', 'pope', 'poplar', 'pops', 'popular', 'popularmmos', 'population', 'porn', 'port', 'portion', 'portland', 'portugal', 'positive', 'poss', 'possibility', 'possible', 'possibly', 'post', 'postbattle', 'posted', 'posters', 'posting', 'posts', 'potential', 'potentially', 'potus', 'pounded', 'pov', 'poverty', 'power', 'powerful', 'powerlines', 'ppl', 'prabhu', 'practice', 'pradesh', 'pray', 'prayers', 'pre', 'prebreak', 'precious', 'precipitation', 'predator', 'predict', 'predicted', 'prediction', 'prefer', 'pregnant', 'premature', 'premier', 'premiere', 'premium', 'premonitions', 'preorder', 'prepare', 'prepared', 'preparedness', 'prepares', 'preparing', 'prepper', 'pres', 'presence', 'present', 'preservation', 'president', 'press', 'pressed', 'pressure', 'pretend', 'pretty', 'prevent', 'prevention', 'preview', 'previous', 'previously', 'prez', 'price', 'priceless', 'prices', 'primarily', 'primary', 'prime', 'prince', 'print', 'prior', 'priorities', 'priority', 'prison', 'private', 'pro', 'probably', 'probe', 'problem', 'problems', 'procedures', 'proceeds', 'prod', 'produced', 'product', 'professional', 'profile', 'profit', 'program', 'programme', 'progress', 'project', 'projected', 'projects', 'promise', 'promises', 'promote', 'prompted', 'prompts', 'prone', 'proof', 'proper', 'property', 'propertycasualty', 'prophet', 'prophetmuhammad', 'proposed', 'prosecuted', 'prosyn', 'protect', 'protectdenaliwolves', 'protecting', 'protection', 'protector', 'protest', 'protesting', 'protests', 'proud', 'provide', 'providence', 'provoke', 'ps', 'psa', 'psalms', 'psychiatric', 'psychological', 'pt', 'ptbo', 'ptsd', 'ptsdchat', 'public', 'publicizing', 'pull', 'pulled', 'pulling', 'pulls', 'pulwama', 'pump', 'pun', 'punch', 'puncture', 'punished', 'punishment', 'punjab', 'puppies', 'puppy', 'purchase', 'purchased', 'purple', 'purse', 'push', 'pushing', 'pussy', 'putin', 'putins', 'putting', 'quake', 'quality', 'quarantine', 'quarantined', 'quarter', 'quarters', 'quartz', 'que', 'queen', 'queens', 'quest', 'question', 'questioning', 'questions', 'quick', 'quickly', 'quite', 'quiz', 'quote', 'quoted', 'quotes', 'race', 'racing', 'racist', 'radar', 'radiation', 'radio', 'radioactive', 'rage', 'rages', 'raid', 'raiders', 'rail', 'rails', 'railway', 'railways', 'rain', 'rained', 'rainfall', 'rainier', 'raining', 'rains', 'rainstorm', 'raised', 'rally', 'ramag', 'rammed', 'ran', 'random', 'range', 'rap', 'rape', 'rapidcity', 'rapidly', 'rapper', 'rappers', 'rapping', 'rare', 'rat', 'rate', 'rated', 'rates', 'rating', 'raung', 'raw', 'ray', 'raynbowaffair', 'rayner', 'razed', 'razing', 'raì¼l', 'rb', 'rcmp', 'rd', 'rdhorndale', 'rea', 'reach', 'reaches', 'reaching', 'react', 'reacted', 'reactor', 'read', 'reading', 'readingapocalypse', 'reads', 'ready', 'real', 'realdonaldtrump', 'realise', 'realised', 'reality', 'realize', 'realized', 'really', 'realmandyrain', 'realtime', 'reap', 'rear', 'reason', 'reasons', 'recall', 'recalls', 'recap', 'receive', 'recent', 'recently', 'recipes', 'reckless', 'recognize', 'recommend', 'recommended', 'record', 'recorded', 'recording', 'recount', 'recover', 'recovery', 'recreates', 'recycling', 'red', 'reddit', 'reddits', 'redeemeth', 'redhanded', 'redlight', 'reduce', 'reduced', 'referring', 'reflect', 'reflects', 'refugee', 'refugees', 'refugio', 'refuse', 'refused', 'refuses', 'regard', 'regarding', 'regardless', 'region', 'regional', 'register', 'registered', 'regret', 'regular', 'reid', 'reids', 'reinstate', 'reject', 'rejected', 'rejects', 'related', 'relationship', 'relatives', 'relax', 'release', 'released', 'releases', 'relief', 'religion', 'relive', 'remain', 'remains', 'remember', 'remembered', 'remembering', 'reminder', 'reminds', 'remorse', 'removal', 'remove', 'removed', 'removing', 'rene', 'reno', 'reopen', 'reopening', 'reopens', 'rep', 'repair', 'repairs', 'repatriated', 'repay', 'repeat', 'replace', 'replacing', 'report', 'reported', 'reportedly', 'reporting', 'reports', 'republic', 'republican', 'republicans', 'request', 'required', 'requiring', 'rescue', 'rescued', 'rescuers', 'research', 'reshape', 'reshapes', 'residential', 'residents', 'resources', 'respect', 'respected', 'respond', 'responded', 'responder', 'responders', 'responding', 'responds', 'response', 'responsibility', 'responsible', 'rest', 'restaurant', 'restaurants', 'restive', 'restore', 'restricted', 'result', 'resulted', 'resulting', 'results', 'retail', 'retract', 'retro', 'return', 'returned', 'returns', 'retweet', 'retweeted', 'reunion', 'reuters', 'rev', 'revealed', 'reveals', 'revenues', 'review', 'reviews', 'revolt', 'revolution', 'reward', 'rexyy', 'rey', 'rice', 'rich', 'richard', 'richmond', 'rick', 'rickperry', 'rid', 'ride', 'rider', 'riders', 'ridge', 'ridiculous', 'riding', 'rifles', 'right', 'rights', 'rightways', 'rightwaystan', 'rihanna', 'ring', 'rio', 'riot', 'rioters', 'rioting', 'riots', 'rip', 'ripped', 'rise', 'rises', 'rising', 'risk', 'risks', 'river', 'rivers', 'riyadh', 'rly', 'rn', 'road', 'roads', 'roanoke', 'rob', 'robert', 'roberts', 'robinson', 'robotrainstorm', 'robots', 'rock', 'rockbottomradfm', 'rocket', 'rockin', 'rocks', 'rocky', 'rockyfire', 'roger', 'rohingya', 'rohnertparkdps', 'role', 'roll', 'roller', 'rolling', 'rolls', 'romance', 'rome', 'ronnie', 'roof', 'room', 'roosevelt', 'root', 'rory', 'rose', 'roses', 'ross', 'rossum', 'rotten', 'round', 'route', 'routecomplex', 'rover', 'row', 'royal', 'royalcarribean', 'royals', 'rpics', 'rs', 'rspca', 'rss', 'rt', 'rtamerica', 'rtrrt', 'rubber', 'rubble', 'rudd', 'ruebs', 'ruin', 'ruined', 'ruining', 'ruins', 'rule', 'rules', 'run', 'runner', 'running', 'runs', 'runway', 'rush', 'russia', 'russian', 'rutherford', 'rworldnews', 'rwy', 'ryan', 'rì', 'sa', 'sac', 'sacramento', 'sad', 'saddlebrooke', 'sadly', 'safe', 'safely', 'safer', 'safety', 'said', 'sail', 'sailing', 'saipan', 'sake', 'sale', 'salem', 'salmon', 'salt', 'salty', 'salvador', 'salvadoran', 'salvation', 'samaritans', 'samesex', 'sampling', 'san', 'sanctioned', 'sanctions', 'sand', 'sandiego', 'sandstorm', 'sandy', 'santa', 'sarah', 'sarcasm', 'sassy', 'sat', 'satan', 'satchel', 'satellite', 'saturday', 'saturn', 'saudi', 'save', 'savebees', 'saved', 'saving', 'saw', 'say', 'saying', 'says', 'sb', 'scale', 'scare', 'scared', 'scares', 'scariest', 'scars', 'scary', 'scene', 'scenes', 'schedule', 'scheme', 'schiphol', 'school', 'schools', 'schwarber', 'science', 'scientists', 'scifi', 'scoopit', 'score', 'scorpions', 'scotland', 'scott', 'scottwalker', 'scream', 'screamed', 'screaming', 'screamqueens', 'screams', 'screen', 'screenshots', 'screw', 'scuf', 'scwx', 'se', 'sea', 'seal', 'sean', 'search', 'searching', 'season', 'seasons', 'seat', 'seattle', 'second', 'seconds', 'secret', 'secrets', 'section', 'security', 'seduction', 'seeing', 'seek', 'seeks', 'seen', 'sees', 'seismic', 'selection', 'self', 'selfie', 'selfies', 'selfimage', 'sell', 'selling', 'senate', 'senator', 'send', 'sending', 'sends', 'senior', 'sense', 'sensor', 'sensorsenso', 'sent', 'sentinel', 'sep', 'sept', 'september', 'serial', 'series', 'seriously', 'servants', 'serve', 'served', 'server', 'servers', 'service', 'services', 'set', 'setlist', 'sets', 'setting', 'settle', 'settlement', 'seven', 'severe', 'sewer', 'sewing', 'sex', 'sexual', 'sexy', 'sf', 'sh', 'shadow', 'shaker', 'shakes', 'shaking', 'shall', 'sham', 'shame', 'shanghai', 'shania', 'shape', 'shaped', 'share', 'shared', 'shares', 'sharethis', 'sharing', 'shark', 'sharp', 'shaw', 'shed', 'shedding', 'sheer', 'sheeran', 'sheet', 'shelby', 'shell', 'shelli', 'shelter', 'shepherd', 'sheriff', 'shes', 'shift', 'ship', 'shipping', 'ships', 'shipwreck', 'shira', 'shirt', 'shit', 'shitty', 'shock', 'shocked', 'shocking', 'shoes', 'shook', 'shoot', 'shooter', 'shooting', 'shop', 'short', 'shot', 'shots', 'shoulder', 'shoulders', 'shouldnt', 'shouldve', 'shout', 'shouting', 'showcase', 'showed', 'shower', 'showing', 'shows', 'shut', 'shutdown', 'si', 'sibling', 'sicily', 'sick', 'sided', 'sidelines', 'sides', 'siding', 'sigalert', 'sight', 'sign', 'signed', 'significant', 'signing', 'signs', 'silence', 'silent', 'silver', 'silvergray', 'simon', 'simple', 'simply', 'simulate', 'simulation', 'simultaneous', 'sin', 'sing', 'singing', 'single', 'singles', 'sinjar', 'sink', 'sinkhole', 'sinking', 'sir', 'siren', 'sirens', 'sis', 'sismo', 'sister', 'sisters', 'sit', 'site', 'sites', 'sitting', 'sittwe', 'situation', 'sixmeter', 'sixpenceee', 'sixth', 'size', 'sized', 'sj', 'skanndtyagi', 'sketch', 'skies', 'skill', 'skills', 'skin', 'skinny', 'skipping', 'skirt', 'sky', 'skyline', 'skys', 'slammed', 'slanglucci', 'slate', 'slayer', 'sleep', 'sleeping', 'slicker', 'slide', 'slides', 'slightly', 'slip', 'slipped', 'slips', 'slow', 'slower', 'slowly', 'sm', 'small', 'smart', 'smash', 'smaug', 'smell', 'smells', 'smh', 'smile', 'smiles', 'smiling', 'smithsonian', 'smoke', 'smoking', 'smoky', 'smooth', 'sn', 'snacks', 'snap', 'snapchat', 'snd', 'sneak', 'sniping', 'snow', 'snowball', 'snowstorm', 'snuff', 'soak', 'soaking', 'soccer', 'social', 'socialism', 'socialmedia', 'socialnews', 'society', 'soft', 'software', 'solar', 'sold', 'soldier', 'soldiers', 'solicitor', 'solid', 'solo', 'solution', 'solve', 'somalia', 'somebody', 'someones', 'son', 'song', 'songs', 'sons', 'sony', 'soon', 'sooo', 'soooo', 'sophie', 'sore', 'sorrows', 'sorry', 'sort', 'soudelor', 'soudelors', 'soul', 'souls', 'sound', 'soundcloud', 'sounding', 'sounds', 'soup', 'source', 'sources', 'south', 'southampton', 'southbound', 'southdowns', 'southeast', 'southern', 'soviet', 'sp', 'space', 'spaceship', 'spain', 'spanish', 'sparked', 'sparks', 'speak', 'speaker', 'speaking', 'spears', 'special', 'specialist', 'specialists', 'specially', 'species', 'specif', 'specific', 'specimens', 'spectacular', 'speed', 'spencers', 'spend', 'spending', 'spent', 'spider', 'spill', 'spilled', 'spinning', 'spinningbot', 'spirit', 'spirits', 'split', 'sponsor', 'spontaneously', 'sport', 'sports', 'sportwatch', 'spos', 'spot', 'spots', 'spray', 'spreading', 'spring', 'springs', 'sprinter', 'sputnik', 'squad', 'square', 'squeeze', 'squirrel', 'sr', 'ssw', 'st', 'stab', 'stabbing', 'stacey', 'stadium', 'staff', 'stage', 'stamp', 'stand', 'standard', 'standards', 'standing', 'stands', 'standuser', 'standwithpp', 'stans', 'star', 'starbucks', 'starring', 'stars', 'start', 'started', 'starter', 'starting', 'starts', 'startup', 'startups', 'starving', 'state', 'statement', 'states', 'station', 'stats', 'status', 'stay', 'stays', 'steak', 'steal', 'stealing', 'steam', 'steel', 'step', 'stephen', 'stepped', 'steps', 'stereo', 'steve', 'stewart', 'stick', 'sticks', 'stir', 'sto', 'stock', 'stocks', 'stole', 'stolen', 'stomach', 'stone', 'stop', 'stopped', 'stops', 'store', 'stores', 'stories', 'storm', 'stormchase', 'storms', 'story', 'stout', 'straight', 'stranded', 'strange', 'strategicpatience', 'strategy', 'streak', 'stream', 'streaming', 'street', 'streets', 'strengthening', 'stress', 'stressed', 'stresses', 'stressful', 'stretcher', 'strict', 'strike', 'striker', 'strikes', 'strikesstrikes', 'striking', 'stroke', 'strong', 'stronger', 'strongly', 'struck', 'structural', 'structure', 'structures', 'struggles', 'struggling', 'sts', 'stu', 'stuart', 'stuck', 'student', 'students', 'studio', 'study', 'stuff', 'stunned', 'stupid', 'sturgis', 'style', 'stylish', 'sub', 'subject', 'subreddits', 'subs', 'subway', 'success', 'sucks', 'sudden', 'suddenly', 'sue', 'suffer', 'suffered', 'suffering', 'suh', 'suicide', 'suicidebombing', 'suit', 'summary', 'summer', 'summerfate', 'summertime', 'summit', 'sun', 'sunday', 'sundays', 'sunk', 'sunnis', 'sunny', 'sunset', 'super', 'superhero', 'supernatural', 'supervisor', 'supply', 'support', 'supports', 'suppose', 'supposed', 'supreme', 'surah', 'sure', 'surely', 'surf', 'surface', 'surfers', 'surge', 'surgery', 'surprise', 'surprised', 'surrender', 'surrounded', 'surrounding', 'suruc', 'suruì', 'survey', 'survival', 'survive', 'survived', 'survivor', 'survivors', 'suspect', 'suspected', 'suspense', 'sustainability', 'sustainable', 'suv', 'sw', 'swallowed', 'swallows', 'swansea', 'swarm', 'swear', 'sweat', 'sweater', 'sweden', 'sweet', 'swells', 'swept', 'swim', 'swimming', 'swing', 'swiss', 'sws', 'sx', 'sydney', 'sympathy', 'symphony', 'syndrome', 'syria', 'syrian', 'systems', 'tab', 'table', 'tablet', 'taco', 'tag', 'tahoe', 'taiwan', 'tak', 'taken', 'takes', 'taking', 'tale', 'talent', 'talibans', 'talk', 'talkin', 'talking', 'talkradio', 'talks', 'tampa', 'tan', 'tank', 'tanks', 'tanzania', 'tape', 'target', 'targeted', 'targeting', 'targets', 'tasmanias', 'taste', 'tastes', 'tattoo', 'taught', 'tax', 'taxiways', 'taylor', 'tb', 'tbt', 'tc', 'tch', 'tcot', 'tdp', 'te', 'tea', 'teacher', 'teachers', 'teaching', 'team', 'teams', 'teamstream', 'tear', 'tears', 'teases', 'tech', 'techesback', 'technica', 'technique', 'technologies', 'technology', 'ted', 'tee', 'teen', 'teens', 'teeth', 'telegraph', 'tell', 'telling', 'tells', 'temper', 'temperature', 'tempered', 'temple', 'tennessee', 'tens', 'tension', 'tent', 'term', 'terms', 'terrible', 'terrifying', 'terror', 'terrorism', 'terrorist', 'terrorists', 'teslas', 'test', 'tested', 'testimony', 'testing', 'tests', 'texas', 'text', 'tf', 'tflbusalerts', 'tgirl', 'th', 'tha', 'thank', 'thankful', 'thankfully', 'thanks', 'thanku', 'thats', 'theadvocatemag', 'theater', 'theatre', 'thebeginning', 'thee', 'thegame', 'themagickidraps', 'themed', 'theological', 'theory', 'therapies', 'therapy', 'theres', 'thetawniest', 'theyd', 'theyll', 'theyre', 'theyve', 'thief', 'thighs', 'thing', 'things', 'think', 'thinking', 'thinks', 'thirst', 'thirsty', 'thisiswhywecanthavenicethings', 'thisizbwright', 'tho', 'thomas', 'thought', 'thoughts', 'thousand', 'thousands', 'threat', 'threaten', 'threatening', 'threatens', 'threats', 'threw', 'thriller', 'throat', 'thrones', 'throw', 'throwback', 'throwing', 'throwingknifes', 'thrown', 'thuggin', 'thunder', 'thunderstorm', 'thunderstorms', 'thurs', 'thursday', 'thx', 'thy', 'thyroid', 'ticket', 'tickets', 'tidal', 'tide', 'tides', 'tie', 'tied', 'tigers', 'til', 'till', 'tilnow', 'time', 'timelapse', 'timeline', 'times', 'timkaine', 'tin', 'tinyjecht', 'tips', 'tired', 'titan', 'titanic', 'title', 'tix', 'tlc', 'tmp', 'today', 'todays', 'todd', 'toddler', 'toe', 'toilet', 'tokyo', 'told', 'toll', 'tom', 'tomatoes', 'tomcatarts', 'tomorrow', 'tomorrows', 'tongue', 'tonight', 'tonights', 'tons', 'tonto', 'took', 'tool', 'tools', 'tooth', 'tops', 'topstories', 'torch', 'torching', 'tornado', 'tornadoes', 'tornados', 'toronto', 'torture', 'total', 'totaling', 'totally', 'tote', 'totes', 'touch', 'touched', 'tough', 'tour', 'towel', 'tower', 'town', 'township', 'toxic', 'tr', 'track', 'tracking', 'tracks', 'trading', 'traditional', 'traffic', 'trafford', 'tragedy', 'tragic', 'trail', 'trailer', 'train', 'training', 'trains', 'tram', 'trancy', 'transfer', 'transformation', 'transformed', 'transit', 'transport', 'transporting', 'trap', 'trapmusic', 'trapped', 'trash', 'trauma', 'traumatised', 'travel', 'traveling', 'travelling', 'traverse', 'treat', 'treated', 'treating', 'treatment', 'treatments', 'tree', 'treeporn', 'trees', 'trek', 'trench', 'trend', 'trent', 'trfc', 'trial', 'trials', 'tribal', 'tribune', 'trick', 'tried', 'tries', 'triggered', 'trillion', 'trinity', 'trip', 'triple', 'tripledigit', 'troll', 'trolley', 'troops', 'tropical', 'trouble', 'troubling', 'troy', 'trs', 'trubgme', 'truck', 'trucks', 'true', 'truelove', 'truly', 'trump', 'trunk', 'trust', 'trusting', 'truth', 'truthnewsbbccnnislamtruthgodisisterrorismquranlies', 'try', 'trying', 'tryna', 'tryouts', 'ts', 'tsunami', 'tsunamiesh', 'tt', 'ttes', 'tube', 'tubestrike', 'tuesday', 'tumbling', 'tumblr', 'tune', 'tuned', 'tuning', 'tunnel', 'turbine', 'turkey', 'turkish', 'turn', 'turned', 'turning', 'turns', 'tutorial', 'tv', 'tweet', 'tweets', 'twentynine', 'twia', 'twice', 'twin', 'twins', 'twister', 'twitter', 'twovehicle', 'ty', 'tyler', 'type', 'types', 'typhoon', 'typhoondevastated', 'typical', 'typos', 'tyre', 'uber', 'ud', 'udhampur', 'uganda', 'ugh', 'ugly', 'uh', 'uk', 'ukraine', 'ultimalucha', 'ultimate', 'unavoidable', 'unawares', 'uncle', 'unconfirmed', 'undercover', 'undergroundrailraod', 'understand', 'understanding', 'underwater', 'underway', 'unfolded', 'unfortunately', 'unhappiness', 'uniform', 'uniforms', 'union', 'unions', 'unique', 'unit', 'united', 'units', 'unity', 'universe', 'university', 'unknown', 'unless', 'unlocked', 'unlocking', 'unnecessary', 'unprecedented', 'unr', 'unrelenting', 'unrest', 'unsafe', 'unsuckdcmetro', 'unto', 'unveiled', 'update', 'updated', 'updates', 'upgraded', 'upgrading', 'upheaval', 'uploading', 'upper', 'upset', 'upwards', 'ur', 'uranium', 'urgent', 'uribe', 'urs', 'usa', 'usagov', 'usatoday', 'use', 'used', 'user', 'users', 'uses', 'usgs', 'ushanka', 'ushed', 'using', 'usnwsgov', 'usual', 'usually', 'ut', 'utc', 'utter', 'utterly', 'utv', 'va', 'vabengal', 'vacant', 'vacation', 'val', 'valley', 'value', 'values', 'vampiro', 'van', 'vancouver', 'vantage', 'vanuatu', 'variety', 'various', 'vashon', 'vault', 've', 'vegas', 'vegetable', 'vegetarian', 'vehicle', 'vehicles', 'venezuela', 'venice', 'verdict', 'vermont', 'versethe', 'version', 'versions', 'vest', 'vet', 'veteran', 'veterans', 'vets', 'vgbootcamp', 'vi', 'vice', 'vicinity', 'victim', 'victims', 'victory', 'vid', 'vida', 'video', 'videos', 'videoveranomtv', 'vietnam', 'vietnamese', 'view', 'village', 'villagers', 'villages', 'vine', 'vintage', 'vinyl', 'violations', 'violence', 'violent', 'vip', 'viralspell', 'virgil', 'virgin', 'virus', 'visibility', 'vision', 'visit', 'visited', 'visits', 'visto', 'vital', 'vladimir', 'vocal', 'vods', 'voice', 'volcano', 'volcanoes', 'volcanoåêinåêrussia', 'volga', 'voluntary', 'voodoo', 'vote', 'voted', 'voter', 'voting', 'vs', 'vuitton', 'vulnerable', 'wa', 'waimate', 'waist', 'wait', 'waiting', 'waits', 'wake', 'waking', 'walerga', 'walk', 'walked', 'walker', 'walking', 'wall', 'walls', 'walmart', 'walter', 'wanna', 'wannabe', 'want', 'wanted', 'wanting', 'wants', 'war', 'warcraft', 'warfighting', 'warm', 'warming', 'warn', 'warne', 'warned', 'warning', 'warnings', 'warns', 'warrior', 'wars', 'warship', 'warships', 'wash', 'washed', 'washington', 'washingtonpost', 'wasnt', 'waste', 'watch', 'watched', 'watching', 'water', 'waterresistant', 'waters', 'watertown', 'waterways', 'wattle', 'wattpad', 'wave', 'waves', 'waving', 'way', 'wayne', 'ways', 'wb', 'wbioterrorismampuse', 'wce', 'wd', 'weak', 'weakening', 'weallheartonedirection', 'wealth', 'wealthy', 'weapon', 'weapons', 'wear', 'wearing', 'weather', 'weathernetwork', 'website', 'wed', 'wedding', 'wedn', 'wednesday', 'wednesdays', 'wee', 'weed', 'week', 'weekend', 'weekold', 'weeks', 'weighs', 'weight', 'weird', 'welcome', 'welfare', 'wen', 'went', 'werent', 'west', 'western', 'weston', 'wet', 'weve', 'weyreygidi', 'wftv', 'whale', 'whales', 'whao', 'whats', 'whatsapp', 'whatsmentioned', 'wheavenly', 'wheel', 'wheres', 'whipped', 'whirlwind', 'whistle', 'whitbourne', 'white', 'whitehouse', 'wholesale', 'whomever', 'whoops', 'whos', 'wht', 'wi', 'wicked', 'wide', 'widespread', 'wife', 'wild', 'wildfire', 'wildfires', 'wildhorses', 'william', 'williams', 'willing', 'wilshere', 'win', 'wind', 'window', 'windows', 'winds', 'windstorm', 'windy', 'wine', 'wing', 'wings', 'winner', 'winning', 'wins', 'winston', 'winter', 'wipp', 'wire', 'wired', 'wireless', 'wish', 'wit', 'wither', 'witness', 'witter', 'wmata', 'wnd', 'wo', 'wocowae', 'wod', 'woke', 'wolf', 'wom', 'woman', 'women', 'womens', 'won', 'wonder', 'wonderful', 'wondering', 'wont', 'wood', 'woods', 'word', 'wordpressdotcom', 'words', 'work', 'worked', 'worker', 'workers', 'working', 'workout', 'workplace', 'works', 'world', 'worldnetdaily', 'worldnews', 'worlds', 'worldwide', 'worn', 'worried', 'worries', 'worry', 'worrying', 'worse', 'worst', 'worstsummerjob', 'worth', 'wouldelectrocute', 'wouldn', 'wouldnt', 'wouldve', 'wound', 'wounded', 'wounds', 'wow', 'wowo', 'wrap', 'wrapped', 'wrapup', 'wreck', 'wreckage', 'wrecked', 'wrist', 'write', 'writer', 'writing', 'written', 'wrong', 'wrought', 'wtf', 'wud', 'wwe', 'wwi', 'wwii', 'wx', 'wy', 'xbox', 'xd', 'xoxo', 'xp', 'xv', 'xxx', 'ya', 'yahistorical', 'yahoo', 'yahoonews', 'yall', 'yankees', 'yay', 'yazidi', 'yazidis', 'yea', 'yeah', 'year', 'years', 'yelling', 'yellow', 'yemen', 'yep', 'yes', 'yesterday', 'yesterdays', 'yo', 'yobe', 'yonews', 'york', 'yorker', 'youd', 'yougov', 'youll', 'young', 'youngheroesid', 'youre', 'youth', 'youtube', 'youve', 'ypres', 'yr', 'yrs', 'yugvani', 'yyc', 'yycstorm', 'zakbagans', 'zarry', 'zayn', 'zaynmalik', 'zimbabwe', 'zionism', 'zionist', 'zippednews', 'zombie', 'zone', 'zouma', 'zss', 'åç', 'åè', 'åê', 'åêdemolition', 'ûª', 'ûªd', 'ûªll', 'ûªm', 'ûªre', 'ûªs', 'ûªt', 'ûªve', 'ûï', 'ûïa', 'ûïhannaph', 'ûïhatchet', 'ûïrichmond', 'ûïstretcher', 'ûïthe', 'ûïwe', 'ûïwhen', 'ûïyou', 'ûò', 'ûó']\n"
          ],
          "name": "stdout"
        },
        {
          "output_type": "execute_result",
          "data": {
            "text/plain": [
              "5982"
            ]
          },
          "metadata": {
            "tags": []
          },
          "execution_count": 192
        }
      ]
    },
    {
      "cell_type": "code",
      "metadata": {
        "id": "4J5fa5tWbH1Y",
        "colab_type": "code",
        "colab": {}
      },
      "source": [
        "X = X.toarray()"
      ],
      "execution_count": 0,
      "outputs": []
    },
    {
      "cell_type": "code",
      "metadata": {
        "id": "aAp-IF7HbJV4",
        "colab_type": "code",
        "colab": {
          "base_uri": "https://localhost:8080/",
          "height": 35
        },
        "outputId": "ac0dc14c-b123-4c0e-ffaa-6489dec21455"
      },
      "source": [
        "X.shape"
      ],
      "execution_count": 194,
      "outputs": [
        {
          "output_type": "execute_result",
          "data": {
            "text/plain": [
              "(7613, 5982)"
            ]
          },
          "metadata": {
            "tags": []
          },
          "execution_count": 194
        }
      ]
    },
    {
      "cell_type": "markdown",
      "metadata": {
        "id": "z6iHd1dubOtF",
        "colab_type": "text"
      },
      "source": [
        "Now, we will split our training dataset into train and test, so that we can build our model on the training portion and test on the validation portion."
      ]
    },
    {
      "cell_type": "code",
      "metadata": {
        "id": "P2SWmJkVbUB_",
        "colab_type": "code",
        "colab": {}
      },
      "source": [
        "y = train_df['target']\n",
        "\n",
        "X_train, X_test, y_train, y_test = train_test_split(X, y, test_size=0.2, random_state=113)"
      ],
      "execution_count": 0,
      "outputs": []
    },
    {
      "cell_type": "markdown",
      "metadata": {
        "id": "Q-sicKfGb1Cb",
        "colab_type": "text"
      },
      "source": [
        "Once we have split our data into train and test set, we will use a Naive Bayes classifier. Naive bayes is a good chocie for a medium-sized dataset and it is traditionally used in NLP.  We are going to use Multinomial NB as it is suitable for classification with discrete features. We will use GridSeachCV to look for optimal alpha for our model, and will use 5 folds for cross-validtion."
      ]
    },
    {
      "cell_type": "code",
      "metadata": {
        "id": "0dpLyDLCc7uQ",
        "colab_type": "code",
        "colab": {
          "base_uri": "https://localhost:8080/",
          "height": 191
        },
        "outputId": "eecd9837-72dd-4c30-efd1-67901b3bc825"
      },
      "source": [
        "#list of alphas we are going to try\n",
        "alpha_list = np.linspace(1, 100, 100)\n",
        "alpha_list"
      ],
      "execution_count": 196,
      "outputs": [
        {
          "output_type": "execute_result",
          "data": {
            "text/plain": [
              "array([  1.,   2.,   3.,   4.,   5.,   6.,   7.,   8.,   9.,  10.,  11.,\n",
              "        12.,  13.,  14.,  15.,  16.,  17.,  18.,  19.,  20.,  21.,  22.,\n",
              "        23.,  24.,  25.,  26.,  27.,  28.,  29.,  30.,  31.,  32.,  33.,\n",
              "        34.,  35.,  36.,  37.,  38.,  39.,  40.,  41.,  42.,  43.,  44.,\n",
              "        45.,  46.,  47.,  48.,  49.,  50.,  51.,  52.,  53.,  54.,  55.,\n",
              "        56.,  57.,  58.,  59.,  60.,  61.,  62.,  63.,  64.,  65.,  66.,\n",
              "        67.,  68.,  69.,  70.,  71.,  72.,  73.,  74.,  75.,  76.,  77.,\n",
              "        78.,  79.,  80.,  81.,  82.,  83.,  84.,  85.,  86.,  87.,  88.,\n",
              "        89.,  90.,  91.,  92.,  93.,  94.,  95.,  96.,  97.,  98.,  99.,\n",
              "       100.])"
            ]
          },
          "metadata": {
            "tags": []
          },
          "execution_count": 196
        }
      ]
    },
    {
      "cell_type": "code",
      "metadata": {
        "id": "saJG_aL2dUcS",
        "colab_type": "code",
        "colab": {}
      },
      "source": [
        "parameter_grid = [{\"alpha\":alpha_list}]"
      ],
      "execution_count": 0,
      "outputs": []
    },
    {
      "cell_type": "code",
      "metadata": {
        "id": "-zNFqeiUdVlt",
        "colab_type": "code",
        "colab": {
          "base_uri": "https://localhost:8080/",
          "height": 295
        },
        "outputId": "558208e3-809f-49af-e671-53a60464a288"
      },
      "source": [
        "clf= MultinomialNB()\n",
        "gridsearch = GridSearchCV(clf,parameter_grid, scoring = 'neg_log_loss', cv = 5)\n",
        "gridsearch.fit(X_train, y_train)"
      ],
      "execution_count": 198,
      "outputs": [
        {
          "output_type": "execute_result",
          "data": {
            "text/plain": [
              "GridSearchCV(cv=5, error_score=nan,\n",
              "             estimator=MultinomialNB(alpha=1.0, class_prior=None,\n",
              "                                     fit_prior=True),\n",
              "             iid='deprecated', n_jobs=None,\n",
              "             param_grid=[{'alpha': array([  1.,   2.,   3.,   4.,   5.,   6.,   7.,   8.,   9.,  10.,  11.,\n",
              "        12.,  13.,  14.,  15.,  16.,  17.,  18.,  19.,  20.,  21.,  22.,\n",
              "        23.,  24.,  25.,  26.,  27.,  28.,  29.,  30.,  31.,  32.,  33.,\n",
              "        34.,  35.,  36.,  37.,  38.,  39.,  40.,  41.,  42.,  43.,  44.,\n",
              "        45.,  46.,  47.,  48.,  49.,  50.,  51.,  52.,  53.,  54.,  55.,\n",
              "        56.,  57.,  58.,  59.,  60.,  61.,  62.,  63.,  64.,  65.,  66.,\n",
              "        67.,  68.,  69.,  70.,  71.,  72.,  73.,  74.,  75.,  76.,  77.,\n",
              "        78.,  79.,  80.,  81.,  82.,  83.,  84.,  85.,  86.,  87.,  88.,\n",
              "        89.,  90.,  91.,  92.,  93.,  94.,  95.,  96.,  97.,  98.,  99.,\n",
              "       100.])}],\n",
              "             pre_dispatch='2*n_jobs', refit=True, return_train_score=False,\n",
              "             scoring='neg_log_loss', verbose=0)"
            ]
          },
          "metadata": {
            "tags": []
          },
          "execution_count": 198
        }
      ]
    },
    {
      "cell_type": "code",
      "metadata": {
        "id": "HVjYXGbmg_in",
        "colab_type": "code",
        "colab": {
          "base_uri": "https://localhost:8080/",
          "height": 388
        },
        "outputId": "cf3c84b3-0177-4ea5-da23-5d2875ea6055"
      },
      "source": [
        "import matplotlib\n",
        "results = pd.DataFrame()\n",
        "# collect alpha list\n",
        "results['alpha'] = gridsearch.cv_results_['param_alpha'].data\n",
        "# collect test scores\n",
        "results['neglogloss'] = gridsearch.cv_results_['mean_test_score'].data\n",
        "matplotlib.rcParams['figure.figsize'] = (12.0, 6.0)\n",
        "plt.plot(results['alpha'], -results['neglogloss'])\n",
        "plt.xlabel('alpha')\n",
        "plt.ylabel('logloss')\n",
        "plt.grid()"
      ],
      "execution_count": 199,
      "outputs": [
        {
          "output_type": "display_data",
          "data": {
            "image/png": "[encoded data removed]",
            "text/plain": [
              "<Figure size 864x432 with 1 Axes>"
            ]
          },
          "metadata": {
            "tags": [],
            "needs_background": "light"
          }
        }
      ]
    },
    {
      "cell_type": "code",
      "metadata": {
        "id": "I7u4gZKChIhD",
        "colab_type": "code",
        "colab": {
          "base_uri": "https://localhost:8080/",
          "height": 35
        },
        "outputId": "8ad53e86-6a74-430c-bd68-5b66f1d6897e"
      },
      "source": [
        "print(\"Best parameter: \",gridsearch.best_params_)"
      ],
      "execution_count": 200,
      "outputs": [
        {
          "output_type": "stream",
          "text": [
            "Best parameter:  {'alpha': 15.0}\n"
          ],
          "name": "stdout"
        }
      ]
    },
    {
      "cell_type": "code",
      "metadata": {
        "id": "9rjNFusuhL42",
        "colab_type": "code",
        "colab": {
          "base_uri": "https://localhost:8080/",
          "height": 35
        },
        "outputId": "96c446bd-5011-4e7a-c573-ef41e0ca523f"
      },
      "source": [
        "print(\"Best score: \",gridsearch.best_score_) "
      ],
      "execution_count": 201,
      "outputs": [
        {
          "output_type": "stream",
          "text": [
            "Best score:  -0.47939031176439767\n"
          ],
          "name": "stdout"
        }
      ]
    },
    {
      "cell_type": "code",
      "metadata": {
        "id": "Omdd8VSghU3u",
        "colab_type": "code",
        "colab": {
          "base_uri": "https://localhost:8080/",
          "height": 277
        },
        "outputId": "f7afb7f9-c4e2-4b81-f50c-812a42e687e8"
      },
      "source": [
        "alpha_list2 = np.linspace(13, 18, 100)\n",
        "parameter_grid2 = [{\"alpha\":alpha_list2}]\n",
        "clf= MultinomialNB()\n",
        "gridsearch2 = GridSearchCV(clf,parameter_grid2, scoring = 'neg_log_loss', cv = 5)\n",
        "gridsearch2.fit(X_train, y_train)"
      ],
      "execution_count": 202,
      "outputs": [
        {
          "output_type": "execute_result",
          "data": {
            "text/plain": [
              "GridSearchCV(cv=5, error_score=nan,\n",
              "             estimator=MultinomialNB(alpha=1.0, class_prior=None,\n",
              "                                     fit_prior=True),\n",
              "             iid='deprecated', n_jobs=None,\n",
              "             param_grid=[{'alpha': array([13.        , 13.05050505, 13.1010101 , 13.15151515, 13.2020202 ,\n",
              "       13.25252525, 13.3030303 , 13.35353535, 13.4040404 , 13.45454545,\n",
              "       13.50505051, 13.55555556, 13.60606061, 13.65656566, 13.70707071,\n",
              "       13.75757576, 13.80808081,...\n",
              "       16.78787879, 16.83838384, 16.88888889, 16.93939394, 16.98989899,\n",
              "       17.04040404, 17.09090909, 17.14141414, 17.19191919, 17.24242424,\n",
              "       17.29292929, 17.34343434, 17.39393939, 17.44444444, 17.49494949,\n",
              "       17.54545455, 17.5959596 , 17.64646465, 17.6969697 , 17.74747475,\n",
              "       17.7979798 , 17.84848485, 17.8989899 , 17.94949495, 18.        ])}],\n",
              "             pre_dispatch='2*n_jobs', refit=True, return_train_score=False,\n",
              "             scoring='neg_log_loss', verbose=0)"
            ]
          },
          "metadata": {
            "tags": []
          },
          "execution_count": 202
        }
      ]
    },
    {
      "cell_type": "code",
      "metadata": {
        "id": "EgvXTE2ijSWJ",
        "colab_type": "code",
        "colab": {
          "base_uri": "https://localhost:8080/",
          "height": 388
        },
        "outputId": "3f6de1f9-b9af-4e2d-ae13-425121a854c4"
      },
      "source": [
        "results2 = pd.DataFrame()\n",
        "# collect alpha list\n",
        "results2['alpha'] = gridsearch2.cv_results_['param_alpha'].data\n",
        "# collect test scores\n",
        "results2['neglogloss'] = gridsearch2.cv_results_['mean_test_score'].data\n",
        "matplotlib.rcParams['figure.figsize'] = (12.0, 6.0)\n",
        "plt.plot(results2['alpha'], -results2['neglogloss'])\n",
        "plt.xlabel('alpha')\n",
        "plt.ylabel('logloss')\n",
        "plt.grid()"
      ],
      "execution_count": 203,
      "outputs": [
        {
          "output_type": "display_data",
          "data": {
            "image/png": "[encoded data removed]",
            "text/plain": [
              "<Figure size 864x432 with 1 Axes>"
            ]
          },
          "metadata": {
            "tags": [],
            "needs_background": "light"
          }
        }
      ]
    },
    {
      "cell_type": "code",
      "metadata": {
        "id": "1aVQ7sY4jc24",
        "colab_type": "code",
        "colab": {
          "base_uri": "https://localhost:8080/",
          "height": 35
        },
        "outputId": "6c95fd7e-8fba-47f5-d6a7-a9112ad33625"
      },
      "source": [
        "print(\"Best parameter: \",gridsearch2.best_params_)"
      ],
      "execution_count": 204,
      "outputs": [
        {
          "output_type": "stream",
          "text": [
            "Best parameter:  {'alpha': 14.616161616161616}\n"
          ],
          "name": "stdout"
        }
      ]
    },
    {
      "cell_type": "code",
      "metadata": {
        "id": "vW6AswtZjfYo",
        "colab_type": "code",
        "colab": {
          "base_uri": "https://localhost:8080/",
          "height": 35
        },
        "outputId": "f90b1c74-77fc-4feb-822a-2bc25aa99277"
      },
      "source": [
        "print(\"Best score: \",gridsearch.best_score_) "
      ],
      "execution_count": 205,
      "outputs": [
        {
          "output_type": "stream",
          "text": [
            "Best score:  -0.47939031176439767\n"
          ],
          "name": "stdout"
        }
      ]
    },
    {
      "cell_type": "code",
      "metadata": {
        "id": "IrOMGjKGjjoH",
        "colab_type": "code",
        "colab": {
          "base_uri": "https://localhost:8080/",
          "height": 35
        },
        "outputId": "fa98f74f-1981-4e04-fca2-c8cce0bebc9f"
      },
      "source": [
        "clf= MultinomialNB(alpha=15.3)\n",
        "clf.fit(X_train,y_train)"
      ],
      "execution_count": 206,
      "outputs": [
        {
          "output_type": "execute_result",
          "data": {
            "text/plain": [
              "MultinomialNB(alpha=15.3, class_prior=None, fit_prior=True)"
            ]
          },
          "metadata": {
            "tags": []
          },
          "execution_count": 206
        }
      ]
    },
    {
      "cell_type": "code",
      "metadata": {
        "id": "T7gl3777jpDh",
        "colab_type": "code",
        "colab": {}
      },
      "source": [
        "y_predictions = clf.predict(X_test)"
      ],
      "execution_count": 0,
      "outputs": []
    },
    {
      "cell_type": "code",
      "metadata": {
        "id": "EB5MeBoIjs8D",
        "colab_type": "code",
        "colab": {
          "base_uri": "https://localhost:8080/",
          "height": 173
        },
        "outputId": "5d0befe0-3e71-4ef0-fbf1-71b7e454f474"
      },
      "source": [
        "print(classification_report(y_test,y_predictions))"
      ],
      "execution_count": 208,
      "outputs": [
        {
          "output_type": "stream",
          "text": [
            "              precision    recall  f1-score   support\n",
            "\n",
            "           0       0.77      0.88      0.82       845\n",
            "           1       0.82      0.67      0.74       678\n",
            "\n",
            "    accuracy                           0.79      1523\n",
            "   macro avg       0.79      0.77      0.78      1523\n",
            "weighted avg       0.79      0.79      0.78      1523\n",
            "\n"
          ],
          "name": "stdout"
        }
      ]
    },
    {
      "cell_type": "code",
      "metadata": {
        "id": "xUKUZW5LkDHR",
        "colab_type": "code",
        "colab": {
          "base_uri": "https://localhost:8080/",
          "height": 52
        },
        "outputId": "f3ed334b-9d8a-4fa6-c321-fd5f160afb22"
      },
      "source": [
        "cf_matrix = confusion_matrix(y_test,y_predictions)\n",
        "cf_matrix"
      ],
      "execution_count": 209,
      "outputs": [
        {
          "output_type": "execute_result",
          "data": {
            "text/plain": [
              "array([[745, 100],\n",
              "       [225, 453]])"
            ]
          },
          "metadata": {
            "tags": []
          },
          "execution_count": 209
        }
      ]
    },
    {
      "cell_type": "code",
      "metadata": {
        "id": "UOMCEMElkPw7",
        "colab_type": "code",
        "colab": {
          "base_uri": "https://localhost:8080/",
          "height": 35
        },
        "outputId": "cc3e6485-628e-4f7b-d400-591fb55f5f9f"
      },
      "source": [
        "accuracy_score(y_test,y_predictions)"
      ],
      "execution_count": 210,
      "outputs": [
        {
          "output_type": "execute_result",
          "data": {
            "text/plain": [
              "0.7866053841103086"
            ]
          },
          "metadata": {
            "tags": []
          },
          "execution_count": 210
        }
      ]
    },
    {
      "cell_type": "markdown",
      "metadata": {
        "id": "4nGEEchp5ca6",
        "colab_type": "text"
      },
      "source": [
        "Now, let's test our model on our test data! First, we will apply the same cleaning process on the test set, just as we did on the train set\n"
      ]
    },
    {
      "cell_type": "code",
      "metadata": {
        "id": "i_5gZflE5kk-",
        "colab_type": "code",
        "colab": {
          "base_uri": "https://localhost:8080/",
          "height": 202
        },
        "outputId": "fa8ccf93-0e8a-4b80-b610-828e8cc731d7"
      },
      "source": [
        "test_df.head()"
      ],
      "execution_count": 212,
      "outputs": [
        {
          "output_type": "execute_result",
          "data": {
            "text/html": [
              "<div>\n",
              "<style scoped>\n",
              "    .dataframe tbody tr th:only-of-type {\n",
              "        vertical-align: middle;\n",
              "    }\n",
              "\n",
              "    .dataframe tbody tr th {\n",
              "        vertical-align: top;\n",
              "    }\n",
              "\n",
              "    .dataframe thead th {\n",
              "        text-align: right;\n",
              "    }\n",
              "</style>\n",
              "<table border=\"1\" class=\"dataframe\">\n",
              "  <thead>\n",
              "    <tr style=\"text-align: right;\">\n",
              "      <th></th>\n",
              "      <th>id</th>\n",
              "      <th>keyword</th>\n",
              "      <th>location</th>\n",
              "      <th>text</th>\n",
              "    </tr>\n",
              "  </thead>\n",
              "  <tbody>\n",
              "    <tr>\n",
              "      <th>0</th>\n",
              "      <td>0</td>\n",
              "      <td>NaN</td>\n",
              "      <td>NaN</td>\n",
              "      <td>Just happened a terrible car crash</td>\n",
              "    </tr>\n",
              "    <tr>\n",
              "      <th>1</th>\n",
              "      <td>2</td>\n",
              "      <td>NaN</td>\n",
              "      <td>NaN</td>\n",
              "      <td>Heard about #earthquake is different cities, s...</td>\n",
              "    </tr>\n",
              "    <tr>\n",
              "      <th>2</th>\n",
              "      <td>3</td>\n",
              "      <td>NaN</td>\n",
              "      <td>NaN</td>\n",
              "      <td>there is a forest fire at spot pond, geese are...</td>\n",
              "    </tr>\n",
              "    <tr>\n",
              "      <th>3</th>\n",
              "      <td>9</td>\n",
              "      <td>NaN</td>\n",
              "      <td>NaN</td>\n",
              "      <td>Apocalypse lighting. #Spokane #wildfires</td>\n",
              "    </tr>\n",
              "    <tr>\n",
              "      <th>4</th>\n",
              "      <td>11</td>\n",
              "      <td>NaN</td>\n",
              "      <td>NaN</td>\n",
              "      <td>Typhoon Soudelor kills 28 in China and Taiwan</td>\n",
              "    </tr>\n",
              "  </tbody>\n",
              "</table>\n",
              "</div>"
            ],
            "text/plain": [
              "   id keyword location                                               text\n",
              "0   0     NaN      NaN                 Just happened a terrible car crash\n",
              "1   2     NaN      NaN  Heard about #earthquake is different cities, s...\n",
              "2   3     NaN      NaN  there is a forest fire at spot pond, geese are...\n",
              "3   9     NaN      NaN           Apocalypse lighting. #Spokane #wildfires\n",
              "4  11     NaN      NaN      Typhoon Soudelor kills 28 in China and Taiwan"
            ]
          },
          "metadata": {
            "tags": []
          },
          "execution_count": 212
        }
      ]
    },
    {
      "cell_type": "code",
      "metadata": {
        "id": "KdWqgr-z5r7i",
        "colab_type": "code",
        "colab": {}
      },
      "source": [
        "test_df['text'] = test_df['text'].apply(lambda x : remove_URL(x))\n",
        "test_df['text'] = test_df[\"text\"].apply(lambda x: remove_html(x))\n",
        "test_df['text'] = test_df[\"text\"].apply(lambda x: remove_emoji(x))\n",
        "test_df['text'] = test_df[\"text\"].apply(lambda x: remove_punctuation(x))\n",
        "test_df['text'] = test_df['text'].apply(lambda x : clean_text(x))"
      ],
      "execution_count": 0,
      "outputs": []
    },
    {
      "cell_type": "code",
      "metadata": {
        "id": "9SLeEGY26F6E",
        "colab_type": "code",
        "colab": {}
      },
      "source": [
        "X_test =  count_vectorizer.transform(list(test_df['text']))\n",
        "X_test = X_test.toarray()"
      ],
      "execution_count": 0,
      "outputs": []
    },
    {
      "cell_type": "code",
      "metadata": {
        "id": "_Knk6xy76MSJ",
        "colab_type": "code",
        "colab": {}
      },
      "source": [
        "y_predictions_test = clf.predict(X_test)"
      ],
      "execution_count": 0,
      "outputs": []
    },
    {
      "cell_type": "code",
      "metadata": {
        "id": "ML3t64oc6kaG",
        "colab_type": "code",
        "colab": {}
      },
      "source": [
        "output = pd.DataFrame(test_df.id[:3263])\n",
        "output['target'] = y_predictions_test"
      ],
      "execution_count": 0,
      "outputs": []
    },
    {
      "cell_type": "code",
      "metadata": {
        "id": "2tiYA-xf6s7g",
        "colab_type": "code",
        "colab": {}
      },
      "source": [
        "output.to_csv('nlp_countvect.csv', index=False)"
      ],
      "execution_count": 0,
      "outputs": []
    },
    {
      "cell_type": "markdown",
      "metadata": {
        "id": "RFeh5ba48TMq",
        "colab_type": "text"
      },
      "source": [
        "### 4.2 TFIDF + multinomialNB\n",
        "\n",
        "Now, let's look into a better approach for text processing, an embedding technique called tf-idf. "
      ]
    },
    {
      "cell_type": "code",
      "metadata": {
        "id": "W8E_Y2-YO_oA",
        "colab_type": "code",
        "colab": {}
      },
      "source": [
        "tfidf_vectorizer = TfidfVectorizer(max_df = 0.95, min_df = 2, stop_words = 'english')"
      ],
      "execution_count": 0,
      "outputs": []
    },
    {
      "cell_type": "code",
      "metadata": {
        "id": "VtJPDfLXPHF4",
        "colab_type": "code",
        "colab": {}
      },
      "source": [
        "X_tfidf = train_df['text']\n",
        "y_tfidf = train_df['target']\n",
        "X_train_tfidf, X_test_tfidf, y_train_tfidf, y_test_tfidf = train_test_split(X_tfidf, y_tfidf, test_size=0.2, random_state=113)"
      ],
      "execution_count": 0,
      "outputs": []
    },
    {
      "cell_type": "code",
      "metadata": {
        "id": "43rxgdPePYnj",
        "colab_type": "code",
        "colab": {}
      },
      "source": [
        "X_train_tfidf = tfidf_vectorizer.fit_transform(X_train_tfidf)"
      ],
      "execution_count": 0,
      "outputs": []
    },
    {
      "cell_type": "code",
      "metadata": {
        "id": "apqMLDDNPelr",
        "colab_type": "code",
        "colab": {}
      },
      "source": [
        "X_test_tfidf = tfidf_vectorizer.transform(X_test_tfidf)"
      ],
      "execution_count": 0,
      "outputs": []
    },
    {
      "cell_type": "code",
      "metadata": {
        "id": "j0uQuTS5PiXr",
        "colab_type": "code",
        "colab": {
          "base_uri": "https://localhost:8080/",
          "height": 277
        },
        "outputId": "7a3a9b20-9d7c-4993-ef9f-96f9c66531f1"
      },
      "source": [
        "alpha_list_tfidf =  np.linspace(0.001, 2, 100)\n",
        "parameter_grid1 = [{\"alpha\":alpha_list_tfidf}]\n",
        "clf_mnb = MultinomialNB()\n",
        "gridsearch1 = GridSearchCV(clf_mnb,parameter_grid1, scoring = 'neg_log_loss', cv = 5)\n",
        "gridsearch1.fit(X_train_tfidf, y_train_tfidf)"
      ],
      "execution_count": 304,
      "outputs": [
        {
          "output_type": "execute_result",
          "data": {
            "text/plain": [
              "GridSearchCV(cv=5, error_score=nan,\n",
              "             estimator=MultinomialNB(alpha=1.0, class_prior=None,\n",
              "                                     fit_prior=True),\n",
              "             iid='deprecated', n_jobs=None,\n",
              "             param_grid=[{'alpha': array([1.00000000e-03, 2.11919192e-02, 4.13838384e-02, 6.15757576e-02,\n",
              "       8.17676768e-02, 1.01959596e-01, 1.22151515e-01, 1.42343434e-01,\n",
              "       1.62535354e-01, 1.82727273e-01, 2.02919192e-01, 2.23111111e-01,\n",
              "       2.43303030e-...\n",
              "       1.61635354e+00, 1.63654545e+00, 1.65673737e+00, 1.67692929e+00,\n",
              "       1.69712121e+00, 1.71731313e+00, 1.73750505e+00, 1.75769697e+00,\n",
              "       1.77788889e+00, 1.79808081e+00, 1.81827273e+00, 1.83846465e+00,\n",
              "       1.85865657e+00, 1.87884848e+00, 1.89904040e+00, 1.91923232e+00,\n",
              "       1.93942424e+00, 1.95961616e+00, 1.97980808e+00, 2.00000000e+00])}],\n",
              "             pre_dispatch='2*n_jobs', refit=True, return_train_score=False,\n",
              "             scoring='neg_log_loss', verbose=0)"
            ]
          },
          "metadata": {
            "tags": []
          },
          "execution_count": 304
        }
      ]
    },
    {
      "cell_type": "code",
      "metadata": {
        "id": "yNHTm1ZXPrSV",
        "colab_type": "code",
        "colab": {
          "base_uri": "https://localhost:8080/",
          "height": 390
        },
        "outputId": "99568696-a931-4d72-9378-75585da4b5b7"
      },
      "source": [
        "results_tfidf = pd.DataFrame()\n",
        "# collect alpha list\n",
        "results_tfidf['alpha'] = gridsearch1.cv_results_['param_alpha'].data\n",
        "# collect test scores\n",
        "results_tfidf['neglogloss'] = gridsearch1.cv_results_['mean_test_score'].data\n",
        "matplotlib.rcParams['figure.figsize'] = (12.0, 6.0)\n",
        "plt.plot(results_tfidf['alpha'], -results_tfidf['neglogloss'])\n",
        "plt.xlabel('alpha')\n",
        "plt.ylabel('logloss')\n",
        "plt.grid()"
      ],
      "execution_count": 305,
      "outputs": [
        {
          "output_type": "display_data",
          "data": {
            "image/png": "[encoded data removed]",
            "text/plain": [
              "<Figure size 864x432 with 1 Axes>"
            ]
          },
          "metadata": {
            "tags": [],
            "needs_background": "light"
          }
        }
      ]
    },
    {
      "cell_type": "code",
      "metadata": {
        "id": "58FvlB1GP8K1",
        "colab_type": "code",
        "colab": {
          "base_uri": "https://localhost:8080/",
          "height": 277
        },
        "outputId": "21b4791b-8990-4f35-8915-176cbaf8921d"
      },
      "source": [
        "alpha_list_tfidf2 =  np.linspace(0.2, 1, 100)\n",
        "parameter_grid2 = [{\"alpha\":alpha_list_tfidf2}]\n",
        "clf_mnb = MultinomialNB()\n",
        "gridsearch2 = GridSearchCV(clf,parameter_grid2, scoring = 'neg_log_loss', cv = 5)\n",
        "gridsearch2.fit(X_train_tfidf, y_train_tfidf)"
      ],
      "execution_count": 306,
      "outputs": [
        {
          "output_type": "execute_result",
          "data": {
            "text/plain": [
              "GridSearchCV(cv=5, error_score=nan,\n",
              "             estimator=MultinomialNB(alpha=1.0, class_prior=None,\n",
              "                                     fit_prior=True),\n",
              "             iid='deprecated', n_jobs=None,\n",
              "             param_grid=[{'alpha': array([0.2       , 0.20808081, 0.21616162, 0.22424242, 0.23232323,\n",
              "       0.24040404, 0.24848485, 0.25656566, 0.26464646, 0.27272727,\n",
              "       0.28080808, 0.28888889, 0.2969697 , 0.30505051, 0.31313131,\n",
              "       0.32121212, 0.32929293, 0.33737374, 0....\n",
              "       0.80606061, 0.81414141, 0.82222222, 0.83030303, 0.83838384,\n",
              "       0.84646465, 0.85454545, 0.86262626, 0.87070707, 0.87878788,\n",
              "       0.88686869, 0.89494949, 0.9030303 , 0.91111111, 0.91919192,\n",
              "       0.92727273, 0.93535354, 0.94343434, 0.95151515, 0.95959596,\n",
              "       0.96767677, 0.97575758, 0.98383838, 0.99191919, 1.        ])}],\n",
              "             pre_dispatch='2*n_jobs', refit=True, return_train_score=False,\n",
              "             scoring='neg_log_loss', verbose=0)"
            ]
          },
          "metadata": {
            "tags": []
          },
          "execution_count": 306
        }
      ]
    },
    {
      "cell_type": "code",
      "metadata": {
        "id": "d0CzP4utQEhW",
        "colab_type": "code",
        "colab": {
          "base_uri": "https://localhost:8080/",
          "height": 388
        },
        "outputId": "e63b7574-cbf5-41a4-a1d6-1e71419efa69"
      },
      "source": [
        "results_tfidf2 = pd.DataFrame()\n",
        "# collect alpha list\n",
        "results_tfidf2['alpha'] = gridsearch2.cv_results_['param_alpha'].data\n",
        "# collect test scores\n",
        "results_tfidf2['neglogloss'] = gridsearch2.cv_results_['mean_test_score'].data\n",
        "matplotlib.rcParams['figure.figsize'] = (12.0, 6.0)\n",
        "plt.plot(results_tfidf2['alpha'], -results_tfidf2['neglogloss'])\n",
        "plt.xlabel('alpha')\n",
        "plt.ylabel('logloss')\n",
        "plt.grid()"
      ],
      "execution_count": 307,
      "outputs": [
        {
          "output_type": "display_data",
          "data": {
            "image/png": "[encoded data removed]",
            "text/plain": [
              "<Figure size 864x432 with 1 Axes>"
            ]
          },
          "metadata": {
            "tags": [],
            "needs_background": "light"
          }
        }
      ]
    },
    {
      "cell_type": "code",
      "metadata": {
        "id": "GZuPKtarQTqQ",
        "colab_type": "code",
        "colab": {
          "base_uri": "https://localhost:8080/",
          "height": 35
        },
        "outputId": "618ad661-34f7-46e9-ac6b-983e82be5625"
      },
      "source": [
        "print(\"Best score: \",gridsearch2.best_score_) "
      ],
      "execution_count": 308,
      "outputs": [
        {
          "output_type": "stream",
          "text": [
            "Best score:  -0.45822161382622645\n"
          ],
          "name": "stdout"
        }
      ]
    },
    {
      "cell_type": "code",
      "metadata": {
        "id": "6EIyUou6QVWc",
        "colab_type": "code",
        "colab": {
          "base_uri": "https://localhost:8080/",
          "height": 35
        },
        "outputId": "f46143df-65c6-46a0-9c9c-445158e30b09"
      },
      "source": [
        "print(\"Best parameter: \",gridsearch2.best_params_)"
      ],
      "execution_count": 309,
      "outputs": [
        {
          "output_type": "stream",
          "text": [
            "Best parameter:  {'alpha': 0.5717171717171717}\n"
          ],
          "name": "stdout"
        }
      ]
    },
    {
      "cell_type": "code",
      "metadata": {
        "id": "ZEm8YV67QaFC",
        "colab_type": "code",
        "colab": {
          "base_uri": "https://localhost:8080/",
          "height": 35
        },
        "outputId": "ffc08009-7007-4cc0-d829-9e70636a3845"
      },
      "source": [
        "clf_mnb = MultinomialNB(alpha=0.57)\n",
        "clf_mnb.fit(X_train_tfidf,y_train_tfidf)"
      ],
      "execution_count": 310,
      "outputs": [
        {
          "output_type": "execute_result",
          "data": {
            "text/plain": [
              "MultinomialNB(alpha=0.57, class_prior=None, fit_prior=True)"
            ]
          },
          "metadata": {
            "tags": []
          },
          "execution_count": 310
        }
      ]
    },
    {
      "cell_type": "code",
      "metadata": {
        "id": "nLFIQhhQQhMg",
        "colab_type": "code",
        "colab": {
          "base_uri": "https://localhost:8080/",
          "height": 173
        },
        "outputId": "b0b24fc0-4d76-477c-c51e-b03bc068f6e1"
      },
      "source": [
        "y_predictions_tfidf = clf_mnb.predict(X_test_tfidf)\n",
        "print(classification_report(y_test_tfidf,y_predictions_tfidf))"
      ],
      "execution_count": 311,
      "outputs": [
        {
          "output_type": "stream",
          "text": [
            "              precision    recall  f1-score   support\n",
            "\n",
            "           0       0.77      0.87      0.82       845\n",
            "           1       0.81      0.68      0.74       678\n",
            "\n",
            "    accuracy                           0.78      1523\n",
            "   macro avg       0.79      0.77      0.78      1523\n",
            "weighted avg       0.79      0.78      0.78      1523\n",
            "\n"
          ],
          "name": "stdout"
        }
      ]
    },
    {
      "cell_type": "code",
      "metadata": {
        "id": "4OPUwD7MQpJU",
        "colab_type": "code",
        "colab": {
          "base_uri": "https://localhost:8080/",
          "height": 52
        },
        "outputId": "40e48b12-64de-4bdd-9a1b-d82a4a42ae78"
      },
      "source": [
        "cf_matrix_tfidf = confusion_matrix(y_test_tfidf,y_predictions_tfidf)\n",
        "cf_matrix_tfidf"
      ],
      "execution_count": 312,
      "outputs": [
        {
          "output_type": "execute_result",
          "data": {
            "text/plain": [
              "array([[735, 110],\n",
              "       [219, 459]])"
            ]
          },
          "metadata": {
            "tags": []
          },
          "execution_count": 312
        }
      ]
    },
    {
      "cell_type": "code",
      "metadata": {
        "id": "iCv6owPIQ0RX",
        "colab_type": "code",
        "colab": {
          "base_uri": "https://localhost:8080/",
          "height": 35
        },
        "outputId": "ce14e733-216e-40a8-b7e5-56eacd899d2f"
      },
      "source": [
        "accuracy_score(y_test_tfidf,y_predictions_tfidf)"
      ],
      "execution_count": 313,
      "outputs": [
        {
          "output_type": "execute_result",
          "data": {
            "text/plain": [
              "0.7839789888378201"
            ]
          },
          "metadata": {
            "tags": []
          },
          "execution_count": 313
        }
      ]
    },
    {
      "cell_type": "markdown",
      "metadata": {
        "id": "vVMR1S8nRTCQ",
        "colab_type": "text"
      },
      "source": [
        "Let's test this model on the test dataset."
      ]
    },
    {
      "cell_type": "code",
      "metadata": {
        "id": "WNf62VxdRXGh",
        "colab_type": "code",
        "colab": {}
      },
      "source": [
        "test_df_tfidf = pd.read_csv(\"https://raw.githubusercontent.com/yassinhediger/fakenewsdetection/master/data/test.csv\")"
      ],
      "execution_count": 0,
      "outputs": []
    },
    {
      "cell_type": "code",
      "metadata": {
        "id": "wgiXfOxxRpN4",
        "colab_type": "code",
        "colab": {}
      },
      "source": [
        "test_df_tfidf['text'] = test_df_tfidf['text'].apply(lambda x : remove_URL(x))\n",
        "test_df_tfidf['text'] = test_df_tfidf[\"text\"].apply(lambda x: remove_html(x))\n",
        "test_df_tfidf['text'] = test_df_tfidf[\"text\"].apply(lambda x: remove_emoji(x))\n",
        "test_df_tfidf['text'] = test_df_tfidf[\"text\"].apply(lambda x: remove_punctuation(x))\n",
        "test_df_tfidf['text'] = test_df_tfidf['text'].apply(lambda x : clean_text(x))"
      ],
      "execution_count": 0,
      "outputs": []
    },
    {
      "cell_type": "code",
      "metadata": {
        "id": "32ASdIkzRycA",
        "colab_type": "code",
        "colab": {}
      },
      "source": [
        "X_test_tfidf =  tfidf_vectorizer.transform(list(test_df_tfidf['text']))\n",
        "X_test_tfidf = X_test_tfidf.toarray()"
      ],
      "execution_count": 0,
      "outputs": []
    },
    {
      "cell_type": "code",
      "metadata": {
        "id": "3EFIlaSESEa1",
        "colab_type": "code",
        "colab": {}
      },
      "source": [
        "predictions_tfidf = clf_mnb.predict(X_test_tfidf)"
      ],
      "execution_count": 0,
      "outputs": []
    },
    {
      "cell_type": "code",
      "metadata": {
        "id": "EAtd6SwSTB2P",
        "colab_type": "code",
        "colab": {}
      },
      "source": [
        "output = pd.DataFrame(test_df_tfidf.id[:3263])\n",
        "output['target'] = predictions_tfidf"
      ],
      "execution_count": 0,
      "outputs": []
    },
    {
      "cell_type": "code",
      "metadata": {
        "id": "7EbRhvrSTQa7",
        "colab_type": "code",
        "colab": {}
      },
      "source": [
        "output.to_csv('nlp_tfidf_multinomial.csv', index=False)"
      ],
      "execution_count": 0,
      "outputs": []
    },
    {
      "cell_type": "markdown",
      "metadata": {
        "id": "3_-8uz0UVJyb",
        "colab_type": "text"
      },
      "source": [
        "### 4.3 Bag of words and logistic regression\n",
        "\n",
        "Let's try to apply the logistic regression on the count vectorizer."
      ]
    },
    {
      "cell_type": "code",
      "metadata": {
        "id": "7mtsWj8jWUUl",
        "colab_type": "code",
        "colab": {}
      },
      "source": [
        "count_vectorizer = CountVectorizer(lowercase=True,stop_words='english',max_df=0.95,min_df=2)\n",
        "X_cv_lr = count_vectorizer.fit_transform(list(train_df['text']))\n",
        "X_cv_lr = X_cv_lr.toarray()\n",
        "y_cv_lr = train_df['target']"
      ],
      "execution_count": 0,
      "outputs": []
    },
    {
      "cell_type": "code",
      "metadata": {
        "id": "Ld1Bfln1YAwe",
        "colab_type": "code",
        "colab": {}
      },
      "source": [
        "X_train_cvlr, X_test_cvlr, y_train_cvlr, y_test_cvlr = train_test_split(X_cv_lr, y_cv_lr, test_size=0.2, random_state=113)"
      ],
      "execution_count": 0,
      "outputs": []
    },
    {
      "cell_type": "code",
      "metadata": {
        "id": "WPdP1RjmYKaJ",
        "colab_type": "code",
        "colab": {
          "base_uri": "https://localhost:8080/",
          "height": 104
        },
        "outputId": "e7201c1e-e539-4be4-e5e3-08b482e4bfbe"
      },
      "source": [
        "clf_lr = LogisticRegression()\n",
        "clf_lr.fit(X_train_cvlr,y_train_cvlr)"
      ],
      "execution_count": 274,
      "outputs": [
        {
          "output_type": "execute_result",
          "data": {
            "text/plain": [
              "LogisticRegression(C=1.0, class_weight=None, dual=False, fit_intercept=True,\n",
              "                   intercept_scaling=1, l1_ratio=None, max_iter=100,\n",
              "                   multi_class='auto', n_jobs=None, penalty='l2',\n",
              "                   random_state=None, solver='lbfgs', tol=0.0001, verbose=0,\n",
              "                   warm_start=False)"
            ]
          },
          "metadata": {
            "tags": []
          },
          "execution_count": 274
        }
      ]
    },
    {
      "cell_type": "code",
      "metadata": {
        "id": "YxVizL7RYkIS",
        "colab_type": "code",
        "colab": {}
      },
      "source": [
        "y_predictions_cvlr = clf_lr.predict(X_test_cvlr)"
      ],
      "execution_count": 0,
      "outputs": []
    },
    {
      "cell_type": "code",
      "metadata": {
        "id": "NHA5KQrgYstR",
        "colab_type": "code",
        "colab": {
          "base_uri": "https://localhost:8080/",
          "height": 173
        },
        "outputId": "841383d4-ad6c-4e0c-a21e-ba1c4c7ec58d"
      },
      "source": [
        "print(classification_report(y_test_cvlr,predictions_cvlr))"
      ],
      "execution_count": 276,
      "outputs": [
        {
          "output_type": "stream",
          "text": [
            "              precision    recall  f1-score   support\n",
            "\n",
            "           0       0.78      0.86      0.82       845\n",
            "           1       0.80      0.69      0.74       678\n",
            "\n",
            "    accuracy                           0.79      1523\n",
            "   macro avg       0.79      0.78      0.78      1523\n",
            "weighted avg       0.79      0.79      0.79      1523\n",
            "\n"
          ],
          "name": "stdout"
        }
      ]
    },
    {
      "cell_type": "code",
      "metadata": {
        "id": "vpCD9NFKY0N7",
        "colab_type": "code",
        "colab": {
          "base_uri": "https://localhost:8080/",
          "height": 52
        },
        "outputId": "ea4b8ff8-b4d0-4a57-8507-f8459bbf264d"
      },
      "source": [
        "cf_matrix_cvlr = confusion_matrix(y_test_cvlr,y_predictions_cvlr)\n",
        "cf_matrix_cvlr"
      ],
      "execution_count": 277,
      "outputs": [
        {
          "output_type": "execute_result",
          "data": {
            "text/plain": [
              "array([[728, 117],\n",
              "       [207, 471]])"
            ]
          },
          "metadata": {
            "tags": []
          },
          "execution_count": 277
        }
      ]
    },
    {
      "cell_type": "code",
      "metadata": {
        "id": "m7BCiFqpY8mq",
        "colab_type": "code",
        "colab": {
          "base_uri": "https://localhost:8080/",
          "height": 35
        },
        "outputId": "e8e23b50-2068-4a0c-d3a1-f4e22d4ec894"
      },
      "source": [
        "accuracy_score(y_test_cvlr,y_predictions_cvlr)"
      ],
      "execution_count": 278,
      "outputs": [
        {
          "output_type": "execute_result",
          "data": {
            "text/plain": [
              "0.7872619829284307"
            ]
          },
          "metadata": {
            "tags": []
          },
          "execution_count": 278
        }
      ]
    },
    {
      "cell_type": "markdown",
      "metadata": {
        "id": "z7DEZlbKaAWE",
        "colab_type": "text"
      },
      "source": [
        "Let's test our model on the test dataset."
      ]
    },
    {
      "cell_type": "code",
      "metadata": {
        "colab_type": "code",
        "id": "mCCD2kNnaKou",
        "colab": {}
      },
      "source": [
        "test_df_cvlr = pd.read_csv(\"https://raw.githubusercontent.com/yassinhediger/fakenewsdetection/master/data/test.csv\")"
      ],
      "execution_count": 0,
      "outputs": []
    },
    {
      "cell_type": "code",
      "metadata": {
        "colab_type": "code",
        "id": "koQYHBlYaKox",
        "colab": {}
      },
      "source": [
        "test_df_cvlr['text'] = test_df_cvlr['text'].apply(lambda x : remove_URL(x))\n",
        "test_df_cvlr['text'] = test_df_cvlr[\"text\"].apply(lambda x: remove_html(x))\n",
        "test_df_cvlr['text'] = test_df_cvlr[\"text\"].apply(lambda x: remove_emoji(x))\n",
        "test_df_cvlr['text'] = test_df_cvlr[\"text\"].apply(lambda x: remove_punctuation(x))\n",
        "test_df_cvlr['text'] = test_df_cvlr['text'].apply(lambda x : clean_text(x))"
      ],
      "execution_count": 0,
      "outputs": []
    },
    {
      "cell_type": "code",
      "metadata": {
        "colab_type": "code",
        "id": "4TVdKnzNaKoz",
        "colab": {}
      },
      "source": [
        "X_test_cvlr =  count_vectorizer.transform(list(test_df_cvlr['text']))\n",
        "X_test_cvlr = X_test_cvlr.toarray()"
      ],
      "execution_count": 0,
      "outputs": []
    },
    {
      "cell_type": "code",
      "metadata": {
        "colab_type": "code",
        "id": "6-GJogyyaKo0",
        "colab": {}
      },
      "source": [
        "predictions_cvlr = clf_lr.predict(X_test_cvlr)"
      ],
      "execution_count": 0,
      "outputs": []
    },
    {
      "cell_type": "code",
      "metadata": {
        "colab_type": "code",
        "id": "7B_J6mK_aKo2",
        "colab": {}
      },
      "source": [
        "output = pd.DataFrame(test_df_cvlr.id[:3263])\n",
        "output['target'] = predictions_cvlr"
      ],
      "execution_count": 0,
      "outputs": []
    },
    {
      "cell_type": "code",
      "metadata": {
        "colab_type": "code",
        "id": "WTihj9-kaKo5",
        "colab": {}
      },
      "source": [
        "output.to_csv('nlp_countvect_logisticregression.csv', index=False)"
      ],
      "execution_count": 0,
      "outputs": []
    },
    {
      "cell_type": "markdown",
      "metadata": {
        "colab_type": "text",
        "id": "RKanGgdCcDKy"
      },
      "source": [
        "### 4.4 TFIDF + logisticregression\n",
        "\n",
        "Now, let's look into a better approach for text processing, an embedding technique called tf-idf and apply logistic regression on it."
      ]
    },
    {
      "cell_type": "code",
      "metadata": {
        "colab_type": "code",
        "id": "ivwkvqEhcDK2",
        "colab": {}
      },
      "source": [
        "tfidf_vectorizer = TfidfVectorizer(max_df = 0.95, min_df = 2, stop_words = 'english')"
      ],
      "execution_count": 0,
      "outputs": []
    },
    {
      "cell_type": "code",
      "metadata": {
        "colab_type": "code",
        "id": "NEeiLFjYcDK8",
        "colab": {}
      },
      "source": [
        "X_tfidf_lr = train_df['text']\n",
        "y_tfidf_lr = train_df['target']\n",
        "X_train_tfidf_lr, X_test_tfidf_lr, y_train_tfidf_lr, y_test_tfidf_lr = train_test_split(X_tfidf_lr, y_tfidf_lr, test_size=0.2, random_state=113)"
      ],
      "execution_count": 0,
      "outputs": []
    },
    {
      "cell_type": "code",
      "metadata": {
        "colab_type": "code",
        "id": "IMLOKiczcDK-",
        "colab": {}
      },
      "source": [
        "X_train_tfidf_lr = tfidf_vectorizer.fit_transform(X_train_tfidf_lr)"
      ],
      "execution_count": 0,
      "outputs": []
    },
    {
      "cell_type": "code",
      "metadata": {
        "colab_type": "code",
        "id": "Eqo6TvUOcDK_",
        "colab": {}
      },
      "source": [
        "X_test_tfidf_lr = tfidf_vectorizer.transform(X_test_tfidf_lr)"
      ],
      "execution_count": 0,
      "outputs": []
    },
    {
      "cell_type": "code",
      "metadata": {
        "colab_type": "code",
        "outputId": "23806c78-3353-4a6e-cdb4-6ac55dfa8eb2",
        "id": "BjoRDvk4cDLB",
        "colab": {
          "base_uri": "https://localhost:8080/",
          "height": 104
        }
      },
      "source": [
        "clf_lr = LogisticRegression()\n",
        "clf_lr.fit(X_train_tfidf_lr,y_train_tfidf_lr)"
      ],
      "execution_count": 290,
      "outputs": [
        {
          "output_type": "execute_result",
          "data": {
            "text/plain": [
              "LogisticRegression(C=1.0, class_weight=None, dual=False, fit_intercept=True,\n",
              "                   intercept_scaling=1, l1_ratio=None, max_iter=100,\n",
              "                   multi_class='auto', n_jobs=None, penalty='l2',\n",
              "                   random_state=None, solver='lbfgs', tol=0.0001, verbose=0,\n",
              "                   warm_start=False)"
            ]
          },
          "metadata": {
            "tags": []
          },
          "execution_count": 290
        }
      ]
    },
    {
      "cell_type": "code",
      "metadata": {
        "colab_type": "code",
        "outputId": "12708b22-1f3c-445c-f0a1-a3073d1c88e9",
        "id": "DC9JqBUHcDLE",
        "colab": {
          "base_uri": "https://localhost:8080/",
          "height": 173
        }
      },
      "source": [
        "y_predictions_tfidf_lr = clf_lr.predict(X_test_tfidf_lr)\n",
        "print(classification_report(y_test_tfidf_lr,y_predictions_tfidf_lr))"
      ],
      "execution_count": 291,
      "outputs": [
        {
          "output_type": "stream",
          "text": [
            "              precision    recall  f1-score   support\n",
            "\n",
            "           0       0.78      0.89      0.83       845\n",
            "           1       0.84      0.68      0.75       678\n",
            "\n",
            "    accuracy                           0.80      1523\n",
            "   macro avg       0.81      0.79      0.79      1523\n",
            "weighted avg       0.80      0.80      0.80      1523\n",
            "\n"
          ],
          "name": "stdout"
        }
      ]
    },
    {
      "cell_type": "code",
      "metadata": {
        "colab_type": "code",
        "outputId": "23620e57-d225-4a3d-bc8b-1b42be36af43",
        "id": "h83zoz1ScDLG",
        "colab": {
          "base_uri": "https://localhost:8080/",
          "height": 52
        }
      },
      "source": [
        "cf_matrix_tfidf_lr = confusion_matrix(y_test_tfidf_lr,y_predictions_tfidf_lr)\n",
        "cf_matrix_tfidf_lr"
      ],
      "execution_count": 292,
      "outputs": [
        {
          "output_type": "execute_result",
          "data": {
            "text/plain": [
              "array([[756,  89],\n",
              "       [217, 461]])"
            ]
          },
          "metadata": {
            "tags": []
          },
          "execution_count": 292
        }
      ]
    },
    {
      "cell_type": "code",
      "metadata": {
        "colab_type": "code",
        "outputId": "cd1ec2d6-e10c-4d8c-c2e0-ba0ac9e80124",
        "id": "KZW291clcDLH",
        "colab": {
          "base_uri": "https://localhost:8080/",
          "height": 35
        }
      },
      "source": [
        "accuracy_score(y_test_tfidf_lr,y_predictions_tfidf_lr)"
      ],
      "execution_count": 293,
      "outputs": [
        {
          "output_type": "execute_result",
          "data": {
            "text/plain": [
              "0.799080761654629"
            ]
          },
          "metadata": {
            "tags": []
          },
          "execution_count": 293
        }
      ]
    },
    {
      "cell_type": "markdown",
      "metadata": {
        "colab_type": "text",
        "id": "CsrUIieBcDLJ"
      },
      "source": [
        "Let's test this model on the test dataset."
      ]
    },
    {
      "cell_type": "code",
      "metadata": {
        "colab_type": "code",
        "id": "cc0sP869cDLJ",
        "colab": {}
      },
      "source": [
        "test_df_tfidf_lr = pd.read_csv(\"https://raw.githubusercontent.com/yassinhediger/fakenewsdetection/master/data/test.csv\")"
      ],
      "execution_count": 0,
      "outputs": []
    },
    {
      "cell_type": "code",
      "metadata": {
        "colab_type": "code",
        "id": "W8yx9Tf8cDLL",
        "colab": {}
      },
      "source": [
        "test_df_tfidf_lr['text'] = test_df_tfidf_lr['text'].apply(lambda x : remove_URL(x))\n",
        "test_df_tfidf_lr['text'] = test_df_tfidf_lr[\"text\"].apply(lambda x: remove_html(x))\n",
        "test_df_tfidf_lr['text'] = test_df_tfidf_lr[\"text\"].apply(lambda x: remove_emoji(x))\n",
        "test_df_tfidf_lr['text'] = test_df_tfidf_lr[\"text\"].apply(lambda x: remove_punctuation(x))\n",
        "test_df_tfidf_lr['text'] = test_df_tfidf_lr['text'].apply(lambda x : clean_text(x))"
      ],
      "execution_count": 0,
      "outputs": []
    },
    {
      "cell_type": "code",
      "metadata": {
        "colab_type": "code",
        "id": "bjBNBvaGcDLM",
        "colab": {}
      },
      "source": [
        "X_test_tfidf_lr =  tfidf_vectorizer.transform(list(test_df_tfidf_lr['text']))\n",
        "X_test_tfidf_lr = X_test_tfidf_lr.toarray()"
      ],
      "execution_count": 0,
      "outputs": []
    },
    {
      "cell_type": "code",
      "metadata": {
        "colab_type": "code",
        "id": "PaNxOsKScDLP",
        "colab": {}
      },
      "source": [
        "predictions_tfidf_lr = clf_lr.predict(X_test_tfidf_lr)"
      ],
      "execution_count": 0,
      "outputs": []
    },
    {
      "cell_type": "code",
      "metadata": {
        "colab_type": "code",
        "id": "5LI5RQFCcDLQ",
        "colab": {}
      },
      "source": [
        "output = pd.DataFrame(test_df_tfidf_lr.id[:3263])\n",
        "output['target'] = predictions_tfidf_lr"
      ],
      "execution_count": 0,
      "outputs": []
    },
    {
      "cell_type": "code",
      "metadata": {
        "colab_type": "code",
        "id": "DbjrEhhBcDLS",
        "colab": {}
      },
      "source": [
        "output.to_csv('nlp_tfidf_logisticregression.csv', index=False)"
      ],
      "execution_count": 0,
      "outputs": []
    },
    {
      "cell_type": "markdown",
      "metadata": {
        "id": "9ExkfW-_7Oh9",
        "colab_type": "text"
      },
      "source": [
        "## Submission Log\n",
        "\n",
        "\n",
        "*   21.05 : 4.1 count vectorizer + naive bayes, score = 0.78323\n",
        "*   21.05 : 4.2 tfidf vectorizer + naive bayes, score = 0.80061\n",
        "*   21.05 : 4.3 count vectorizer + logistic regression, score = 0.80163\n",
        "* 21.05 : 4.4 tfidf vectorizer + logistic regression, score = 0.79754\n",
        "\n",
        "\n"
      ]
    },
    {
      "cell_type": "markdown",
      "metadata": {
        "id": "-mmYEoTXBVxf",
        "colab_type": "text"
      },
      "source": [
        "## 4. Transforming tokens to a vector"
      ]
    },
    {
      "cell_type": "markdown",
      "metadata": {
        "id": "ZiiAmA7dZeeV",
        "colab_type": "text"
      },
      "source": [
        "\n",
        "### **Enter embeddings**\n",
        "\n",
        "A natural way to represent text for computers is to encode each character individually, this seems quite inadequate to represent and understand language. Our goal is to first create a useful embedding for each sentence (or tweet) in our dataset, and then use these embeddings to accurately predict the relevant category.\n",
        "\n",
        "The simplest approach we can start with is to use a bag of words model, and apply a logistic regression on top. A bag of words just associates an index to each word in our vocabulary, and embeds each sentence as a list of 0s, with a 1 at each index corresponding to a word present in the sentence.\n"
      ]
    },
    {
      "cell_type": "markdown",
      "metadata": {
        "id": "lQP5Kg2xXLAx",
        "colab_type": "text"
      },
      "source": [
        "### **Bags of words**"
      ]
    },
    {
      "cell_type": "code",
      "metadata": {
        "id": "3RUOUcysXSZy",
        "colab_type": "code",
        "colab": {
          "base_uri": "https://localhost:8080/",
          "height": 235
        },
        "outputId": "726a22b7-28a5-4536-9219-12d45f11e5a3"
      },
      "source": [
        "#def cv(data):\n",
        " #   count_vectorizer = CountVectorizer(preprocessor=text_preprocessing)\n",
        "#\n",
        " #   emb = count_vectorizer.fit_transform(data)\n",
        "#\n",
        " #   return emb, count_vectorizer\n",
        "#\n",
        "#list_text = train_df[\"text\"].tolist()\n",
        "#list_labels = train_df[\"target\"].tolist()\n",
        "#\n",
        "#X_train, X_test, y_train, y_test = train_test_split(list_text, list_labels, test_size=0.2, \n",
        "#                                                                                random_state=40)\n",
        "#\n",
        "#X_train_counts, count_vectorizer = cv(X_train)\n",
        "#X_test_counts = count_vectorizer.transform(X_test)\n",
        "\n",
        "count_vectorizer = CountVectorizer(preprocessor=text_preprocessing)\n",
        "train_vectors = count_vectorizer.fit_transform(train_df['text'])\n",
        "test_vectors = count_vectorizer.transform(test_df[\"text\"])\n"
      ],
      "execution_count": 211,
      "outputs": [
        {
          "output_type": "error",
          "ename": "NameError",
          "evalue": "ignored",
          "traceback": [
            "\u001b[0;31m---------------------------------------------------------------------------\u001b[0m",
            "\u001b[0;31mNameError\u001b[0m                                 Traceback (most recent call last)",
            "\u001b[0;32m<ipython-input-211-f2619c19a8fc>\u001b[0m in \u001b[0;36m<module>\u001b[0;34m()\u001b[0m\n\u001b[1;32m     15\u001b[0m \u001b[0;31m#X_test_counts = count_vectorizer.transform(X_test)\u001b[0m\u001b[0;34m\u001b[0m\u001b[0;34m\u001b[0m\u001b[0;34m\u001b[0m\u001b[0m\n\u001b[1;32m     16\u001b[0m \u001b[0;34m\u001b[0m\u001b[0m\n\u001b[0;32m---> 17\u001b[0;31m \u001b[0mcount_vectorizer\u001b[0m \u001b[0;34m=\u001b[0m \u001b[0mCountVectorizer\u001b[0m\u001b[0;34m(\u001b[0m\u001b[0mpreprocessor\u001b[0m\u001b[0;34m=\u001b[0m\u001b[0mtext_preprocessing\u001b[0m\u001b[0;34m)\u001b[0m\u001b[0;34m\u001b[0m\u001b[0;34m\u001b[0m\u001b[0m\n\u001b[0m\u001b[1;32m     18\u001b[0m \u001b[0mtrain_vectors\u001b[0m \u001b[0;34m=\u001b[0m \u001b[0mcount_vectorizer\u001b[0m\u001b[0;34m.\u001b[0m\u001b[0mfit_transform\u001b[0m\u001b[0;34m(\u001b[0m\u001b[0mtrain_df\u001b[0m\u001b[0;34m[\u001b[0m\u001b[0;34m'text'\u001b[0m\u001b[0;34m]\u001b[0m\u001b[0;34m)\u001b[0m\u001b[0;34m\u001b[0m\u001b[0;34m\u001b[0m\u001b[0m\n\u001b[1;32m     19\u001b[0m \u001b[0mtest_vectors\u001b[0m \u001b[0;34m=\u001b[0m \u001b[0mcount_vectorizer\u001b[0m\u001b[0;34m.\u001b[0m\u001b[0mtransform\u001b[0m\u001b[0;34m(\u001b[0m\u001b[0mtest_df\u001b[0m\u001b[0;34m[\u001b[0m\u001b[0;34m\"text\"\u001b[0m\u001b[0;34m]\u001b[0m\u001b[0;34m)\u001b[0m\u001b[0;34m\u001b[0m\u001b[0;34m\u001b[0m\u001b[0m\n",
            "\u001b[0;31mNameError\u001b[0m: name 'text_preprocessing' is not defined"
          ]
        }
      ]
    },
    {
      "cell_type": "markdown",
      "metadata": {
        "id": "APcJpb2jZtF4",
        "colab_type": "text"
      },
      "source": [
        "\n",
        "### **Visualizing the embeddings**\n",
        "\n",
        "Now that we've created embeddings, let's visualize them and see if we can identify some structure. In a perfect world, our embeddings would be so distinct that are two classes would be perfectly separated. Since visualizing data in 20k dimensions is hard, let's project it down to 2.\n"
      ]
    },
    {
      "cell_type": "code",
      "metadata": {
        "id": "jj_QClULZ6Ji",
        "colab_type": "code",
        "colab": {}
      },
      "source": [
        "from sklearn.decomposition import PCA, TruncatedSVD\n",
        "import matplotlib\n",
        "import matplotlib.patches as mpatches\n",
        "\n",
        "\n",
        "def plot_LSA(test_data, test_labels, plot=True):\n",
        "        lsa = TruncatedSVD(n_components=2)\n",
        "        lsa.fit(test_data)\n",
        "        lsa_scores = lsa.transform(test_data)\n",
        "        color_mapper = {label:idx for idx,label in enumerate(set(test_labels))}\n",
        "        color_column = [color_mapper[label] for label in test_labels]\n",
        "        colors = ['orange','blue','blue']\n",
        "        if plot:\n",
        "            plt.scatter(lsa_scores[:,0], lsa_scores[:,1], s=8, alpha=.8, c=test_labels, cmap=matplotlib.colors.ListedColormap(colors))\n",
        "            red_patch = mpatches.Patch(color='orange', label='0')\n",
        "            green_patch = mpatches.Patch(color='blue', label='1')\n",
        "            plt.legend(handles=[red_patch, green_patch], prop={'size': 30})\n",
        "\n",
        "\n",
        "fig = plt.figure(figsize=(16, 16))          \n",
        "plot_LSA(X_train_counts, y_train)\n",
        "plt.show()"
      ],
      "execution_count": 0,
      "outputs": []
    },
    {
      "cell_type": "markdown",
      "metadata": {
        "id": "0s_Sb31FaMVG",
        "colab_type": "text"
      },
      "source": [
        "These embeddings don't look very cleanly separated. Let's see if we can still fit a useful model on them."
      ]
    },
    {
      "cell_type": "markdown",
      "metadata": {
        "id": "K8hngd4iaNV3",
        "colab_type": "text"
      },
      "source": [
        "\n",
        "### **Fitting a classifier**\n",
        "\n",
        "Starting with a logistic regression is a good idea. It is simple and easy to interpret.\n"
      ]
    },
    {
      "cell_type": "code",
      "metadata": {
        "id": "F8e_Fq3iaXki",
        "colab_type": "code",
        "colab": {}
      },
      "source": [
        "#C=1, class_weight='balanced', solver='newton-cg', multi_class='multinomial', n_jobs=-1, random_state=40\n",
        "clf = LogisticRegression()\n",
        "clf.fit(X_train_counts, y_train)\n",
        "\n",
        "y_predicted_counts = clf.predict(X_test_counts)"
      ],
      "execution_count": 0,
      "outputs": []
    },
    {
      "cell_type": "markdown",
      "metadata": {
        "id": "k52w4ozgambv",
        "colab_type": "text"
      },
      "source": [
        "\n",
        "### **Evaluation**\n",
        "\n",
        "Let's start by looking at some metrics to see if our classifier performed well at all.\n"
      ]
    },
    {
      "cell_type": "code",
      "metadata": {
        "id": "CUOCIf9IaphY",
        "colab_type": "code",
        "colab": {}
      },
      "source": [
        "from sklearn.metrics import accuracy_score, f1_score, precision_score, recall_score, classification_report\n",
        "\n",
        "def get_metrics(y_test, y_predicted):  \n",
        "    # true positives / (true positives+false positives)\n",
        "    precision = precision_score(y_test, y_predicted, pos_label=None,\n",
        "                                    average='weighted')             \n",
        "    # true positives / (true positives + false negatives)\n",
        "    recall = recall_score(y_test, y_predicted, pos_label=None,\n",
        "                              average='weighted')\n",
        "    \n",
        "    # harmonic mean of precision and recall\n",
        "    f1 = f1_score(y_test, y_predicted, pos_label=None, average='weighted')\n",
        "    \n",
        "    # true positives + true negatives/ total\n",
        "    accuracy = accuracy_score(y_test, y_predicted)\n",
        "    return accuracy, precision, recall, f1\n",
        "\n",
        "accuracy, precision, recall, f1 = get_metrics(y_test, y_predicted_counts)\n",
        "print(\"accuracy = %.3f, precision = %.3f, recall = %.3f, f1 = %.3f\" % (accuracy, precision, recall, f1))"
      ],
      "execution_count": 0,
      "outputs": []
    },
    {
      "cell_type": "markdown",
      "metadata": {
        "id": "X5qECp4_rahl",
        "colab_type": "text"
      },
      "source": [
        "### **Inspection**\n",
        "\n",
        "A metric is one thing, but in order to make an actionnable decision, we need to actually inspect the kind of mistakes our classifier is making. Let's start by looking at the confusion matrix."
      ]
    },
    {
      "cell_type": "code",
      "metadata": {
        "id": "5NTt4RYTrjUF",
        "colab_type": "code",
        "colab": {}
      },
      "source": [
        "import itertools\n",
        "from sklearn.metrics import confusion_matrix\n",
        "\n",
        "def plot_confusion_matrix(cm, classes,\n",
        "                          normalize=False,\n",
        "                          title='Confusion matrix',\n",
        "                          cmap=plt.cm.winter):\n",
        "    if normalize:\n",
        "        cm = cm.astype('float') / cm.sum(axis=1)[:, np.newaxis]\n",
        "    plt.imshow(cm, interpolation='nearest', cmap=cmap)\n",
        "    plt.title(title, fontsize=30)\n",
        "    plt.colorbar()\n",
        "    tick_marks = np.arange(len(classes))\n",
        "    plt.xticks(tick_marks, classes, fontsize=20)\n",
        "    plt.yticks(tick_marks, classes, fontsize=20)\n",
        "    \n",
        "    fmt = '.2f' if normalize else 'd'\n",
        "    thresh = cm.max() / 2.\n",
        "\n",
        "    for i, j in itertools.product(range(cm.shape[0]), range(cm.shape[1])):\n",
        "        plt.text(j, i, format(cm[i, j], fmt), horizontalalignment=\"center\", \n",
        "                 color=\"white\" if cm[i, j] < thresh else \"black\", fontsize=40)\n",
        "    \n",
        "    plt.tight_layout()\n",
        "    plt.ylabel('True label', fontsize=30)\n",
        "    plt.xlabel('Predicted label', fontsize=30)\n",
        "\n",
        "    return plt"
      ],
      "execution_count": 0,
      "outputs": []
    },
    {
      "cell_type": "code",
      "metadata": {
        "id": "c1CHKMKsrw1d",
        "colab_type": "code",
        "colab": {}
      },
      "source": [
        "cm = confusion_matrix(y_test, y_predicted_counts)\n",
        "fig = plt.figure(figsize=(10, 10))\n",
        "plot = plot_confusion_matrix(cm, classes=['0','1'], normalize=False, title='Confusion matrix')\n",
        "plt.show()\n",
        "print(cm)"
      ],
      "execution_count": 0,
      "outputs": []
    },
    {
      "cell_type": "code",
      "metadata": {
        "id": "tf-Y6TaftUKV",
        "colab_type": "code",
        "colab": {}
      },
      "source": [
        "sample_submission = pd.read_csv(\"https://raw.githubusercontent.com/yassinhediger/fakenewsdetection/master/data/sample_submission.csv\")\n",
        "y_predicted_countsvect = clf.predict(test_df)\n",
        "#y_predicted_countsvect = np.round(y_predicted_countsvect).astype(int).reshape(3263)\n",
        "sample_submission[\"target\"] = y_predicted_countsvect\n",
        "sample_submission.to_csv(\"submission_countvect.csv\", index=False)\n"
      ],
      "execution_count": 0,
      "outputs": []
    },
    {
      "cell_type": "markdown",
      "metadata": {
        "id": "30Vbjqdapkaw",
        "colab_type": "text"
      },
      "source": [
        "### **TFIDF Bag of Words**\n",
        "\n",
        "Let's try a slightly more subtle approach. On top of our bag of words model, we use a TF-IDF (Term Frequency, Inverse Document Frequency) which means weighing words by how frequent they are in our dataset, discounting words that are too frequent, as they just add to the noise."
      ]
    },
    {
      "cell_type": "code",
      "metadata": {
        "id": "FkgTTRAWpu8O",
        "colab_type": "code",
        "colab": {}
      },
      "source": [
        "def tfidf(data):\n",
        "    tfidf_vectorizer = TfidfVectorizer(preprocessor=text_preprocessing)\n",
        "\n",
        "    train = tfidf_vectorizer.fit_transform(data)\n",
        "\n",
        "    return train, tfidf_vectorizer\n",
        "\n",
        "X_train, X_test, y_train, y_test = train_test_split(list_text, list_labels, test_size=0.2, \n",
        "                                                                                random_state=40)\n",
        "\n",
        "X_train_tfidf, tfidf_vectorizer = tfidf(X_train)\n",
        "X_test_tfidf = tfidf_vectorizer.transform(X_test)"
      ],
      "execution_count": 0,
      "outputs": []
    },
    {
      "cell_type": "code",
      "metadata": {
        "id": "OxLwjrodqcZg",
        "colab_type": "code",
        "colab": {}
      },
      "source": [
        "fig = plt.figure(figsize=(16, 16))          \n",
        "plot_LSA(X_train_tfidf, y_train)\n",
        "plt.show()"
      ],
      "execution_count": 0,
      "outputs": []
    },
    {
      "cell_type": "markdown",
      "metadata": {
        "id": "CapD7KFyqjEC",
        "colab_type": "text"
      },
      "source": [
        "These embeddings look much more separated, let's see if it leads to better performance."
      ]
    },
    {
      "cell_type": "code",
      "metadata": {
        "id": "HimP5hkFqko_",
        "colab_type": "code",
        "colab": {}
      },
      "source": [
        "#C=1, class_weight='balanced', solver='newton-cg', multi_class='multinomial', random_state=111\n",
        "clf_tfidf = LogisticRegression()\n",
        "clf_tfidf.fit(X_train_tfidf, y_train)\n",
        "\n",
        "y_predicted_tfidf = clf_tfidf.predict(X_test_tfidf)"
      ],
      "execution_count": 0,
      "outputs": []
    },
    {
      "cell_type": "code",
      "metadata": {
        "id": "d6WHFr1oqtgy",
        "colab_type": "code",
        "colab": {}
      },
      "source": [
        "accuracy_tfidf, precision_tfidf, recall_tfidf, f1_tfidf = get_metrics(y_test, y_predicted_tfidf)\n",
        "print(\"accuracy = %.3f, precision = %.3f, recall = %.3f, f1 = %.3f\" % (accuracy_tfidf, precision_tfidf, recall_tfidf, f1_tfidf))"
      ],
      "execution_count": 0,
      "outputs": []
    },
    {
      "cell_type": "markdown",
      "metadata": {
        "id": "YxXLYa_LtdNp",
        "colab_type": "text"
      },
      "source": [
        "The results are a little better, let's see if they translate to an actual difference in our use case."
      ]
    },
    {
      "cell_type": "code",
      "metadata": {
        "id": "9fnbsPYMtfuH",
        "colab_type": "code",
        "colab": {}
      },
      "source": [
        "cm2 = confusion_matrix(y_test, y_predicted_tfidf)\n",
        "fig = plt.figure(figsize=(10, 10))\n",
        "plot = plot_confusion_matrix(cm2, classes=['0','1'], normalize=False, title='Confusion matrix')\n",
        "plt.show()\n",
        "print(\"TFIDF confusion matrix\")\n",
        "print(cm2)\n",
        "print(\"Bag of Words confusion matrix\")\n",
        "print(cm)"
      ],
      "execution_count": 0,
      "outputs": []
    },
    {
      "cell_type": "markdown",
      "metadata": {
        "id": "s1npbpryXnmE",
        "colab_type": "text"
      },
      "source": [
        "### **Naive Bayes classifier for multinomial models**\n",
        "\n",
        "The multinomial Naive Bayes classifier is suitable for classification with discrete features (e.g., word counts for text classification). The multinomial distribution normally requires integer feature counts. However, in practice, fractional counts such as tf-idf may also work."
      ]
    },
    {
      "cell_type": "code",
      "metadata": {
        "id": "iGDNdcb8XtTP",
        "colab_type": "code",
        "colab": {}
      },
      "source": [
        "clf_NB = MultinomialNB()\n",
        "clf_NB.fit(X_train_counts, y_train)"
      ],
      "execution_count": 0,
      "outputs": []
    },
    {
      "cell_type": "code",
      "metadata": {
        "id": "Wkp9j0PhfcX3",
        "colab_type": "code",
        "colab": {}
      },
      "source": [
        "y_predicted_NB = clf_NB.predict(X_test_counts)"
      ],
      "execution_count": 0,
      "outputs": []
    },
    {
      "cell_type": "code",
      "metadata": {
        "id": "iwmUI7DPgFHS",
        "colab_type": "code",
        "colab": {}
      },
      "source": [
        "accuracy_NB, precision_NB, recall_NB, f1_NB = get_metrics(y_test, y_predicted_NB)\n",
        "print(\"accuracy = %.3f, precision = %.3f, recall = %.3f, f1 = %.3f\" % (accuracy_NB, precision_NB, recall_NB, f1_NB))"
      ],
      "execution_count": 0,
      "outputs": []
    },
    {
      "cell_type": "code",
      "metadata": {
        "id": "9tyarjS8fndG",
        "colab_type": "code",
        "colab": {}
      },
      "source": [
        "cm3 = confusion_matrix(y_test, y_predicted_NB)\n",
        "fig = plt.figure(figsize=(10, 10))\n",
        "plot = plot_confusion_matrix(cm3, classes=['0','1'], normalize=False, title='Confusion matrix')\n",
        "plt.show()"
      ],
      "execution_count": 0,
      "outputs": []
    },
    {
      "cell_type": "markdown",
      "metadata": {
        "id": "WMkRiGUCg8Ta",
        "colab_type": "text"
      },
      "source": [
        "naive bays multinomial on tfidf"
      ]
    },
    {
      "cell_type": "code",
      "metadata": {
        "id": "qduPZsQsg3Qz",
        "colab_type": "code",
        "colab": {}
      },
      "source": [
        "clf_NB = MultinomialNB()\n",
        "clf_NB.fit(X_train_tfidf, y_train)"
      ],
      "execution_count": 0,
      "outputs": []
    },
    {
      "cell_type": "code",
      "metadata": {
        "id": "iLhJAT5xhTCi",
        "colab_type": "code",
        "colab": {}
      },
      "source": [
        "y_predicted_NB_tfidf = clf_NB.predict(X_test_tfidf)"
      ],
      "execution_count": 0,
      "outputs": []
    },
    {
      "cell_type": "code",
      "metadata": {
        "id": "rHHObNK3hYei",
        "colab_type": "code",
        "colab": {}
      },
      "source": [
        "accuracy_NB_tfidf, precision_NB_tfidf, recall_NB_tfidf, f1_NB_tfidf = get_metrics(y_test, y_predicted_NB_tfidf)\n",
        "print(\"accuracy = %.3f, precision = %.3f, recall = %.3f, f1 = %.3f\" % (accuracy_NB_tfidf, precision_NB_tfidf, recall_NB_tfidf, f1_NB_tfidf))"
      ],
      "execution_count": 0,
      "outputs": []
    },
    {
      "cell_type": "markdown",
      "metadata": {
        "id": "flJt5NzLi0uA",
        "colab_type": "text"
      },
      "source": [
        "### **KNN Classifier**"
      ]
    },
    {
      "cell_type": "code",
      "metadata": {
        "id": "Gb2HrFxckvsK",
        "colab_type": "code",
        "colab": {}
      },
      "source": [
        "from sklearn.neighbors import KNeighborsClassifier\n",
        "knn = KNeighborsClassifier(n_neighbors=5)"
      ],
      "execution_count": 0,
      "outputs": []
    },
    {
      "cell_type": "code",
      "metadata": {
        "id": "t7_QRBJ3x5r1",
        "colab_type": "code",
        "colab": {}
      },
      "source": [
        "clf_knn = knn.fit(X_train_counts, y_train)"
      ],
      "execution_count": 0,
      "outputs": []
    },
    {
      "cell_type": "code",
      "metadata": {
        "id": "I7bg97AgzMAF",
        "colab_type": "code",
        "colab": {}
      },
      "source": [
        "y_predicted_knn = clf_knn.predict(X_test_counts)"
      ],
      "execution_count": 0,
      "outputs": []
    },
    {
      "cell_type": "code",
      "metadata": {
        "id": "44hwVIXGzhcz",
        "colab_type": "code",
        "colab": {}
      },
      "source": [
        "accuracy_knn_count, precision_knn_count, recall_knn_count, f1_knn_count = get_metrics(y_test, y_predicted_knn)\n",
        "print(\"accuracy = %.3f, precision = %.3f, recall = %.3f, f1 = %.3f\" % (accuracy_knn_count, precision_knn_count, recall_knn_count, f1_knn_count))"
      ],
      "execution_count": 0,
      "outputs": []
    },
    {
      "cell_type": "code",
      "metadata": {
        "id": "r3e1cUTz0Mnd",
        "colab_type": "code",
        "colab": {}
      },
      "source": [
        "clf_knn_tfidf = knn.fit(X_train_tfidf, y_train)"
      ],
      "execution_count": 0,
      "outputs": []
    },
    {
      "cell_type": "code",
      "metadata": {
        "id": "5osjozrV0SuR",
        "colab_type": "code",
        "colab": {}
      },
      "source": [
        "y_predicted_knn_tfidf = clf_knn_tfidf.predict(X_test_tfidf)"
      ],
      "execution_count": 0,
      "outputs": []
    },
    {
      "cell_type": "code",
      "metadata": {
        "id": "F11P7o870bG5",
        "colab_type": "code",
        "colab": {}
      },
      "source": [
        "accuracy_knn_count, precision_knn_count, recall_knn_count, f1_knn_count = get_metrics(y_test, y_predicted_knn_tfidf)\n",
        "print(\"accuracy = %.3f, precision = %.3f, recall = %.3f, f1 = %.3f\" % (accuracy_knn_count, precision_knn_count, recall_knn_count, f1_knn_count))"
      ],
      "execution_count": 0,
      "outputs": []
    }
  ]
}